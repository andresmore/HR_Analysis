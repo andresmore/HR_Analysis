{
 "cells": [
  {
   "cell_type": "code",
   "execution_count": 2,
   "metadata": {
    "ExecuteTime": {
     "end_time": "2019-05-27T15:23:24.143993Z",
     "start_time": "2019-05-27T15:23:24.140032Z"
    }
   },
   "outputs": [],
   "source": [
    "import pandas as pd"
   ]
  },
  {
   "cell_type": "code",
   "execution_count": 3,
   "metadata": {
    "ExecuteTime": {
     "end_time": "2019-05-27T15:23:26.378195Z",
     "start_time": "2019-05-27T15:23:24.837141Z"
    }
   },
   "outputs": [],
   "source": [
    "%matplotlib inline\n",
    "import numpy as np\n",
    "import matplotlib.pyplot as plt"
   ]
  },
  {
   "cell_type": "code",
   "execution_count": 4,
   "metadata": {
    "ExecuteTime": {
     "end_time": "2019-05-27T15:23:30.716587Z",
     "start_time": "2019-05-27T15:23:26.379047Z"
    }
   },
   "outputs": [],
   "source": [
    "import seaborn as sns"
   ]
  },
  {
   "cell_type": "code",
   "execution_count": 5,
   "metadata": {
    "ExecuteTime": {
     "end_time": "2019-05-27T15:23:31.368680Z",
     "start_time": "2019-05-27T15:23:31.364691Z"
    }
   },
   "outputs": [],
   "source": [
    "import os"
   ]
  },
  {
   "cell_type": "code",
   "execution_count": 6,
   "metadata": {
    "ExecuteTime": {
     "end_time": "2019-05-27T15:23:34.661048Z",
     "start_time": "2019-05-27T15:23:31.940153Z"
    }
   },
   "outputs": [],
   "source": [
    "from sklearn.cluster import DBSCAN\n",
    "from sklearn import metrics\n",
    "from sklearn import preprocessing"
   ]
  },
  {
   "cell_type": "code",
   "execution_count": 7,
   "metadata": {
    "ExecuteTime": {
     "end_time": "2019-05-27T15:23:34.669883Z",
     "start_time": "2019-05-27T15:23:34.661877Z"
    }
   },
   "outputs": [],
   "source": [
    "def convert_to_vect(Q,R,S,T):\n",
    "    resp=np.empty((0,4))\n",
    "    end:Boolean= False\n",
    "    idx_q=0    \n",
    "    idx_r=0\n",
    "    idx_s=0\n",
    "    idx_t=0\n",
    "\n",
    "    \n",
    "    while not end:\n",
    "        try:\n",
    "            q=Q[idx_q]\n",
    "            r=R[idx_r]\n",
    "            s=S[idx_s]\n",
    "            t=T[idx_t]\n",
    "        except IndexError:\n",
    "                end=True\n",
    "                pass    \n",
    "       \n",
    "        arr=np.array([q,r,s,t],dtype=int)\n",
    "        if not (q <= r and  r <=s and s <=t) :#and q < x_complex and t > x_complex :\n",
    "            arr=np.array([-1,-1,-1,-1],dtype=int)\n",
    "            print(\"no\")\n",
    "            \n",
    "        else:\n",
    "            resp=np.vstack((resp,arr))           \n",
    "            \n",
    "        if idx_q+1<len(Q):\n",
    "            idx_q=idx_q+1\n",
    "        else:\n",
    "            end=True\n",
    "        if   idx_r+1<len(R):        \n",
    "            idx_r=idx_r+1\n",
    "        else:\n",
    "            end=True    \n",
    "        if   idx_s+1<len(S):        \n",
    "            idx_s=idx_s+1\n",
    "        else:\n",
    "            end= True\n",
    "        if   idx_t+1<len(S):        \n",
    "            idx_t=idx_t+1\n",
    "        else:\n",
    "            end= True    \n",
    "    return resp"
   ]
  },
  {
   "cell_type": "code",
   "execution_count": 8,
   "metadata": {
    "ExecuteTime": {
     "end_time": "2019-05-27T15:23:34.798621Z",
     "start_time": "2019-05-27T15:23:34.670852Z"
    }
   },
   "outputs": [],
   "source": [
    "files= os.listdir('./signals/died')"
   ]
  },
  {
   "cell_type": "code",
   "execution_count": 9,
   "metadata": {
    "ExecuteTime": {
     "end_time": "2019-05-27T15:23:35.248337Z",
     "start_time": "2019-05-27T15:23:35.236341Z"
    }
   },
   "outputs": [],
   "source": [
    "files_not_died= os.listdir('./signals/not_died')"
   ]
  },
  {
   "cell_type": "code",
   "execution_count": 10,
   "metadata": {
    "ExecuteTime": {
     "end_time": "2019-05-27T15:23:35.831749Z",
     "start_time": "2019-05-27T15:23:35.827760Z"
    }
   },
   "outputs": [],
   "source": [
    "files_dist=list(filter( lambda x: '_dist_vector' in x, files))"
   ]
  },
  {
   "cell_type": "code",
   "execution_count": 11,
   "metadata": {
    "ExecuteTime": {
     "end_time": "2019-05-27T15:23:36.566812Z",
     "start_time": "2019-05-27T15:23:36.563792Z"
    }
   },
   "outputs": [],
   "source": [
    "files_dist_2=list(filter( lambda x: '_dist_vector' in x, files_not_died))"
   ]
  },
  {
   "cell_type": "code",
   "execution_count": 12,
   "metadata": {
    "ExecuteTime": {
     "end_time": "2019-05-27T15:23:36.986661Z",
     "start_time": "2019-05-27T15:23:36.982672Z"
    }
   },
   "outputs": [],
   "source": [
    "def to_df_with_col(path):\n",
    "    arr=np.load(path)\n",
    "    df=pd.DataFrame(arr, columns=['RR','QR','RS','ST','T'])\n",
    "    df['died']=\"/died/\" in path\n",
    "    df['filename']=path\n",
    "    return df"
   ]
  },
  {
   "cell_type": "code",
   "execution_count": 13,
   "metadata": {
    "ExecuteTime": {
     "end_time": "2019-05-27T15:23:48.985790Z",
     "start_time": "2019-05-27T15:23:37.317804Z"
    }
   },
   "outputs": [],
   "source": [
    "frames= [to_df_with_col('./signals/died/'+f) for f in files_dist]\n",
    "frames2= [to_df_with_col('./signals/not_died/'+f) for f in files_dist_2]"
   ]
  },
  {
   "cell_type": "code",
   "execution_count": 14,
   "metadata": {
    "ExecuteTime": {
     "end_time": "2019-05-27T15:23:49.616898Z",
     "start_time": "2019-05-27T15:23:48.986584Z"
    }
   },
   "outputs": [],
   "source": [
    "result = pd.concat(frames+frames2)"
   ]
  },
  {
   "cell_type": "code",
   "execution_count": 15,
   "metadata": {
    "ExecuteTime": {
     "end_time": "2019-05-27T15:23:49.645853Z",
     "start_time": "2019-05-27T15:23:49.617895Z"
    }
   },
   "outputs": [
    {
     "data": {
      "text/html": [
       "<div>\n",
       "<style scoped>\n",
       "    .dataframe tbody tr th:only-of-type {\n",
       "        vertical-align: middle;\n",
       "    }\n",
       "\n",
       "    .dataframe tbody tr th {\n",
       "        vertical-align: top;\n",
       "    }\n",
       "\n",
       "    .dataframe thead th {\n",
       "        text-align: right;\n",
       "    }\n",
       "</style>\n",
       "<table border=\"1\" class=\"dataframe\">\n",
       "  <thead>\n",
       "    <tr style=\"text-align: right;\">\n",
       "      <th></th>\n",
       "      <th>RR</th>\n",
       "      <th>QR</th>\n",
       "      <th>RS</th>\n",
       "      <th>ST</th>\n",
       "      <th>T</th>\n",
       "      <th>died</th>\n",
       "      <th>filename</th>\n",
       "    </tr>\n",
       "  </thead>\n",
       "  <tbody>\n",
       "    <tr>\n",
       "      <th>0</th>\n",
       "      <td>108.0</td>\n",
       "      <td>7.0</td>\n",
       "      <td>11.0</td>\n",
       "      <td>9.0</td>\n",
       "      <td>0.187698</td>\n",
       "      <td>True</td>\n",
       "      <td>./signals/died/p000491-2170-04-03-14-08_dist_v...</td>\n",
       "    </tr>\n",
       "    <tr>\n",
       "      <th>1</th>\n",
       "      <td>107.0</td>\n",
       "      <td>7.0</td>\n",
       "      <td>11.0</td>\n",
       "      <td>10.0</td>\n",
       "      <td>0.201723</td>\n",
       "      <td>True</td>\n",
       "      <td>./signals/died/p000491-2170-04-03-14-08_dist_v...</td>\n",
       "    </tr>\n",
       "    <tr>\n",
       "      <th>2</th>\n",
       "      <td>108.0</td>\n",
       "      <td>7.0</td>\n",
       "      <td>11.0</td>\n",
       "      <td>9.0</td>\n",
       "      <td>0.179334</td>\n",
       "      <td>True</td>\n",
       "      <td>./signals/died/p000491-2170-04-03-14-08_dist_v...</td>\n",
       "    </tr>\n",
       "    <tr>\n",
       "      <th>3</th>\n",
       "      <td>107.0</td>\n",
       "      <td>7.0</td>\n",
       "      <td>11.0</td>\n",
       "      <td>9.0</td>\n",
       "      <td>0.198247</td>\n",
       "      <td>True</td>\n",
       "      <td>./signals/died/p000491-2170-04-03-14-08_dist_v...</td>\n",
       "    </tr>\n",
       "    <tr>\n",
       "      <th>4</th>\n",
       "      <td>106.0</td>\n",
       "      <td>6.0</td>\n",
       "      <td>8.0</td>\n",
       "      <td>11.0</td>\n",
       "      <td>0.138021</td>\n",
       "      <td>True</td>\n",
       "      <td>./signals/died/p000491-2170-04-03-14-08_dist_v...</td>\n",
       "    </tr>\n",
       "  </tbody>\n",
       "</table>\n",
       "</div>"
      ],
      "text/plain": [
       "      RR   QR    RS    ST         T  died  \\\n",
       "0  108.0  7.0  11.0   9.0  0.187698  True   \n",
       "1  107.0  7.0  11.0  10.0  0.201723  True   \n",
       "2  108.0  7.0  11.0   9.0  0.179334  True   \n",
       "3  107.0  7.0  11.0   9.0  0.198247  True   \n",
       "4  106.0  6.0   8.0  11.0  0.138021  True   \n",
       "\n",
       "                                            filename  \n",
       "0  ./signals/died/p000491-2170-04-03-14-08_dist_v...  \n",
       "1  ./signals/died/p000491-2170-04-03-14-08_dist_v...  \n",
       "2  ./signals/died/p000491-2170-04-03-14-08_dist_v...  \n",
       "3  ./signals/died/p000491-2170-04-03-14-08_dist_v...  \n",
       "4  ./signals/died/p000491-2170-04-03-14-08_dist_v...  "
      ]
     },
     "execution_count": 15,
     "metadata": {},
     "output_type": "execute_result"
    }
   ],
   "source": [
    "result.head()"
   ]
  },
  {
   "cell_type": "code",
   "execution_count": 16,
   "metadata": {
    "ExecuteTime": {
     "end_time": "2019-05-27T15:23:49.706686Z",
     "start_time": "2019-05-27T15:23:49.646829Z"
    }
   },
   "outputs": [
    {
     "data": {
      "text/plain": [
       "(14370040, 7)"
      ]
     },
     "execution_count": 16,
     "metadata": {},
     "output_type": "execute_result"
    }
   ],
   "source": [
    "result.shape"
   ]
  },
  {
   "cell_type": "code",
   "execution_count": 17,
   "metadata": {
    "ExecuteTime": {
     "end_time": "2019-05-27T15:23:55.913098Z",
     "start_time": "2019-05-27T15:23:49.707656Z"
    }
   },
   "outputs": [],
   "source": [
    "no_dups=result.drop_duplicates(subset=['RR','QR', 'RS','ST','T'], keep='last', inplace=False)"
   ]
  },
  {
   "cell_type": "code",
   "execution_count": 18,
   "metadata": {
    "ExecuteTime": {
     "end_time": "2019-05-27T15:23:55.917090Z",
     "start_time": "2019-05-27T15:23:55.914096Z"
    }
   },
   "outputs": [
    {
     "data": {
      "text/plain": [
       "(14345971, 7)"
      ]
     },
     "execution_count": 18,
     "metadata": {},
     "output_type": "execute_result"
    }
   ],
   "source": [
    "no_dups.shape"
   ]
  },
  {
   "cell_type": "code",
   "execution_count": 19,
   "metadata": {
    "ExecuteTime": {
     "end_time": "2019-05-27T15:23:57.205640Z",
     "start_time": "2019-05-27T15:23:55.918058Z"
    }
   },
   "outputs": [
    {
     "data": {
      "text/plain": [
       "died\n",
       "False    10318735\n",
       "True      4027236\n",
       "Name: RR, dtype: int64"
      ]
     },
     "execution_count": 19,
     "metadata": {},
     "output_type": "execute_result"
    }
   ],
   "source": [
    "no_dups.groupby('died').count()['RR']"
   ]
  },
  {
   "cell_type": "markdown",
   "metadata": {},
   "source": [
    "### Hay algunos RR que son negativos, revisamos en dónde ocurren al parecer están al final de la señal "
   ]
  },
  {
   "cell_type": "code",
   "execution_count": 20,
   "metadata": {
    "ExecuteTime": {
     "end_time": "2019-05-27T15:24:20.084452Z",
     "start_time": "2019-05-27T15:23:57.207608Z"
    }
   },
   "outputs": [
    {
     "data": {
      "text/plain": [
       "<matplotlib.axes._subplots.AxesSubplot at 0x2033d7411d0>"
      ]
     },
     "execution_count": 20,
     "metadata": {},
     "output_type": "execute_result"
    },
    {
     "data": {
      "image/png": "[encoded data removed]",
      "text/plain": [
       "<Figure size 432x288 with 1 Axes>"
      ]
     },
     "metadata": {
      "needs_background": "light"
     },
     "output_type": "display_data"
    }
   ],
   "source": [
    "no_dups[['RR','QR', 'RS','ST']].boxplot()"
   ]
  },
  {
   "cell_type": "code",
   "execution_count": 21,
   "metadata": {
    "ExecuteTime": {
     "end_time": "2019-05-27T15:24:20.114373Z",
     "start_time": "2019-05-27T15:24:20.085449Z"
    }
   },
   "outputs": [
    {
     "data": {
      "text/html": [
       "<div>\n",
       "<style scoped>\n",
       "    .dataframe tbody tr th:only-of-type {\n",
       "        vertical-align: middle;\n",
       "    }\n",
       "\n",
       "    .dataframe tbody tr th {\n",
       "        vertical-align: top;\n",
       "    }\n",
       "\n",
       "    .dataframe thead th {\n",
       "        text-align: right;\n",
       "    }\n",
       "</style>\n",
       "<table border=\"1\" class=\"dataframe\">\n",
       "  <thead>\n",
       "    <tr style=\"text-align: right;\">\n",
       "      <th></th>\n",
       "      <th>RR</th>\n",
       "      <th>QR</th>\n",
       "      <th>RS</th>\n",
       "      <th>ST</th>\n",
       "      <th>T</th>\n",
       "      <th>died</th>\n",
       "      <th>filename</th>\n",
       "    </tr>\n",
       "  </thead>\n",
       "  <tbody>\n",
       "    <tr>\n",
       "      <th>24069</th>\n",
       "      <td>-1799817.0</td>\n",
       "      <td>0.0</td>\n",
       "      <td>0.0</td>\n",
       "      <td>0.0</td>\n",
       "      <td>0.004832</td>\n",
       "      <td>True</td>\n",
       "      <td>./signals/died/p004331-2142-11-02-12-06_dist_v...</td>\n",
       "    </tr>\n",
       "    <tr>\n",
       "      <th>21190</th>\n",
       "      <td>-1799790.0</td>\n",
       "      <td>0.0</td>\n",
       "      <td>0.0</td>\n",
       "      <td>0.0</td>\n",
       "      <td>-0.000402</td>\n",
       "      <td>True</td>\n",
       "      <td>./signals/died/p026575-2161-09-02-13-19_dist_v...</td>\n",
       "    </tr>\n",
       "    <tr>\n",
       "      <th>19111</th>\n",
       "      <td>-1799789.0</td>\n",
       "      <td>0.0</td>\n",
       "      <td>0.0</td>\n",
       "      <td>0.0</td>\n",
       "      <td>0.001472</td>\n",
       "      <td>False</td>\n",
       "      <td>./signals/not_died/p013212-2192-11-06-17-30_di...</td>\n",
       "    </tr>\n",
       "    <tr>\n",
       "      <th>19889</th>\n",
       "      <td>-1799721.0</td>\n",
       "      <td>0.0</td>\n",
       "      <td>0.0</td>\n",
       "      <td>0.0</td>\n",
       "      <td>-0.001497</td>\n",
       "      <td>False</td>\n",
       "      <td>./signals/not_died/p028869-2148-08-31-11-27_di...</td>\n",
       "    </tr>\n",
       "  </tbody>\n",
       "</table>\n",
       "</div>"
      ],
      "text/plain": [
       "              RR   QR   RS   ST         T   died  \\\n",
       "24069 -1799817.0  0.0  0.0  0.0  0.004832   True   \n",
       "21190 -1799790.0  0.0  0.0  0.0 -0.000402   True   \n",
       "19111 -1799789.0  0.0  0.0  0.0  0.001472  False   \n",
       "19889 -1799721.0  0.0  0.0  0.0 -0.001497  False   \n",
       "\n",
       "                                                filename  \n",
       "24069  ./signals/died/p004331-2142-11-02-12-06_dist_v...  \n",
       "21190  ./signals/died/p026575-2161-09-02-13-19_dist_v...  \n",
       "19111  ./signals/not_died/p013212-2192-11-06-17-30_di...  \n",
       "19889  ./signals/not_died/p028869-2148-08-31-11-27_di...  "
      ]
     },
     "execution_count": 21,
     "metadata": {},
     "output_type": "execute_result"
    }
   ],
   "source": [
    "no_dups[no_dups.RR<0]"
   ]
  },
  {
   "cell_type": "code",
   "execution_count": 22,
   "metadata": {
    "ExecuteTime": {
     "end_time": "2019-05-27T15:24:20.198147Z",
     "start_time": "2019-05-27T15:24:20.115371Z"
    }
   },
   "outputs": [
    {
     "data": {
      "text/plain": [
       "array(['./signals/died/p004331-2142-11-02-12-06_dist_vector.npz.npy',\n",
       "       './signals/died/p026575-2161-09-02-13-19_dist_vector.npz.npy',\n",
       "       './signals/not_died/p013212-2192-11-06-17-30_dist_vector.npz.npy',\n",
       "       './signals/not_died/p028869-2148-08-31-11-27_dist_vector.npz.npy'],\n",
       "      dtype=object)"
      ]
     },
     "execution_count": 22,
     "metadata": {},
     "output_type": "execute_result"
    }
   ],
   "source": [
    "no_dups[no_dups.RR<0].filename.values"
   ]
  },
  {
   "cell_type": "code",
   "execution_count": 23,
   "metadata": {
    "ExecuteTime": {
     "end_time": "2019-05-27T15:24:20.975099Z",
     "start_time": "2019-05-27T15:24:20.199145Z"
    }
   },
   "outputs": [
    {
     "data": {
      "text/html": [
       "<div>\n",
       "<style scoped>\n",
       "    .dataframe tbody tr th:only-of-type {\n",
       "        vertical-align: middle;\n",
       "    }\n",
       "\n",
       "    .dataframe tbody tr th {\n",
       "        vertical-align: top;\n",
       "    }\n",
       "\n",
       "    .dataframe thead th {\n",
       "        text-align: right;\n",
       "    }\n",
       "</style>\n",
       "<table border=\"1\" class=\"dataframe\">\n",
       "  <thead>\n",
       "    <tr style=\"text-align: right;\">\n",
       "      <th></th>\n",
       "      <th>RR</th>\n",
       "      <th>QR</th>\n",
       "      <th>RS</th>\n",
       "      <th>ST</th>\n",
       "      <th>T</th>\n",
       "      <th>died</th>\n",
       "      <th>filename</th>\n",
       "    </tr>\n",
       "  </thead>\n",
       "  <tbody>\n",
       "    <tr>\n",
       "      <th>24060</th>\n",
       "      <td>76.0</td>\n",
       "      <td>4.0</td>\n",
       "      <td>6.0</td>\n",
       "      <td>12.0</td>\n",
       "      <td>-0.043643</td>\n",
       "      <td>True</td>\n",
       "      <td>./signals/died/p004331-2142-11-02-12-06_dist_v...</td>\n",
       "    </tr>\n",
       "    <tr>\n",
       "      <th>24061</th>\n",
       "      <td>47.0</td>\n",
       "      <td>10.0</td>\n",
       "      <td>4.0</td>\n",
       "      <td>6.0</td>\n",
       "      <td>0.106595</td>\n",
       "      <td>True</td>\n",
       "      <td>./signals/died/p004331-2142-11-02-12-06_dist_v...</td>\n",
       "    </tr>\n",
       "    <tr>\n",
       "      <th>24062</th>\n",
       "      <td>43.0</td>\n",
       "      <td>5.0</td>\n",
       "      <td>5.0</td>\n",
       "      <td>28.0</td>\n",
       "      <td>0.028010</td>\n",
       "      <td>True</td>\n",
       "      <td>./signals/died/p004331-2142-11-02-12-06_dist_v...</td>\n",
       "    </tr>\n",
       "    <tr>\n",
       "      <th>24063</th>\n",
       "      <td>84.0</td>\n",
       "      <td>5.0</td>\n",
       "      <td>5.0</td>\n",
       "      <td>13.0</td>\n",
       "      <td>-0.029717</td>\n",
       "      <td>True</td>\n",
       "      <td>./signals/died/p004331-2142-11-02-12-06_dist_v...</td>\n",
       "    </tr>\n",
       "    <tr>\n",
       "      <th>24064</th>\n",
       "      <td>76.0</td>\n",
       "      <td>4.0</td>\n",
       "      <td>6.0</td>\n",
       "      <td>32.0</td>\n",
       "      <td>0.029588</td>\n",
       "      <td>True</td>\n",
       "      <td>./signals/died/p004331-2142-11-02-12-06_dist_v...</td>\n",
       "    </tr>\n",
       "    <tr>\n",
       "      <th>24065</th>\n",
       "      <td>77.0</td>\n",
       "      <td>4.0</td>\n",
       "      <td>6.0</td>\n",
       "      <td>30.0</td>\n",
       "      <td>0.032873</td>\n",
       "      <td>True</td>\n",
       "      <td>./signals/died/p004331-2142-11-02-12-06_dist_v...</td>\n",
       "    </tr>\n",
       "    <tr>\n",
       "      <th>24066</th>\n",
       "      <td>78.0</td>\n",
       "      <td>5.0</td>\n",
       "      <td>5.0</td>\n",
       "      <td>31.0</td>\n",
       "      <td>0.032537</td>\n",
       "      <td>True</td>\n",
       "      <td>./signals/died/p004331-2142-11-02-12-06_dist_v...</td>\n",
       "    </tr>\n",
       "    <tr>\n",
       "      <th>24067</th>\n",
       "      <td>77.0</td>\n",
       "      <td>4.0</td>\n",
       "      <td>6.0</td>\n",
       "      <td>30.0</td>\n",
       "      <td>0.035362</td>\n",
       "      <td>True</td>\n",
       "      <td>./signals/died/p004331-2142-11-02-12-06_dist_v...</td>\n",
       "    </tr>\n",
       "    <tr>\n",
       "      <th>24068</th>\n",
       "      <td>78.0</td>\n",
       "      <td>5.0</td>\n",
       "      <td>5.0</td>\n",
       "      <td>31.0</td>\n",
       "      <td>0.035428</td>\n",
       "      <td>True</td>\n",
       "      <td>./signals/died/p004331-2142-11-02-12-06_dist_v...</td>\n",
       "    </tr>\n",
       "    <tr>\n",
       "      <th>24069</th>\n",
       "      <td>-1799817.0</td>\n",
       "      <td>0.0</td>\n",
       "      <td>0.0</td>\n",
       "      <td>0.0</td>\n",
       "      <td>0.004832</td>\n",
       "      <td>True</td>\n",
       "      <td>./signals/died/p004331-2142-11-02-12-06_dist_v...</td>\n",
       "    </tr>\n",
       "  </tbody>\n",
       "</table>\n",
       "</div>"
      ],
      "text/plain": [
       "              RR    QR   RS    ST         T  died  \\\n",
       "24060       76.0   4.0  6.0  12.0 -0.043643  True   \n",
       "24061       47.0  10.0  4.0   6.0  0.106595  True   \n",
       "24062       43.0   5.0  5.0  28.0  0.028010  True   \n",
       "24063       84.0   5.0  5.0  13.0 -0.029717  True   \n",
       "24064       76.0   4.0  6.0  32.0  0.029588  True   \n",
       "24065       77.0   4.0  6.0  30.0  0.032873  True   \n",
       "24066       78.0   5.0  5.0  31.0  0.032537  True   \n",
       "24067       77.0   4.0  6.0  30.0  0.035362  True   \n",
       "24068       78.0   5.0  5.0  31.0  0.035428  True   \n",
       "24069 -1799817.0   0.0  0.0   0.0  0.004832  True   \n",
       "\n",
       "                                                filename  \n",
       "24060  ./signals/died/p004331-2142-11-02-12-06_dist_v...  \n",
       "24061  ./signals/died/p004331-2142-11-02-12-06_dist_v...  \n",
       "24062  ./signals/died/p004331-2142-11-02-12-06_dist_v...  \n",
       "24063  ./signals/died/p004331-2142-11-02-12-06_dist_v...  \n",
       "24064  ./signals/died/p004331-2142-11-02-12-06_dist_v...  \n",
       "24065  ./signals/died/p004331-2142-11-02-12-06_dist_v...  \n",
       "24066  ./signals/died/p004331-2142-11-02-12-06_dist_v...  \n",
       "24067  ./signals/died/p004331-2142-11-02-12-06_dist_v...  \n",
       "24068  ./signals/died/p004331-2142-11-02-12-06_dist_v...  \n",
       "24069  ./signals/died/p004331-2142-11-02-12-06_dist_v...  "
      ]
     },
     "execution_count": 23,
     "metadata": {},
     "output_type": "execute_result"
    }
   ],
   "source": [
    "no_dups[no_dups.filename=='./signals/died/p004331-2142-11-02-12-06_dist_vector.npz.npy'].tail(10)"
   ]
  },
  {
   "cell_type": "code",
   "execution_count": 24,
   "metadata": {
    "ExecuteTime": {
     "end_time": "2019-05-27T15:24:21.709110Z",
     "start_time": "2019-05-27T15:24:20.976068Z"
    }
   },
   "outputs": [
    {
     "data": {
      "text/html": [
       "<div>\n",
       "<style scoped>\n",
       "    .dataframe tbody tr th:only-of-type {\n",
       "        vertical-align: middle;\n",
       "    }\n",
       "\n",
       "    .dataframe tbody tr th {\n",
       "        vertical-align: top;\n",
       "    }\n",
       "\n",
       "    .dataframe thead th {\n",
       "        text-align: right;\n",
       "    }\n",
       "</style>\n",
       "<table border=\"1\" class=\"dataframe\">\n",
       "  <thead>\n",
       "    <tr style=\"text-align: right;\">\n",
       "      <th></th>\n",
       "      <th>RR</th>\n",
       "      <th>QR</th>\n",
       "      <th>RS</th>\n",
       "      <th>ST</th>\n",
       "      <th>T</th>\n",
       "      <th>died</th>\n",
       "      <th>filename</th>\n",
       "    </tr>\n",
       "  </thead>\n",
       "  <tbody>\n",
       "    <tr>\n",
       "      <th>21181</th>\n",
       "      <td>90.0</td>\n",
       "      <td>5.0</td>\n",
       "      <td>7.0</td>\n",
       "      <td>11.0</td>\n",
       "      <td>-0.055915</td>\n",
       "      <td>True</td>\n",
       "      <td>./signals/died/p026575-2161-09-02-13-19_dist_v...</td>\n",
       "    </tr>\n",
       "    <tr>\n",
       "      <th>21182</th>\n",
       "      <td>82.0</td>\n",
       "      <td>5.0</td>\n",
       "      <td>6.0</td>\n",
       "      <td>12.0</td>\n",
       "      <td>-0.063674</td>\n",
       "      <td>True</td>\n",
       "      <td>./signals/died/p026575-2161-09-02-13-19_dist_v...</td>\n",
       "    </tr>\n",
       "    <tr>\n",
       "      <th>21183</th>\n",
       "      <td>86.0</td>\n",
       "      <td>6.0</td>\n",
       "      <td>6.0</td>\n",
       "      <td>11.0</td>\n",
       "      <td>-0.069362</td>\n",
       "      <td>True</td>\n",
       "      <td>./signals/died/p026575-2161-09-02-13-19_dist_v...</td>\n",
       "    </tr>\n",
       "    <tr>\n",
       "      <th>21184</th>\n",
       "      <td>90.0</td>\n",
       "      <td>5.0</td>\n",
       "      <td>6.0</td>\n",
       "      <td>12.0</td>\n",
       "      <td>-0.058021</td>\n",
       "      <td>True</td>\n",
       "      <td>./signals/died/p026575-2161-09-02-13-19_dist_v...</td>\n",
       "    </tr>\n",
       "    <tr>\n",
       "      <th>21185</th>\n",
       "      <td>88.0</td>\n",
       "      <td>5.0</td>\n",
       "      <td>6.0</td>\n",
       "      <td>11.0</td>\n",
       "      <td>-0.074896</td>\n",
       "      <td>True</td>\n",
       "      <td>./signals/died/p026575-2161-09-02-13-19_dist_v...</td>\n",
       "    </tr>\n",
       "    <tr>\n",
       "      <th>21186</th>\n",
       "      <td>81.0</td>\n",
       "      <td>5.0</td>\n",
       "      <td>7.0</td>\n",
       "      <td>11.0</td>\n",
       "      <td>-0.067108</td>\n",
       "      <td>True</td>\n",
       "      <td>./signals/died/p026575-2161-09-02-13-19_dist_v...</td>\n",
       "    </tr>\n",
       "    <tr>\n",
       "      <th>21187</th>\n",
       "      <td>94.0</td>\n",
       "      <td>5.0</td>\n",
       "      <td>6.0</td>\n",
       "      <td>12.0</td>\n",
       "      <td>-0.066477</td>\n",
       "      <td>True</td>\n",
       "      <td>./signals/died/p026575-2161-09-02-13-19_dist_v...</td>\n",
       "    </tr>\n",
       "    <tr>\n",
       "      <th>21188</th>\n",
       "      <td>88.0</td>\n",
       "      <td>5.0</td>\n",
       "      <td>6.0</td>\n",
       "      <td>12.0</td>\n",
       "      <td>-0.053826</td>\n",
       "      <td>True</td>\n",
       "      <td>./signals/died/p026575-2161-09-02-13-19_dist_v...</td>\n",
       "    </tr>\n",
       "    <tr>\n",
       "      <th>21189</th>\n",
       "      <td>87.0</td>\n",
       "      <td>5.0</td>\n",
       "      <td>6.0</td>\n",
       "      <td>11.0</td>\n",
       "      <td>-0.059602</td>\n",
       "      <td>True</td>\n",
       "      <td>./signals/died/p026575-2161-09-02-13-19_dist_v...</td>\n",
       "    </tr>\n",
       "    <tr>\n",
       "      <th>21190</th>\n",
       "      <td>-1799790.0</td>\n",
       "      <td>0.0</td>\n",
       "      <td>0.0</td>\n",
       "      <td>0.0</td>\n",
       "      <td>-0.000402</td>\n",
       "      <td>True</td>\n",
       "      <td>./signals/died/p026575-2161-09-02-13-19_dist_v...</td>\n",
       "    </tr>\n",
       "  </tbody>\n",
       "</table>\n",
       "</div>"
      ],
      "text/plain": [
       "              RR   QR   RS    ST         T  died  \\\n",
       "21181       90.0  5.0  7.0  11.0 -0.055915  True   \n",
       "21182       82.0  5.0  6.0  12.0 -0.063674  True   \n",
       "21183       86.0  6.0  6.0  11.0 -0.069362  True   \n",
       "21184       90.0  5.0  6.0  12.0 -0.058021  True   \n",
       "21185       88.0  5.0  6.0  11.0 -0.074896  True   \n",
       "21186       81.0  5.0  7.0  11.0 -0.067108  True   \n",
       "21187       94.0  5.0  6.0  12.0 -0.066477  True   \n",
       "21188       88.0  5.0  6.0  12.0 -0.053826  True   \n",
       "21189       87.0  5.0  6.0  11.0 -0.059602  True   \n",
       "21190 -1799790.0  0.0  0.0   0.0 -0.000402  True   \n",
       "\n",
       "                                                filename  \n",
       "21181  ./signals/died/p026575-2161-09-02-13-19_dist_v...  \n",
       "21182  ./signals/died/p026575-2161-09-02-13-19_dist_v...  \n",
       "21183  ./signals/died/p026575-2161-09-02-13-19_dist_v...  \n",
       "21184  ./signals/died/p026575-2161-09-02-13-19_dist_v...  \n",
       "21185  ./signals/died/p026575-2161-09-02-13-19_dist_v...  \n",
       "21186  ./signals/died/p026575-2161-09-02-13-19_dist_v...  \n",
       "21187  ./signals/died/p026575-2161-09-02-13-19_dist_v...  \n",
       "21188  ./signals/died/p026575-2161-09-02-13-19_dist_v...  \n",
       "21189  ./signals/died/p026575-2161-09-02-13-19_dist_v...  \n",
       "21190  ./signals/died/p026575-2161-09-02-13-19_dist_v...  "
      ]
     },
     "execution_count": 24,
     "metadata": {},
     "output_type": "execute_result"
    }
   ],
   "source": [
    "no_dups[no_dups.filename=='./signals/died/p026575-2161-09-02-13-19_dist_vector.npz.npy'].tail(10)"
   ]
  },
  {
   "cell_type": "code",
   "execution_count": 25,
   "metadata": {
    "ExecuteTime": {
     "end_time": "2019-05-27T15:24:22.443180Z",
     "start_time": "2019-05-27T15:24:21.710108Z"
    }
   },
   "outputs": [
    {
     "data": {
      "text/html": [
       "<div>\n",
       "<style scoped>\n",
       "    .dataframe tbody tr th:only-of-type {\n",
       "        vertical-align: middle;\n",
       "    }\n",
       "\n",
       "    .dataframe tbody tr th {\n",
       "        vertical-align: top;\n",
       "    }\n",
       "\n",
       "    .dataframe thead th {\n",
       "        text-align: right;\n",
       "    }\n",
       "</style>\n",
       "<table border=\"1\" class=\"dataframe\">\n",
       "  <thead>\n",
       "    <tr style=\"text-align: right;\">\n",
       "      <th></th>\n",
       "      <th>RR</th>\n",
       "      <th>QR</th>\n",
       "      <th>RS</th>\n",
       "      <th>ST</th>\n",
       "      <th>T</th>\n",
       "      <th>died</th>\n",
       "      <th>filename</th>\n",
       "    </tr>\n",
       "  </thead>\n",
       "  <tbody>\n",
       "    <tr>\n",
       "      <th>19102</th>\n",
       "      <td>93.0</td>\n",
       "      <td>5.0</td>\n",
       "      <td>6.0</td>\n",
       "      <td>12.0</td>\n",
       "      <td>-0.328856</td>\n",
       "      <td>False</td>\n",
       "      <td>./signals/not_died/p013212-2192-11-06-17-30_di...</td>\n",
       "    </tr>\n",
       "    <tr>\n",
       "      <th>19103</th>\n",
       "      <td>96.0</td>\n",
       "      <td>6.0</td>\n",
       "      <td>6.0</td>\n",
       "      <td>12.0</td>\n",
       "      <td>-0.290339</td>\n",
       "      <td>False</td>\n",
       "      <td>./signals/not_died/p013212-2192-11-06-17-30_di...</td>\n",
       "    </tr>\n",
       "    <tr>\n",
       "      <th>19104</th>\n",
       "      <td>98.0</td>\n",
       "      <td>5.0</td>\n",
       "      <td>6.0</td>\n",
       "      <td>12.0</td>\n",
       "      <td>-0.293293</td>\n",
       "      <td>False</td>\n",
       "      <td>./signals/not_died/p013212-2192-11-06-17-30_di...</td>\n",
       "    </tr>\n",
       "    <tr>\n",
       "      <th>19105</th>\n",
       "      <td>97.0</td>\n",
       "      <td>6.0</td>\n",
       "      <td>6.0</td>\n",
       "      <td>11.0</td>\n",
       "      <td>-0.368066</td>\n",
       "      <td>False</td>\n",
       "      <td>./signals/not_died/p013212-2192-11-06-17-30_di...</td>\n",
       "    </tr>\n",
       "    <tr>\n",
       "      <th>19106</th>\n",
       "      <td>95.0</td>\n",
       "      <td>6.0</td>\n",
       "      <td>6.0</td>\n",
       "      <td>12.0</td>\n",
       "      <td>-0.364860</td>\n",
       "      <td>False</td>\n",
       "      <td>./signals/not_died/p013212-2192-11-06-17-30_di...</td>\n",
       "    </tr>\n",
       "    <tr>\n",
       "      <th>19107</th>\n",
       "      <td>99.0</td>\n",
       "      <td>6.0</td>\n",
       "      <td>6.0</td>\n",
       "      <td>12.0</td>\n",
       "      <td>-0.337878</td>\n",
       "      <td>False</td>\n",
       "      <td>./signals/not_died/p013212-2192-11-06-17-30_di...</td>\n",
       "    </tr>\n",
       "    <tr>\n",
       "      <th>19108</th>\n",
       "      <td>99.0</td>\n",
       "      <td>6.0</td>\n",
       "      <td>6.0</td>\n",
       "      <td>11.0</td>\n",
       "      <td>-0.312012</td>\n",
       "      <td>False</td>\n",
       "      <td>./signals/not_died/p013212-2192-11-06-17-30_di...</td>\n",
       "    </tr>\n",
       "    <tr>\n",
       "      <th>19109</th>\n",
       "      <td>95.0</td>\n",
       "      <td>6.0</td>\n",
       "      <td>6.0</td>\n",
       "      <td>12.0</td>\n",
       "      <td>-0.296635</td>\n",
       "      <td>False</td>\n",
       "      <td>./signals/not_died/p013212-2192-11-06-17-30_di...</td>\n",
       "    </tr>\n",
       "    <tr>\n",
       "      <th>19110</th>\n",
       "      <td>97.0</td>\n",
       "      <td>5.0</td>\n",
       "      <td>6.0</td>\n",
       "      <td>12.0</td>\n",
       "      <td>-0.267032</td>\n",
       "      <td>False</td>\n",
       "      <td>./signals/not_died/p013212-2192-11-06-17-30_di...</td>\n",
       "    </tr>\n",
       "    <tr>\n",
       "      <th>19111</th>\n",
       "      <td>-1799789.0</td>\n",
       "      <td>0.0</td>\n",
       "      <td>0.0</td>\n",
       "      <td>0.0</td>\n",
       "      <td>0.001472</td>\n",
       "      <td>False</td>\n",
       "      <td>./signals/not_died/p013212-2192-11-06-17-30_di...</td>\n",
       "    </tr>\n",
       "  </tbody>\n",
       "</table>\n",
       "</div>"
      ],
      "text/plain": [
       "              RR   QR   RS    ST         T   died  \\\n",
       "19102       93.0  5.0  6.0  12.0 -0.328856  False   \n",
       "19103       96.0  6.0  6.0  12.0 -0.290339  False   \n",
       "19104       98.0  5.0  6.0  12.0 -0.293293  False   \n",
       "19105       97.0  6.0  6.0  11.0 -0.368066  False   \n",
       "19106       95.0  6.0  6.0  12.0 -0.364860  False   \n",
       "19107       99.0  6.0  6.0  12.0 -0.337878  False   \n",
       "19108       99.0  6.0  6.0  11.0 -0.312012  False   \n",
       "19109       95.0  6.0  6.0  12.0 -0.296635  False   \n",
       "19110       97.0  5.0  6.0  12.0 -0.267032  False   \n",
       "19111 -1799789.0  0.0  0.0   0.0  0.001472  False   \n",
       "\n",
       "                                                filename  \n",
       "19102  ./signals/not_died/p013212-2192-11-06-17-30_di...  \n",
       "19103  ./signals/not_died/p013212-2192-11-06-17-30_di...  \n",
       "19104  ./signals/not_died/p013212-2192-11-06-17-30_di...  \n",
       "19105  ./signals/not_died/p013212-2192-11-06-17-30_di...  \n",
       "19106  ./signals/not_died/p013212-2192-11-06-17-30_di...  \n",
       "19107  ./signals/not_died/p013212-2192-11-06-17-30_di...  \n",
       "19108  ./signals/not_died/p013212-2192-11-06-17-30_di...  \n",
       "19109  ./signals/not_died/p013212-2192-11-06-17-30_di...  \n",
       "19110  ./signals/not_died/p013212-2192-11-06-17-30_di...  \n",
       "19111  ./signals/not_died/p013212-2192-11-06-17-30_di...  "
      ]
     },
     "execution_count": 25,
     "metadata": {},
     "output_type": "execute_result"
    }
   ],
   "source": [
    "no_dups[no_dups.filename=='./signals/not_died/p013212-2192-11-06-17-30_dist_vector.npz.npy'].tail(10)"
   ]
  },
  {
   "cell_type": "code",
   "execution_count": 26,
   "metadata": {
    "ExecuteTime": {
     "end_time": "2019-05-27T15:24:23.200151Z",
     "start_time": "2019-05-27T15:24:22.444143Z"
    }
   },
   "outputs": [
    {
     "data": {
      "text/html": [
       "<div>\n",
       "<style scoped>\n",
       "    .dataframe tbody tr th:only-of-type {\n",
       "        vertical-align: middle;\n",
       "    }\n",
       "\n",
       "    .dataframe tbody tr th {\n",
       "        vertical-align: top;\n",
       "    }\n",
       "\n",
       "    .dataframe thead th {\n",
       "        text-align: right;\n",
       "    }\n",
       "</style>\n",
       "<table border=\"1\" class=\"dataframe\">\n",
       "  <thead>\n",
       "    <tr style=\"text-align: right;\">\n",
       "      <th></th>\n",
       "      <th>RR</th>\n",
       "      <th>QR</th>\n",
       "      <th>RS</th>\n",
       "      <th>ST</th>\n",
       "      <th>T</th>\n",
       "      <th>died</th>\n",
       "      <th>filename</th>\n",
       "    </tr>\n",
       "  </thead>\n",
       "  <tbody>\n",
       "    <tr>\n",
       "      <th>19880</th>\n",
       "      <td>55.0</td>\n",
       "      <td>5.0</td>\n",
       "      <td>5.0</td>\n",
       "      <td>33.0</td>\n",
       "      <td>0.068842</td>\n",
       "      <td>False</td>\n",
       "      <td>./signals/not_died/p028869-2148-08-31-11-27_di...</td>\n",
       "    </tr>\n",
       "    <tr>\n",
       "      <th>19881</th>\n",
       "      <td>77.0</td>\n",
       "      <td>5.0</td>\n",
       "      <td>5.0</td>\n",
       "      <td>35.0</td>\n",
       "      <td>0.089751</td>\n",
       "      <td>False</td>\n",
       "      <td>./signals/not_died/p028869-2148-08-31-11-27_di...</td>\n",
       "    </tr>\n",
       "    <tr>\n",
       "      <th>19882</th>\n",
       "      <td>127.0</td>\n",
       "      <td>5.0</td>\n",
       "      <td>6.0</td>\n",
       "      <td>13.0</td>\n",
       "      <td>-0.093055</td>\n",
       "      <td>False</td>\n",
       "      <td>./signals/not_died/p028869-2148-08-31-11-27_di...</td>\n",
       "    </tr>\n",
       "    <tr>\n",
       "      <th>19883</th>\n",
       "      <td>124.0</td>\n",
       "      <td>5.0</td>\n",
       "      <td>5.0</td>\n",
       "      <td>38.0</td>\n",
       "      <td>0.068484</td>\n",
       "      <td>False</td>\n",
       "      <td>./signals/not_died/p028869-2148-08-31-11-27_di...</td>\n",
       "    </tr>\n",
       "    <tr>\n",
       "      <th>19884</th>\n",
       "      <td>74.0</td>\n",
       "      <td>5.0</td>\n",
       "      <td>5.0</td>\n",
       "      <td>34.0</td>\n",
       "      <td>0.093025</td>\n",
       "      <td>False</td>\n",
       "      <td>./signals/not_died/p028869-2148-08-31-11-27_di...</td>\n",
       "    </tr>\n",
       "    <tr>\n",
       "      <th>19885</th>\n",
       "      <td>106.0</td>\n",
       "      <td>4.0</td>\n",
       "      <td>5.0</td>\n",
       "      <td>37.0</td>\n",
       "      <td>0.102207</td>\n",
       "      <td>False</td>\n",
       "      <td>./signals/not_died/p028869-2148-08-31-11-27_di...</td>\n",
       "    </tr>\n",
       "    <tr>\n",
       "      <th>19886</th>\n",
       "      <td>88.0</td>\n",
       "      <td>5.0</td>\n",
       "      <td>5.0</td>\n",
       "      <td>35.0</td>\n",
       "      <td>0.091002</td>\n",
       "      <td>False</td>\n",
       "      <td>./signals/not_died/p028869-2148-08-31-11-27_di...</td>\n",
       "    </tr>\n",
       "    <tr>\n",
       "      <th>19887</th>\n",
       "      <td>83.0</td>\n",
       "      <td>4.0</td>\n",
       "      <td>6.0</td>\n",
       "      <td>35.0</td>\n",
       "      <td>0.098081</td>\n",
       "      <td>False</td>\n",
       "      <td>./signals/not_died/p028869-2148-08-31-11-27_di...</td>\n",
       "    </tr>\n",
       "    <tr>\n",
       "      <th>19888</th>\n",
       "      <td>67.0</td>\n",
       "      <td>5.0</td>\n",
       "      <td>13.0</td>\n",
       "      <td>22.0</td>\n",
       "      <td>0.079941</td>\n",
       "      <td>False</td>\n",
       "      <td>./signals/not_died/p028869-2148-08-31-11-27_di...</td>\n",
       "    </tr>\n",
       "    <tr>\n",
       "      <th>19889</th>\n",
       "      <td>-1799721.0</td>\n",
       "      <td>0.0</td>\n",
       "      <td>0.0</td>\n",
       "      <td>0.0</td>\n",
       "      <td>-0.001497</td>\n",
       "      <td>False</td>\n",
       "      <td>./signals/not_died/p028869-2148-08-31-11-27_di...</td>\n",
       "    </tr>\n",
       "  </tbody>\n",
       "</table>\n",
       "</div>"
      ],
      "text/plain": [
       "              RR   QR    RS    ST         T   died  \\\n",
       "19880       55.0  5.0   5.0  33.0  0.068842  False   \n",
       "19881       77.0  5.0   5.0  35.0  0.089751  False   \n",
       "19882      127.0  5.0   6.0  13.0 -0.093055  False   \n",
       "19883      124.0  5.0   5.0  38.0  0.068484  False   \n",
       "19884       74.0  5.0   5.0  34.0  0.093025  False   \n",
       "19885      106.0  4.0   5.0  37.0  0.102207  False   \n",
       "19886       88.0  5.0   5.0  35.0  0.091002  False   \n",
       "19887       83.0  4.0   6.0  35.0  0.098081  False   \n",
       "19888       67.0  5.0  13.0  22.0  0.079941  False   \n",
       "19889 -1799721.0  0.0   0.0   0.0 -0.001497  False   \n",
       "\n",
       "                                                filename  \n",
       "19880  ./signals/not_died/p028869-2148-08-31-11-27_di...  \n",
       "19881  ./signals/not_died/p028869-2148-08-31-11-27_di...  \n",
       "19882  ./signals/not_died/p028869-2148-08-31-11-27_di...  \n",
       "19883  ./signals/not_died/p028869-2148-08-31-11-27_di...  \n",
       "19884  ./signals/not_died/p028869-2148-08-31-11-27_di...  \n",
       "19885  ./signals/not_died/p028869-2148-08-31-11-27_di...  \n",
       "19886  ./signals/not_died/p028869-2148-08-31-11-27_di...  \n",
       "19887  ./signals/not_died/p028869-2148-08-31-11-27_di...  \n",
       "19888  ./signals/not_died/p028869-2148-08-31-11-27_di...  \n",
       "19889  ./signals/not_died/p028869-2148-08-31-11-27_di...  "
      ]
     },
     "execution_count": 26,
     "metadata": {},
     "output_type": "execute_result"
    }
   ],
   "source": [
    "no_dups[no_dups.filename=='./signals/not_died/p028869-2148-08-31-11-27_dist_vector.npz.npy'].tail(10)"
   ]
  },
  {
   "cell_type": "code",
   "execution_count": 27,
   "metadata": {
    "ExecuteTime": {
     "end_time": "2019-05-27T15:24:23.929206Z",
     "start_time": "2019-05-27T15:24:23.201148Z"
    }
   },
   "outputs": [],
   "source": [
    "# Quitar RR negativos\n",
    "no_dups=no_dups[no_dups.RR>0]"
   ]
  },
  {
   "cell_type": "code",
   "execution_count": 28,
   "metadata": {
    "ExecuteTime": {
     "end_time": "2019-05-27T15:24:47.122174Z",
     "start_time": "2019-05-27T15:24:23.930171Z"
    }
   },
   "outputs": [
    {
     "data": {
      "text/plain": [
       "<matplotlib.axes._subplots.AxesSubplot at 0x2033d94d3c8>"
      ]
     },
     "execution_count": 28,
     "metadata": {},
     "output_type": "execute_result"
    },
    {
     "data": {
      "image/png": "[encoded data removed]",
      "text/plain": [
       "<Figure size 432x288 with 1 Axes>"
      ]
     },
     "metadata": {
      "needs_background": "light"
     },
     "output_type": "display_data"
    }
   ],
   "source": [
    "no_dups[['RR','QR', 'RS','ST']].boxplot()"
   ]
  },
  {
   "cell_type": "markdown",
   "metadata": {},
   "source": [
    "### Hay RR que son muy altos, puede deberse a que el segmento de señal analizado no detecta latidos y salta, por lo tanto se deben ignorar para el análisis, suponiendo que el mínimo HR es 40 bpm, los pícos R deberían estar como máximo separados por 1.5 segundos  60s / (40 b/min), por lo tanto quitamos para el análisis de cluster los elementos que tengan más de 1.5* fs(125)  de distancia entre picos (189)"
   ]
  },
  {
   "cell_type": "code",
   "execution_count": 29,
   "metadata": {
    "ExecuteTime": {
     "end_time": "2019-05-27T15:24:47.786426Z",
     "start_time": "2019-05-27T15:24:47.123178Z"
    }
   },
   "outputs": [],
   "source": [
    "no_dups=no_dups[no_dups.RR<189]"
   ]
  },
  {
   "cell_type": "code",
   "execution_count": 30,
   "metadata": {
    "ExecuteTime": {
     "end_time": "2019-05-27T15:24:47.791385Z",
     "start_time": "2019-05-27T15:24:47.787396Z"
    }
   },
   "outputs": [
    {
     "data": {
      "text/plain": [
       "14315714"
      ]
     },
     "execution_count": 30,
     "metadata": {},
     "output_type": "execute_result"
    }
   ],
   "source": [
    "len(no_dups)"
   ]
  },
  {
   "cell_type": "code",
   "execution_count": 31,
   "metadata": {
    "ExecuteTime": {
     "end_time": "2019-05-27T15:24:49.072987Z",
     "start_time": "2019-05-27T15:24:47.792382Z"
    }
   },
   "outputs": [
    {
     "data": {
      "text/plain": [
       "died\n",
       "False    10299006\n",
       "True      4016708\n",
       "Name: RR, dtype: int64"
      ]
     },
     "execution_count": 31,
     "metadata": {},
     "output_type": "execute_result"
    }
   ],
   "source": [
    "no_dups.groupby('died').count()['RR']"
   ]
  },
  {
   "cell_type": "code",
   "execution_count": 32,
   "metadata": {
    "ExecuteTime": {
     "end_time": "2019-05-27T15:25:12.272973Z",
     "start_time": "2019-05-27T15:24:49.073956Z"
    }
   },
   "outputs": [
    {
     "data": {
      "text/plain": [
       "<matplotlib.axes._subplots.AxesSubplot at 0x2033d881a90>"
      ]
     },
     "execution_count": 32,
     "metadata": {},
     "output_type": "execute_result"
    },
    {
     "data": {
      "image/png": "[encoded data removed]",
      "text/plain": [
       "<Figure size 432x288 with 1 Axes>"
      ]
     },
     "metadata": {
      "needs_background": "light"
     },
     "output_type": "display_data"
    }
   ],
   "source": [
    "no_dups[['RR','QR', 'RS','ST']].boxplot()"
   ]
  },
  {
   "cell_type": "markdown",
   "metadata": {},
   "source": [
    "### Persisten problemas con la calidad de los ST, esto se puede deber a que el pico T no esta siendo debidamente identificado dentro del complejo y esta siendo detectado en picos de más adelante, sucede en aprox 700 latidos. Se descartan estos latidos para continuar el análisis."
   ]
  },
  {
   "cell_type": "code",
   "execution_count": 33,
   "metadata": {
    "ExecuteTime": {
     "end_time": "2019-05-27T15:25:13.104716Z",
     "start_time": "2019-05-27T15:25:12.274941Z"
    }
   },
   "outputs": [
    {
     "data": {
      "text/plain": [
       "count    1.431571e+07\n",
       "mean     1.669576e+01\n",
       "std      1.407979e+01\n",
       "min      4.000000e+00\n",
       "25%      1.200000e+01\n",
       "50%      1.300000e+01\n",
       "75%      2.100000e+01\n",
       "max      2.291700e+04\n",
       "Name: ST, dtype: float64"
      ]
     },
     "execution_count": 33,
     "metadata": {},
     "output_type": "execute_result"
    }
   ],
   "source": [
    "no_dups.ST.describe()"
   ]
  },
  {
   "cell_type": "code",
   "execution_count": 34,
   "metadata": {
    "ExecuteTime": {
     "end_time": "2019-05-27T15:25:13.218413Z",
     "start_time": "2019-05-27T15:25:13.105713Z"
    }
   },
   "outputs": [
    {
     "data": {
      "text/plain": [
       "665"
      ]
     },
     "execution_count": 34,
     "metadata": {},
     "output_type": "execute_result"
    }
   ],
   "source": [
    "np.sum(no_dups.ST>189)"
   ]
  },
  {
   "cell_type": "code",
   "execution_count": 35,
   "metadata": {
    "ExecuteTime": {
     "end_time": "2019-05-27T15:25:14.052186Z",
     "start_time": "2019-05-27T15:25:13.221406Z"
    }
   },
   "outputs": [],
   "source": [
    "no_dups=no_dups[no_dups.ST<189]"
   ]
  },
  {
   "cell_type": "code",
   "execution_count": 36,
   "metadata": {
    "ExecuteTime": {
     "end_time": "2019-05-27T15:25:14.060165Z",
     "start_time": "2019-05-27T15:25:14.055176Z"
    }
   },
   "outputs": [
    {
     "data": {
      "text/plain": [
       "14315045"
      ]
     },
     "execution_count": 36,
     "metadata": {},
     "output_type": "execute_result"
    }
   ],
   "source": [
    "len(no_dups)"
   ]
  },
  {
   "cell_type": "code",
   "execution_count": 37,
   "metadata": {
    "ExecuteTime": {
     "end_time": "2019-05-27T15:25:15.470392Z",
     "start_time": "2019-05-27T15:25:14.062158Z"
    }
   },
   "outputs": [
    {
     "data": {
      "text/plain": [
       "died\n",
       "False    10298447\n",
       "True      4016598\n",
       "Name: ST, dtype: int64"
      ]
     },
     "execution_count": 37,
     "metadata": {},
     "output_type": "execute_result"
    }
   ],
   "source": [
    "no_dups.groupby('died').count()['ST']"
   ]
  },
  {
   "cell_type": "code",
   "execution_count": 38,
   "metadata": {
    "ExecuteTime": {
     "end_time": "2019-05-27T15:25:38.259478Z",
     "start_time": "2019-05-27T15:25:15.471389Z"
    }
   },
   "outputs": [
    {
     "data": {
      "text/plain": [
       "<matplotlib.axes._subplots.AxesSubplot at 0x20335903be0>"
      ]
     },
     "execution_count": 38,
     "metadata": {},
     "output_type": "execute_result"
    },
    {
     "data": {
      "image/png": "[encoded data removed]",
      "text/plain": [
       "<Figure size 432x288 with 1 Axes>"
      ]
     },
     "metadata": {
      "needs_background": "light"
     },
     "output_type": "display_data"
    }
   ],
   "source": [
    "no_dups[['RR','QR', 'RS','ST']].boxplot()"
   ]
  },
  {
   "cell_type": "markdown",
   "metadata": {},
   "source": [
    "## Comparamos individualmente las variables independientes frente a la variable objetivo"
   ]
  },
  {
   "cell_type": "code",
   "execution_count": 39,
   "metadata": {
    "ExecuteTime": {
     "end_time": "2019-05-27T15:25:38.264459Z",
     "start_time": "2019-05-27T15:25:38.260469Z"
    }
   },
   "outputs": [],
   "source": [
    "from scipy.stats import ttest_ind"
   ]
  },
  {
   "cell_type": "markdown",
   "metadata": {},
   "source": [
    "## RR"
   ]
  },
  {
   "cell_type": "code",
   "execution_count": 40,
   "metadata": {
    "ExecuteTime": {
     "end_time": "2019-05-27T15:25:42.503897Z",
     "start_time": "2019-05-27T15:25:38.265478Z"
    }
   },
   "outputs": [
    {
     "data": {
      "text/plain": [
       "<matplotlib.axes._subplots.AxesSubplot at 0x2035ff840f0>"
      ]
     },
     "execution_count": 40,
     "metadata": {},
     "output_type": "execute_result"
    },
    {
     "data": {
      "image/png": "[encoded data removed]",
      "text/plain": [
       "<Figure size 432x288 with 1 Axes>"
      ]
     },
     "metadata": {
      "needs_background": "light"
     },
     "output_type": "display_data"
    }
   ],
   "source": [
    "sns.distplot(no_dups[no_dups['died']==True].RR, color='red', label='died')\n",
    "sns.distplot(no_dups[no_dups['died']==False].RR, color='skyblue', label='not died')"
   ]
  },
  {
   "cell_type": "code",
   "execution_count": 41,
   "metadata": {
    "ExecuteTime": {
     "end_time": "2019-05-27T15:25:44.845972Z",
     "start_time": "2019-05-27T15:25:42.504923Z"
    }
   },
   "outputs": [
    {
     "data": {
      "text/plain": [
       "<matplotlib.axes._subplots.AxesSubplot at 0x20304f432b0>"
      ]
     },
     "execution_count": 41,
     "metadata": {},
     "output_type": "execute_result"
    },
    {
     "data": {
      "image/png": "[encoded data removed]",
      "text/plain": [
       "<Figure size 432x288 with 1 Axes>"
      ]
     },
     "metadata": {
      "needs_background": "light"
     },
     "output_type": "display_data"
    }
   ],
   "source": [
    "sns.boxplot(data=no_dups,y='RR', x='died')"
   ]
  },
  {
   "cell_type": "code",
   "execution_count": 42,
   "metadata": {
    "ExecuteTime": {
     "end_time": "2019-05-27T15:25:45.696024Z",
     "start_time": "2019-05-27T15:25:44.846997Z"
    }
   },
   "outputs": [
    {
     "data": {
      "text/plain": [
       "Ttest_indResult(statistic=-520.6094340190182, pvalue=0.0)"
      ]
     },
     "execution_count": 42,
     "metadata": {},
     "output_type": "execute_result"
    }
   ],
   "source": [
    "#Null is equal averages, discarded\n",
    "ttest_ind(no_dups[no_dups['died']==True].RR,no_dups[no_dups['died']==False].RR, equal_var=False)"
   ]
  },
  {
   "cell_type": "markdown",
   "metadata": {},
   "source": [
    "## QR"
   ]
  },
  {
   "cell_type": "code",
   "execution_count": 43,
   "metadata": {
    "ExecuteTime": {
     "end_time": "2019-05-27T15:25:48.817933Z",
     "start_time": "2019-05-27T15:25:45.696993Z"
    }
   },
   "outputs": [
    {
     "data": {
      "text/plain": [
       "<matplotlib.axes._subplots.AxesSubplot at 0x20370de1780>"
      ]
     },
     "execution_count": 43,
     "metadata": {},
     "output_type": "execute_result"
    },
    {
     "data": {
      "image/png": "[encoded data removed]",
      "text/plain": [
       "<Figure size 432x288 with 1 Axes>"
      ]
     },
     "metadata": {
      "needs_background": "light"
     },
     "output_type": "display_data"
    }
   ],
   "source": [
    "sns.distplot(no_dups[no_dups['died']==True].QR, color='red', label='died')\n",
    "sns.distplot(no_dups[no_dups['died']==False].QR, color='skyblue', label='not died')"
   ]
  },
  {
   "cell_type": "code",
   "execution_count": 44,
   "metadata": {
    "ExecuteTime": {
     "end_time": "2019-05-27T15:26:02.490949Z",
     "start_time": "2019-05-27T15:25:48.818900Z"
    }
   },
   "outputs": [
    {
     "data": {
      "text/plain": [
       "<matplotlib.axes._subplots.AxesSubplot at 0x20370de0780>"
      ]
     },
     "execution_count": 44,
     "metadata": {},
     "output_type": "execute_result"
    },
    {
     "data": {
      "image/png": "[encoded data removed]",
      "text/plain": [
       "<Figure size 432x288 with 1 Axes>"
      ]
     },
     "metadata": {
      "needs_background": "light"
     },
     "output_type": "display_data"
    }
   ],
   "source": [
    "sns.boxplot(data=no_dups,y='QR', x='died')"
   ]
  },
  {
   "cell_type": "code",
   "execution_count": 45,
   "metadata": {
    "ExecuteTime": {
     "end_time": "2019-05-27T15:26:03.399452Z",
     "start_time": "2019-05-27T15:26:02.491941Z"
    }
   },
   "outputs": [
    {
     "data": {
      "text/plain": [
       "Ttest_indResult(statistic=247.76958054555837, pvalue=0.0)"
      ]
     },
     "execution_count": 45,
     "metadata": {},
     "output_type": "execute_result"
    }
   ],
   "source": [
    "#Null is equal averages, discarded\n",
    "ttest_ind(no_dups[no_dups['died']==True].QR,no_dups[no_dups['died']==False].QR, equal_var=False)"
   ]
  },
  {
   "cell_type": "markdown",
   "metadata": {},
   "source": [
    "## RS"
   ]
  },
  {
   "cell_type": "code",
   "execution_count": 46,
   "metadata": {
    "ExecuteTime": {
     "end_time": "2019-05-27T15:26:06.762978Z",
     "start_time": "2019-05-27T15:26:03.400448Z"
    }
   },
   "outputs": [
    {
     "data": {
      "text/plain": [
       "<matplotlib.axes._subplots.AxesSubplot at 0x203772244a8>"
      ]
     },
     "execution_count": 46,
     "metadata": {},
     "output_type": "execute_result"
    },
    {
     "data": {
      "image/png": "[encoded data removed]",
      "text/plain": [
       "<Figure size 432x288 with 1 Axes>"
      ]
     },
     "metadata": {
      "needs_background": "light"
     },
     "output_type": "display_data"
    }
   ],
   "source": [
    "sns.distplot(no_dups[no_dups['died']==True].RS, color='red', label='died')\n",
    "sns.distplot(no_dups[no_dups['died']==False].RS, color='skyblue', label='not died')"
   ]
  },
  {
   "cell_type": "code",
   "execution_count": 47,
   "metadata": {
    "ExecuteTime": {
     "end_time": "2019-05-27T15:26:30.672585Z",
     "start_time": "2019-05-27T15:26:06.764974Z"
    }
   },
   "outputs": [
    {
     "data": {
      "text/plain": [
       "<matplotlib.axes._subplots.AxesSubplot at 0x2038cb311d0>"
      ]
     },
     "execution_count": 47,
     "metadata": {},
     "output_type": "execute_result"
    },
    {
     "data": {
      "image/png": "[encoded data removed]",
      "text/plain": [
       "<Figure size 432x288 with 1 Axes>"
      ]
     },
     "metadata": {
      "needs_background": "light"
     },
     "output_type": "display_data"
    }
   ],
   "source": [
    "sns.boxplot(data=no_dups,y='RS', x='died')"
   ]
  },
  {
   "cell_type": "code",
   "execution_count": 48,
   "metadata": {
    "ExecuteTime": {
     "end_time": "2019-05-27T15:26:31.547348Z",
     "start_time": "2019-05-27T15:26:30.673583Z"
    }
   },
   "outputs": [
    {
     "data": {
      "text/plain": [
       "Ttest_indResult(statistic=327.33035729042683, pvalue=0.0)"
      ]
     },
     "execution_count": 48,
     "metadata": {},
     "output_type": "execute_result"
    }
   ],
   "source": [
    "#Null is equal averages, discarded\n",
    "ttest_ind(no_dups[no_dups['died']==True].RS,no_dups[no_dups['died']==False].RS, equal_var=False)"
   ]
  },
  {
   "cell_type": "markdown",
   "metadata": {},
   "source": [
    "## ST"
   ]
  },
  {
   "cell_type": "code",
   "execution_count": 49,
   "metadata": {
    "ExecuteTime": {
     "end_time": "2019-05-27T15:26:34.872356Z",
     "start_time": "2019-05-27T15:26:31.548318Z"
    }
   },
   "outputs": [
    {
     "data": {
      "text/plain": [
       "<matplotlib.axes._subplots.AxesSubplot at 0x2038cb9db38>"
      ]
     },
     "execution_count": 49,
     "metadata": {},
     "output_type": "execute_result"
    },
    {
     "data": {
      "image/png": "[encoded data removed]",
      "text/plain": [
       "<Figure size 432x288 with 1 Axes>"
      ]
     },
     "metadata": {
      "needs_background": "light"
     },
     "output_type": "display_data"
    }
   ],
   "source": [
    "sns.distplot(no_dups[no_dups['died']==True].ST, color='red', label='died')\n",
    "sns.distplot(no_dups[no_dups['died']==False].ST, color='skyblue', label='not died')"
   ]
  },
  {
   "cell_type": "code",
   "execution_count": 50,
   "metadata": {
    "ExecuteTime": {
     "end_time": "2019-05-27T15:26:38.853346Z",
     "start_time": "2019-05-27T15:26:34.873354Z"
    }
   },
   "outputs": [
    {
     "data": {
      "text/plain": [
       "<matplotlib.axes._subplots.AxesSubplot at 0x2038cba2ac8>"
      ]
     },
     "execution_count": 50,
     "metadata": {},
     "output_type": "execute_result"
    },
    {
     "data": {
      "image/png": "[encoded data removed]",
      "text/plain": [
       "<Figure size 432x288 with 1 Axes>"
      ]
     },
     "metadata": {
      "needs_background": "light"
     },
     "output_type": "display_data"
    }
   ],
   "source": [
    "sns.boxplot(data=no_dups,y='ST', x='died')"
   ]
  },
  {
   "cell_type": "code",
   "execution_count": 51,
   "metadata": {
    "ExecuteTime": {
     "end_time": "2019-05-27T15:26:39.819974Z",
     "start_time": "2019-05-27T15:26:38.854344Z"
    }
   },
   "outputs": [
    {
     "data": {
      "text/plain": [
       "Ttest_indResult(statistic=-190.7656551922509, pvalue=0.0)"
      ]
     },
     "execution_count": 51,
     "metadata": {},
     "output_type": "execute_result"
    }
   ],
   "source": [
    "#Null is equal averages, discarded\n",
    "ttest_ind(no_dups[no_dups['died']==True].ST,no_dups[no_dups['died']==False].ST, equal_var=False)"
   ]
  },
  {
   "cell_type": "markdown",
   "metadata": {},
   "source": [
    "## T"
   ]
  },
  {
   "cell_type": "code",
   "execution_count": 52,
   "metadata": {
    "ExecuteTime": {
     "end_time": "2019-05-27T15:26:45.837835Z",
     "start_time": "2019-05-27T15:26:39.820971Z"
    }
   },
   "outputs": [
    {
     "data": {
      "text/plain": [
       "<matplotlib.axes._subplots.AxesSubplot at 0x203a095b9e8>"
      ]
     },
     "execution_count": 52,
     "metadata": {},
     "output_type": "execute_result"
    },
    {
     "data": {
      "image/png": "[encoded data removed]",
      "text/plain": [
       "<Figure size 432x288 with 1 Axes>"
      ]
     },
     "metadata": {
      "needs_background": "light"
     },
     "output_type": "display_data"
    }
   ],
   "source": [
    "sns.distplot(no_dups[no_dups['died']==True]['T'], color='red', label='died')\n",
    "sns.distplot(no_dups[no_dups['died']==False]['T'], color='skyblue', label='not died')"
   ]
  },
  {
   "cell_type": "code",
   "execution_count": 53,
   "metadata": {
    "ExecuteTime": {
     "end_time": "2019-05-27T15:26:47.449140Z",
     "start_time": "2019-05-27T15:26:45.838817Z"
    }
   },
   "outputs": [
    {
     "data": {
      "text/plain": [
       "<matplotlib.axes._subplots.AxesSubplot at 0x203a0a80a90>"
      ]
     },
     "execution_count": 53,
     "metadata": {},
     "output_type": "execute_result"
    },
    {
     "data": {
      "image/png": "[encoded data removed]",
      "text/plain": [
       "<Figure size 432x288 with 1 Axes>"
      ]
     },
     "metadata": {
      "needs_background": "light"
     },
     "output_type": "display_data"
    }
   ],
   "source": [
    "sns.boxplot(data=no_dups,y='T', x='died')"
   ]
  },
  {
   "cell_type": "code",
   "execution_count": 54,
   "metadata": {
    "ExecuteTime": {
     "end_time": "2019-05-27T15:26:48.414419Z",
     "start_time": "2019-05-27T15:26:47.450135Z"
    }
   },
   "outputs": [
    {
     "data": {
      "text/plain": [
       "Ttest_indResult(statistic=221.96682083757784, pvalue=0.0)"
      ]
     },
     "execution_count": 54,
     "metadata": {},
     "output_type": "execute_result"
    }
   ],
   "source": [
    "#Null is equal averages, discarded\n",
    "ttest_ind(no_dups[no_dups['died']==True]['T'],no_dups[no_dups['died']==False]['T'], equal_var=False)"
   ]
  },
  {
   "cell_type": "code",
   "execution_count": 55,
   "metadata": {
    "ExecuteTime": {
     "end_time": "2019-05-27T15:26:48.419405Z",
     "start_time": "2019-05-27T15:26:48.415417Z"
    }
   },
   "outputs": [
    {
     "data": {
      "text/plain": [
       "(14315045, 7)"
      ]
     },
     "execution_count": 55,
     "metadata": {},
     "output_type": "execute_result"
    }
   ],
   "source": [
    "no_dups.shape"
   ]
  },
  {
   "cell_type": "markdown",
   "metadata": {},
   "source": [
    "## Aplicamos estadarización de features"
   ]
  },
  {
   "cell_type": "code",
   "execution_count": 56,
   "metadata": {
    "ExecuteTime": {
     "end_time": "2019-05-27T15:26:50.496121Z",
     "start_time": "2019-05-27T15:26:48.420403Z"
    }
   },
   "outputs": [],
   "source": [
    "scaler= preprocessing.StandardScaler().fit(no_dups[['RR','QR', 'RS','ST','T']])"
   ]
  },
  {
   "cell_type": "code",
   "execution_count": 57,
   "metadata": {
    "ExecuteTime": {
     "end_time": "2019-05-27T15:26:51.183646Z",
     "start_time": "2019-05-27T15:26:50.497118Z"
    }
   },
   "outputs": [],
   "source": [
    "X=scaler.transform(no_dups[['RR','QR', 'RS','ST','T']])"
   ]
  },
  {
   "cell_type": "code",
   "execution_count": 58,
   "metadata": {
    "ExecuteTime": {
     "end_time": "2019-05-27T15:26:51.189629Z",
     "start_time": "2019-05-27T15:26:51.184643Z"
    }
   },
   "outputs": [
    {
     "data": {
      "text/plain": [
       "array([[ 0.91331352,  2.09362363,  3.93253542, -0.87487704,  2.04236997],\n",
       "       [ 0.8639325 ,  2.09362363,  3.93253542, -0.76063731,  2.17364867],\n",
       "       [ 0.91331352,  2.09362363,  3.93253542, -0.87487704,  1.96406756],\n",
       "       ...,\n",
       "       [ 0.12321715, -0.24543521, -0.12519489,  1.98111635,  1.11336429],\n",
       "       [-0.07430695, -0.24543521, -0.12519489,  1.98111635,  1.06111793],\n",
       "       [-0.17306899, -1.41496463, -0.12519489,  1.98111635,  1.03820066]])"
      ]
     },
     "execution_count": 58,
     "metadata": {},
     "output_type": "execute_result"
    }
   ],
   "source": [
    "X"
   ]
  },
  {
   "cell_type": "markdown",
   "metadata": {},
   "source": [
    "## Prueba con MiniBatchKMeans, el mejor resultado obtenido son 2 clusters"
   ]
  },
  {
   "cell_type": "code",
   "execution_count": 59,
   "metadata": {
    "ExecuteTime": {
     "end_time": "2019-05-27T15:26:51.343232Z",
     "start_time": "2019-05-27T15:26:51.190627Z"
    }
   },
   "outputs": [],
   "source": [
    "from sklearn.cluster import MiniBatchKMeans"
   ]
  },
  {
   "cell_type": "code",
   "execution_count": 60,
   "metadata": {
    "ExecuteTime": {
     "end_time": "2019-05-27T16:46:14.783602Z",
     "start_time": "2019-05-27T16:46:13.978605Z"
    }
   },
   "outputs": [],
   "source": [
    "from skopt.space import Real, Integer\n",
    "from skopt.utils import use_named_args\n",
    "from sklearn.externals.joblib import Parallel, delayed\n"
   ]
  },
  {
   "cell_type": "code",
   "execution_count": 77,
   "metadata": {
    "ExecuteTime": {
     "end_time": "2019-05-27T17:06:41.277728Z",
     "start_time": "2019-05-27T17:06:41.271745Z"
    }
   },
   "outputs": [],
   "source": [
    "space_knn= [Integer(2, 20, name='n_clusters'), Real(0.01, 0.4, name='reassignment_ratio')]"
   ]
  },
  {
   "cell_type": "code",
   "execution_count": 78,
   "metadata": {
    "ExecuteTime": {
     "end_time": "2019-05-27T17:06:41.673086Z",
     "start_time": "2019-05-27T17:06:41.591330Z"
    }
   },
   "outputs": [],
   "source": [
    "models=[]"
   ]
  },
  {
   "cell_type": "code",
   "execution_count": 79,
   "metadata": {
    "ExecuteTime": {
     "end_time": "2019-05-27T17:06:41.996026Z",
     "start_time": "2019-05-27T17:06:41.991038Z"
    }
   },
   "outputs": [],
   "source": [
    "@use_named_args(space_knn)\n",
    "def objective(**params):\n",
    "    print(params)\n",
    "    kmeans = MiniBatchKMeans(init='k-means++', n_clusters=params['n_clusters'], reassignment_ratio=params['reassignment_ratio'])\n",
    "    kmeans.fit(X)\n",
    "    labels=kmeans.labels_\n",
    "    models.append(labels)\n",
    "    sil = metrics.silhouette_score(X,labels, sample_size=10000, random_state=1)\n",
    "    return -sil\n"
   ]
  },
  {
   "cell_type": "code",
   "execution_count": 80,
   "metadata": {
    "ExecuteTime": {
     "end_time": "2019-05-27T17:14:04.361187Z",
     "start_time": "2019-05-27T17:06:42.695674Z"
    }
   },
   "outputs": [
    {
     "name": "stdout",
     "output_type": "stream",
     "text": [
      "Iteration No: 1 started. Evaluating function at random point.\n",
      "{'n_clusters': 13, 'reassignment_ratio': 0.33926364194659686}\n",
      "Iteration No: 1 ended. Evaluation done at random point.\n",
      "Time taken: 28.0976\n",
      "Function value obtained: -0.2284\n",
      "Current minimum: -0.2284\n",
      "Iteration No: 2 started. Evaluating function at random point.\n",
      "{'n_clusters': 17, 'reassignment_ratio': 0.340428178125809}\n",
      "Iteration No: 2 ended. Evaluation done at random point.\n",
      "Time taken: 30.2307\n",
      "Function value obtained: -0.2327\n",
      "Current minimum: -0.2327\n",
      "Iteration No: 3 started. Evaluating function at random point.\n",
      "{'n_clusters': 13, 'reassignment_ratio': 0.15990886584415298}\n",
      "Iteration No: 3 ended. Evaluation done at random point.\n",
      "Time taken: 31.2122\n",
      "Function value obtained: -0.2279\n",
      "Current minimum: -0.2327\n",
      "Iteration No: 4 started. Searching for the next optimal point.\n",
      "{'n_clusters': 2, 'reassignment_ratio': 0.4}\n",
      "Iteration No: 4 ended. Search finished for the next optimal point.\n",
      "Time taken: 29.0010\n",
      "Function value obtained: -0.4777\n",
      "Current minimum: -0.4777\n",
      "Iteration No: 5 started. Searching for the next optimal point.\n",
      "{'n_clusters': 3, 'reassignment_ratio': 0.01}\n",
      "Iteration No: 5 ended. Search finished for the next optimal point.\n",
      "Time taken: 27.4352\n",
      "Function value obtained: -0.2403\n",
      "Current minimum: -0.4777\n",
      "Iteration No: 6 started. Searching for the next optimal point.\n",
      "{'n_clusters': 16, 'reassignment_ratio': 0.3928195530360403}\n",
      "Iteration No: 6 ended. Search finished for the next optimal point.\n",
      "Time taken: 28.3950\n",
      "Function value obtained: -0.2052\n",
      "Current minimum: -0.4777\n",
      "Iteration No: 7 started. Searching for the next optimal point.\n",
      "{'n_clusters': 5, 'reassignment_ratio': 0.4}\n",
      "Iteration No: 7 ended. Search finished for the next optimal point.\n",
      "Time taken: 27.7796\n",
      "Function value obtained: -0.3018\n",
      "Current minimum: -0.4777\n",
      "Iteration No: 8 started. Searching for the next optimal point.\n",
      "{'n_clusters': 2, 'reassignment_ratio': 0.3171477750323592}\n",
      "Iteration No: 8 ended. Search finished for the next optimal point.\n",
      "Time taken: 27.6323\n",
      "Function value obtained: -0.3330\n",
      "Current minimum: -0.4777\n",
      "Iteration No: 9 started. Searching for the next optimal point.\n",
      "{'n_clusters': 20, 'reassignment_ratio': 0.01}\n",
      "Iteration No: 9 ended. Search finished for the next optimal point.\n",
      "Time taken: 28.7453\n",
      "Function value obtained: -0.1547\n",
      "Current minimum: -0.4777\n",
      "Iteration No: 10 started. Searching for the next optimal point.\n",
      "{'n_clusters': 2, 'reassignment_ratio': 0.3998100766754854}\n",
      "Iteration No: 10 ended. Search finished for the next optimal point.\n",
      "Time taken: 27.9567\n",
      "Function value obtained: -0.4787\n",
      "Current minimum: -0.4787\n",
      "Iteration No: 11 started. Searching for the next optimal point.\n",
      "{'n_clusters': 3, 'reassignment_ratio': 0.4}\n",
      "Iteration No: 11 ended. Search finished for the next optimal point.\n",
      "Time taken: 30.0115\n",
      "Function value obtained: -0.3890\n",
      "Current minimum: -0.4787\n",
      "Iteration No: 12 started. Searching for the next optimal point.\n",
      "{'n_clusters': 2, 'reassignment_ratio': 0.3846915788098511}\n",
      "Iteration No: 12 ended. Search finished for the next optimal point.\n",
      "Time taken: 27.4691\n",
      "Function value obtained: -0.3354\n",
      "Current minimum: -0.4787\n",
      "Iteration No: 13 started. Searching for the next optimal point.\n",
      "{'n_clusters': 2, 'reassignment_ratio': 0.4}\n"
     ]
    },
    {
     "name": "stderr",
     "output_type": "stream",
     "text": [
      "C:\\Users\\AndresM\\Anaconda3\\envs\\HR_Analysis\\lib\\site-packages\\skopt\\optimizer\\optimizer.py:399: UserWarning: The objective has been evaluated at this point before.\n",
      "  warnings.warn(\"The objective has been evaluated \"\n"
     ]
    },
    {
     "name": "stdout",
     "output_type": "stream",
     "text": [
      "Iteration No: 13 ended. Search finished for the next optimal point.\n",
      "Time taken: 28.3444\n",
      "Function value obtained: -0.3335\n",
      "Current minimum: -0.4787\n",
      "Iteration No: 14 started. Searching for the next optimal point.\n",
      "{'n_clusters': 2, 'reassignment_ratio': 0.013265370417974634}\n",
      "Iteration No: 14 ended. Search finished for the next optimal point.\n",
      "Time taken: 27.3001\n",
      "Function value obtained: -0.3358\n",
      "Current minimum: -0.4787\n",
      "Iteration No: 15 started. Searching for the next optimal point.\n",
      "{'n_clusters': 2, 'reassignment_ratio': 0.3997996990562956}\n",
      "Iteration No: 15 ended. Search finished for the next optimal point.\n",
      "Time taken: 42.0439\n",
      "Function value obtained: -0.3336\n",
      "Current minimum: -0.4787\n"
     ]
    }
   ],
   "source": [
    "from skopt import gp_minimize\n",
    "res_gp_knn = gp_minimize(objective, space_knn, n_calls=15, random_state=0, verbose=True , n_jobs=2, n_random_starts =3)"
   ]
  },
  {
   "cell_type": "code",
   "execution_count": 81,
   "metadata": {
    "ExecuteTime": {
     "end_time": "2019-05-27T17:21:18.574610Z",
     "start_time": "2019-05-27T17:21:18.570644Z"
    }
   },
   "outputs": [
    {
     "data": {
      "text/plain": [
       "-0.4786609419951971"
      ]
     },
     "execution_count": 81,
     "metadata": {},
     "output_type": "execute_result"
    }
   ],
   "source": [
    "res_gp_knn.fun"
   ]
  },
  {
   "cell_type": "code",
   "execution_count": 82,
   "metadata": {
    "ExecuteTime": {
     "end_time": "2019-05-27T17:21:38.060310Z",
     "start_time": "2019-05-27T17:21:38.057317Z"
    }
   },
   "outputs": [
    {
     "name": "stdout",
     "output_type": "stream",
     "text": [
      "Best parameters:\n",
      "- n_clusters=2\n",
      "- reassignment_ratio=0.399810\n",
      "\n",
      "\n"
     ]
    }
   ],
   "source": [
    "print(\"\"\"Best parameters:\n",
    "- n_clusters=%d\n",
    "- reassignment_ratio=%.6f\n",
    "\n",
    "\"\"\" % (res_gp_knn.x[0], res_gp_knn.x[1]))"
   ]
  },
  {
   "cell_type": "code",
   "execution_count": 94,
   "metadata": {
    "ExecuteTime": {
     "end_time": "2019-05-27T17:23:31.484011Z",
     "start_time": "2019-05-27T17:23:31.480021Z"
    }
   },
   "outputs": [
    {
     "data": {
      "text/plain": [
       "array([0, 0, 0, ..., 1, 1, 1])"
      ]
     },
     "execution_count": 94,
     "metadata": {},
     "output_type": "execute_result"
    }
   ],
   "source": [
    "models[11]"
   ]
  },
  {
   "cell_type": "code",
   "execution_count": 95,
   "metadata": {
    "ExecuteTime": {
     "end_time": "2019-05-27T17:23:32.268829Z",
     "start_time": "2019-05-27T17:23:32.264840Z"
    }
   },
   "outputs": [
    {
     "data": {
      "text/plain": [
       "15"
      ]
     },
     "execution_count": 95,
     "metadata": {},
     "output_type": "execute_result"
    }
   ],
   "source": [
    "len(models)"
   ]
  },
  {
   "cell_type": "code",
   "execution_count": 97,
   "metadata": {
    "ExecuteTime": {
     "end_time": "2019-05-27T17:23:39.806726Z",
     "start_time": "2019-05-27T17:23:39.767800Z"
    }
   },
   "outputs": [],
   "source": [
    "no_dups['label_knn']=models[11]"
   ]
  },
  {
   "cell_type": "code",
   "execution_count": 98,
   "metadata": {
    "ExecuteTime": {
     "end_time": "2019-05-27T17:23:40.412789Z",
     "start_time": "2019-05-27T17:23:40.204314Z"
    }
   },
   "outputs": [
    {
     "data": {
      "text/plain": [
       "0    10846122\n",
       "1     3468923\n",
       "Name: label_knn, dtype: int64"
      ]
     },
     "execution_count": 98,
     "metadata": {},
     "output_type": "execute_result"
    }
   ],
   "source": [
    "no_dups['label_knn'].value_counts()"
   ]
  },
  {
   "cell_type": "code",
   "execution_count": 99,
   "metadata": {
    "ExecuteTime": {
     "end_time": "2019-05-27T17:23:43.432737Z",
     "start_time": "2019-05-27T17:23:43.272536Z"
    }
   },
   "outputs": [
    {
     "data": {
      "text/plain": [
       "False    10298447\n",
       "True      4016598\n",
       "Name: died, dtype: int64"
      ]
     },
     "execution_count": 99,
     "metadata": {},
     "output_type": "execute_result"
    }
   ],
   "source": [
    "no_dups['died'].value_counts()"
   ]
  },
  {
   "cell_type": "code",
   "execution_count": 100,
   "metadata": {
    "ExecuteTime": {
     "end_time": "2019-05-27T17:23:46.235528Z",
     "start_time": "2019-05-27T17:23:46.231540Z"
    }
   },
   "outputs": [],
   "source": [
    "from sklearn.metrics import confusion_matrix"
   ]
  },
  {
   "cell_type": "code",
   "execution_count": 102,
   "metadata": {
    "ExecuteTime": {
     "end_time": "2019-05-27T17:27:16.260222Z",
     "start_time": "2019-05-27T17:26:49.577510Z"
    }
   },
   "outputs": [
    {
     "data": {
      "text/plain": [
       "array([[7743507, 2554940],\n",
       "       [3102615,  913983]], dtype=int64)"
      ]
     },
     "execution_count": 102,
     "metadata": {},
     "output_type": "execute_result"
    }
   ],
   "source": [
    "confusion_matrix(no_dups['died'], models[11])"
   ]
  },
  {
   "cell_type": "code",
   "execution_count": 94,
   "metadata": {},
   "outputs": [
    {
     "data": {
      "text/plain": [
       "0.38718803062826385"
      ]
     },
     "execution_count": 94,
     "metadata": {},
     "output_type": "execute_result"
    }
   ],
   "source": [
    "483412/(483412+765108)"
   ]
  },
  {
   "cell_type": "code",
   "execution_count": 82,
   "metadata": {},
   "outputs": [],
   "source": [
    "from sklearn.cluster import Birch"
   ]
  },
  {
   "cell_type": "code",
   "execution_count": 88,
   "metadata": {},
   "outputs": [],
   "source": [
    "birch_abrv=Birch(n_clusters=None, threshold=0.5, branching_factor=10000)"
   ]
  },
  {
   "cell_type": "code",
   "execution_count": 89,
   "metadata": {},
   "outputs": [
    {
     "ename": "MemoryError",
     "evalue": "",
     "output_type": "error",
     "traceback": [
      "\u001b[1;31m---------------------------------------------------------------------------\u001b[0m",
      "\u001b[1;31mMemoryError\u001b[0m                               Traceback (most recent call last)",
      "\u001b[1;32m<ipython-input-89-f25a3207ebef>\u001b[0m in \u001b[0;36m<module>\u001b[1;34m\u001b[0m\n\u001b[1;32m----> 1\u001b[1;33m \u001b[0mbirch_abrv\u001b[0m\u001b[1;33m.\u001b[0m\u001b[0mfit\u001b[0m\u001b[1;33m(\u001b[0m\u001b[0mX\u001b[0m\u001b[1;33m)\u001b[0m\u001b[1;33m\u001b[0m\u001b[1;33m\u001b[0m\u001b[0m\n\u001b[0m",
      "\u001b[1;32m~\\Anaconda3\\envs\\HR_Analysis\\lib\\site-packages\\sklearn\\cluster\\birch.py\u001b[0m in \u001b[0;36mfit\u001b[1;34m(self, X, y)\u001b[0m\n\u001b[0;32m    447\u001b[0m         \"\"\"\n\u001b[0;32m    448\u001b[0m         \u001b[0mself\u001b[0m\u001b[1;33m.\u001b[0m\u001b[0mfit_\u001b[0m\u001b[1;33m,\u001b[0m \u001b[0mself\u001b[0m\u001b[1;33m.\u001b[0m\u001b[0mpartial_fit_\u001b[0m \u001b[1;33m=\u001b[0m \u001b[1;32mTrue\u001b[0m\u001b[1;33m,\u001b[0m \u001b[1;32mFalse\u001b[0m\u001b[1;33m\u001b[0m\u001b[1;33m\u001b[0m\u001b[0m\n\u001b[1;32m--> 449\u001b[1;33m         \u001b[1;32mreturn\u001b[0m \u001b[0mself\u001b[0m\u001b[1;33m.\u001b[0m\u001b[0m_fit\u001b[0m\u001b[1;33m(\u001b[0m\u001b[0mX\u001b[0m\u001b[1;33m)\u001b[0m\u001b[1;33m\u001b[0m\u001b[1;33m\u001b[0m\u001b[0m\n\u001b[0m\u001b[0;32m    450\u001b[0m \u001b[1;33m\u001b[0m\u001b[0m\n\u001b[0;32m    451\u001b[0m     \u001b[1;32mdef\u001b[0m \u001b[0m_fit\u001b[0m\u001b[1;33m(\u001b[0m\u001b[0mself\u001b[0m\u001b[1;33m,\u001b[0m \u001b[0mX\u001b[0m\u001b[1;33m)\u001b[0m\u001b[1;33m:\u001b[0m\u001b[1;33m\u001b[0m\u001b[1;33m\u001b[0m\u001b[0m\n",
      "\u001b[1;32m~\\Anaconda3\\envs\\HR_Analysis\\lib\\site-packages\\sklearn\\cluster\\birch.py\u001b[0m in \u001b[0;36m_fit\u001b[1;34m(self, X)\u001b[0m\n\u001b[0;32m    497\u001b[0m         \u001b[0mself\u001b[0m\u001b[1;33m.\u001b[0m\u001b[0msubcluster_centers_\u001b[0m \u001b[1;33m=\u001b[0m \u001b[0mcentroids\u001b[0m\u001b[1;33m\u001b[0m\u001b[1;33m\u001b[0m\u001b[0m\n\u001b[0;32m    498\u001b[0m \u001b[1;33m\u001b[0m\u001b[0m\n\u001b[1;32m--> 499\u001b[1;33m         \u001b[0mself\u001b[0m\u001b[1;33m.\u001b[0m\u001b[0m_global_clustering\u001b[0m\u001b[1;33m(\u001b[0m\u001b[0mX\u001b[0m\u001b[1;33m)\u001b[0m\u001b[1;33m\u001b[0m\u001b[1;33m\u001b[0m\u001b[0m\n\u001b[0m\u001b[0;32m    500\u001b[0m         \u001b[1;32mreturn\u001b[0m \u001b[0mself\u001b[0m\u001b[1;33m\u001b[0m\u001b[1;33m\u001b[0m\u001b[0m\n\u001b[0;32m    501\u001b[0m \u001b[1;33m\u001b[0m\u001b[0m\n",
      "\u001b[1;32m~\\Anaconda3\\envs\\HR_Analysis\\lib\\site-packages\\sklearn\\cluster\\birch.py\u001b[0m in \u001b[0;36m_global_clustering\u001b[1;34m(self, X)\u001b[0m\n\u001b[0;32m    636\u001b[0m \u001b[1;33m\u001b[0m\u001b[0m\n\u001b[0;32m    637\u001b[0m         \u001b[1;32mif\u001b[0m \u001b[0mcompute_labels\u001b[0m\u001b[1;33m:\u001b[0m\u001b[1;33m\u001b[0m\u001b[1;33m\u001b[0m\u001b[0m\n\u001b[1;32m--> 638\u001b[1;33m             \u001b[0mself\u001b[0m\u001b[1;33m.\u001b[0m\u001b[0mlabels_\u001b[0m \u001b[1;33m=\u001b[0m \u001b[0mself\u001b[0m\u001b[1;33m.\u001b[0m\u001b[0mpredict\u001b[0m\u001b[1;33m(\u001b[0m\u001b[0mX\u001b[0m\u001b[1;33m)\u001b[0m\u001b[1;33m\u001b[0m\u001b[1;33m\u001b[0m\u001b[0m\n\u001b[0m",
      "\u001b[1;32m~\\Anaconda3\\envs\\HR_Analysis\\lib\\site-packages\\sklearn\\cluster\\birch.py\u001b[0m in \u001b[0;36mpredict\u001b[1;34m(self, X)\u001b[0m\n\u001b[0;32m    571\u001b[0m         \u001b[0mX\u001b[0m \u001b[1;33m=\u001b[0m \u001b[0mcheck_array\u001b[0m\u001b[1;33m(\u001b[0m\u001b[0mX\u001b[0m\u001b[1;33m,\u001b[0m \u001b[0maccept_sparse\u001b[0m\u001b[1;33m=\u001b[0m\u001b[1;34m'csr'\u001b[0m\u001b[1;33m)\u001b[0m\u001b[1;33m\u001b[0m\u001b[1;33m\u001b[0m\u001b[0m\n\u001b[0;32m    572\u001b[0m         \u001b[0mself\u001b[0m\u001b[1;33m.\u001b[0m\u001b[0m_check_fit\u001b[0m\u001b[1;33m(\u001b[0m\u001b[0mX\u001b[0m\u001b[1;33m)\u001b[0m\u001b[1;33m\u001b[0m\u001b[1;33m\u001b[0m\u001b[0m\n\u001b[1;32m--> 573\u001b[1;33m         \u001b[0mreduced_distance\u001b[0m \u001b[1;33m=\u001b[0m \u001b[0msafe_sparse_dot\u001b[0m\u001b[1;33m(\u001b[0m\u001b[0mX\u001b[0m\u001b[1;33m,\u001b[0m \u001b[0mself\u001b[0m\u001b[1;33m.\u001b[0m\u001b[0msubcluster_centers_\u001b[0m\u001b[1;33m.\u001b[0m\u001b[0mT\u001b[0m\u001b[1;33m)\u001b[0m\u001b[1;33m\u001b[0m\u001b[1;33m\u001b[0m\u001b[0m\n\u001b[0m\u001b[0;32m    574\u001b[0m         \u001b[0mreduced_distance\u001b[0m \u001b[1;33m*=\u001b[0m \u001b[1;33m-\u001b[0m\u001b[1;36m2\u001b[0m\u001b[1;33m\u001b[0m\u001b[1;33m\u001b[0m\u001b[0m\n\u001b[0;32m    575\u001b[0m         \u001b[0mreduced_distance\u001b[0m \u001b[1;33m+=\u001b[0m \u001b[0mself\u001b[0m\u001b[1;33m.\u001b[0m\u001b[0m_subcluster_norms\u001b[0m\u001b[1;33m\u001b[0m\u001b[1;33m\u001b[0m\u001b[0m\n",
      "\u001b[1;32m~\\Anaconda3\\envs\\HR_Analysis\\lib\\site-packages\\sklearn\\utils\\extmath.py\u001b[0m in \u001b[0;36msafe_sparse_dot\u001b[1;34m(a, b, dense_output)\u001b[0m\n\u001b[0;32m    171\u001b[0m         \u001b[1;32mreturn\u001b[0m \u001b[0mret\u001b[0m\u001b[1;33m\u001b[0m\u001b[1;33m\u001b[0m\u001b[0m\n\u001b[0;32m    172\u001b[0m     \u001b[1;32melse\u001b[0m\u001b[1;33m:\u001b[0m\u001b[1;33m\u001b[0m\u001b[1;33m\u001b[0m\u001b[0m\n\u001b[1;32m--> 173\u001b[1;33m         \u001b[1;32mreturn\u001b[0m \u001b[0mnp\u001b[0m\u001b[1;33m.\u001b[0m\u001b[0mdot\u001b[0m\u001b[1;33m(\u001b[0m\u001b[0ma\u001b[0m\u001b[1;33m,\u001b[0m \u001b[0mb\u001b[0m\u001b[1;33m)\u001b[0m\u001b[1;33m\u001b[0m\u001b[1;33m\u001b[0m\u001b[0m\n\u001b[0m\u001b[0;32m    174\u001b[0m \u001b[1;33m\u001b[0m\u001b[0m\n\u001b[0;32m    175\u001b[0m \u001b[1;33m\u001b[0m\u001b[0m\n",
      "\u001b[1;31mMemoryError\u001b[0m: "
     ]
    }
   ],
   "source": [
    "birch_abrv.fit(X)"
   ]
  },
  {
   "cell_type": "code",
   "execution_count": null,
   "metadata": {},
   "outputs": [],
   "source": []
  },
  {
   "cell_type": "code",
   "execution_count": 73,
   "metadata": {},
   "outputs": [],
   "source": [
    "space_knn= [Integer(2, 20, name='n_clusters')]"
   ]
  },
  {
   "cell_type": "code",
   "execution_count": 74,
   "metadata": {},
   "outputs": [],
   "source": [
    "models={}"
   ]
  },
  {
   "cell_type": "code",
   "execution_count": 75,
   "metadata": {},
   "outputs": [],
   "source": [
    "@use_named_args(space_knn)\n",
    "def objective(**params):\n",
    "    kmeans = MiniBatchKMeans(**params)\n",
    "    kmeans.fit(X)\n",
    "    labels=kmeans.labels_\n",
    "    models[params['n_clusters']]=labels\n",
    "    sil = metrics.silhouette_score(X,labels, sample_size=10000, random_state=1)\n",
    "    return -sil\n"
   ]
  },
  {
   "cell_type": "code",
   "execution_count": 76,
   "metadata": {},
   "outputs": [
    {
     "name": "stdout",
     "output_type": "stream",
     "text": [
      "Iteration No: 1 started. Evaluating function at random point.\n",
      "Iteration No: 1 ended. Evaluation done at random point.\n",
      "Time taken: 25.6714\n",
      "Function value obtained: -0.2248\n",
      "Current minimum: -0.2248\n",
      "Iteration No: 2 started. Evaluating function at random point.\n",
      "Iteration No: 2 ended. Evaluation done at random point.\n",
      "Time taken: 27.7369\n",
      "Function value obtained: -0.2066\n",
      "Current minimum: -0.2248\n",
      "Iteration No: 3 started. Evaluating function at random point.\n",
      "Iteration No: 3 ended. Evaluation done at random point.\n",
      "Time taken: 46.2613\n",
      "Function value obtained: -0.1979\n",
      "Current minimum: -0.2248\n",
      "Iteration No: 4 started. Searching for the next optimal point.\n",
      "Iteration No: 4 ended. Search finished for the next optimal point.\n",
      "Time taken: 25.8778\n",
      "Function value obtained: -0.4755\n",
      "Current minimum: -0.4755\n",
      "Iteration No: 5 started. Searching for the next optimal point.\n",
      "Iteration No: 5 ended. Search finished for the next optimal point.\n",
      "Time taken: 25.0415\n",
      "Function value obtained: -0.3886\n",
      "Current minimum: -0.4755\n",
      "Iteration No: 6 started. Searching for the next optimal point.\n",
      "Iteration No: 6 ended. Search finished for the next optimal point.\n",
      "Time taken: 30.3633\n",
      "Function value obtained: -0.2138\n",
      "Current minimum: -0.4755\n"
     ]
    }
   ],
   "source": [
    "from skopt import gp_minimize\n",
    "res_gp_knn = gp_minimize(objective, space_knn, n_calls=6, random_state=0, verbose=True , n_jobs=2, n_random_starts =3)"
   ]
  },
  {
   "cell_type": "code",
   "execution_count": 77,
   "metadata": {},
   "outputs": [
    {
     "data": {
      "text/plain": [
       "-0.47547794899070905"
      ]
     },
     "execution_count": 77,
     "metadata": {},
     "output_type": "execute_result"
    }
   ],
   "source": [
    "res_gp_knn.fun"
   ]
  },
  {
   "cell_type": "code",
   "execution_count": 78,
   "metadata": {},
   "outputs": [
    {
     "name": "stdout",
     "output_type": "stream",
     "text": [
      "Best parameters:\n",
      "- n_clusters=2\n",
      "\n"
     ]
    }
   ],
   "source": [
    "print(\"\"\"Best parameters:\n",
    "- n_clusters=%d\n",
    "\"\"\" % (res_gp_knn.x[0]))"
   ]
  },
  {
   "cell_type": "code",
   "execution_count": 68,
   "metadata": {},
   "outputs": [],
   "source": [
    "space_dbscan  = [Integer(2, 1000, name='min_samples'),\n",
    "          Real(10**-5, 10**0, \"log-uniform\", name='eps')]"
   ]
  },
  {
   "cell_type": "code",
   "execution_count": 107,
   "metadata": {},
   "outputs": [],
   "source": [
    "def scoring(num_labels,silhouette_sc):\n",
    "    sil_sc=-silhouette_sc\n",
    "    sc_labels=np.abs(num_labels-10)\n",
    "    return sil_sc+sc_labels"
   ]
  },
  {
   "cell_type": "code",
   "execution_count": 108,
   "metadata": {},
   "outputs": [],
   "source": [
    "db= DBSCAN(n_jobs=3)"
   ]
  },
  {
   "cell_type": "code",
   "execution_count": 109,
   "metadata": {},
   "outputs": [],
   "source": [
    "@use_named_args(space_dbscan)\n",
    "def objective(**params):\n",
    "    db.set_params(**params)\n",
    "    db.fit(X)\n",
    "    labels=db.labels_\n",
    "    a,counts=np.unique(labels, return_counts=True)\n",
    "    if len(a)==1:\n",
    "        return 100000\n",
    "    sil = metrics.silhouette_score(X,labels, sample_size=10000, random_state=1)\n",
    "    \n",
    "    \n",
    "    return scoring(len(a),sil)\n"
   ]
  },
  {
   "cell_type": "code",
   "execution_count": null,
   "metadata": {},
   "outputs": [],
   "source": [
    "from skopt import gp_minimize\n",
    "res_gp = gp_minimize(objective, space_dbscan, n_calls=20, random_state=0)\n"
   ]
  },
  {
   "cell_type": "code",
   "execution_count": null,
   "metadata": {},
   "outputs": [],
   "source": [
    "db.set_params(min_samples=res_gp.x[0],eps=res_gp.x[1])\n",
    "db.fit(X)\n",
    " "
   ]
  },
  {
   "cell_type": "code",
   "execution_count": null,
   "metadata": {},
   "outputs": [],
   "source": [
    "labels=db.labels_\n",
    "np.unique(labels, return_counts=True)"
   ]
  },
  {
   "cell_type": "code",
   "execution_count": null,
   "metadata": {},
   "outputs": [],
   "source": [
    "no_dups['labels']=labels"
   ]
  },
  {
   "cell_type": "code",
   "execution_count": 28,
   "metadata": {},
   "outputs": [
    {
     "data": {
      "text/html": [
       "<div>\n",
       "<style scoped>\n",
       "    .dataframe tbody tr th:only-of-type {\n",
       "        vertical-align: middle;\n",
       "    }\n",
       "\n",
       "    .dataframe tbody tr th {\n",
       "        vertical-align: top;\n",
       "    }\n",
       "\n",
       "    .dataframe thead th {\n",
       "        text-align: right;\n",
       "    }\n",
       "</style>\n",
       "<table border=\"1\" class=\"dataframe\">\n",
       "  <thead>\n",
       "    <tr style=\"text-align: right;\">\n",
       "      <th></th>\n",
       "      <th>QR</th>\n",
       "      <th>RS</th>\n",
       "      <th>ST</th>\n",
       "      <th>died</th>\n",
       "      <th>filename</th>\n",
       "      <th>labels</th>\n",
       "    </tr>\n",
       "  </thead>\n",
       "  <tbody>\n",
       "    <tr>\n",
       "      <th>15638</th>\n",
       "      <td>7</td>\n",
       "      <td>5</td>\n",
       "      <td>394</td>\n",
       "      <td>False</td>\n",
       "      <td>./data/processed.old/79-80-p000079-2175-09-26-...</td>\n",
       "      <td>4</td>\n",
       "    </tr>\n",
       "    <tr>\n",
       "      <th>15640</th>\n",
       "      <td>7</td>\n",
       "      <td>5</td>\n",
       "      <td>398</td>\n",
       "      <td>False</td>\n",
       "      <td>./data/processed.old/79-80-p000079-2175-09-26-...</td>\n",
       "      <td>4</td>\n",
       "    </tr>\n",
       "    <tr>\n",
       "      <th>15641</th>\n",
       "      <td>6</td>\n",
       "      <td>5</td>\n",
       "      <td>397</td>\n",
       "      <td>False</td>\n",
       "      <td>./data/processed.old/79-80-p000079-2175-09-26-...</td>\n",
       "      <td>0</td>\n",
       "    </tr>\n",
       "    <tr>\n",
       "      <th>15642</th>\n",
       "      <td>6</td>\n",
       "      <td>6</td>\n",
       "      <td>386</td>\n",
       "      <td>False</td>\n",
       "      <td>./data/processed.old/79-80-p000079-2175-09-26-...</td>\n",
       "      <td>0</td>\n",
       "    </tr>\n",
       "    <tr>\n",
       "      <th>15643</th>\n",
       "      <td>6</td>\n",
       "      <td>5</td>\n",
       "      <td>394</td>\n",
       "      <td>False</td>\n",
       "      <td>./data/processed.old/79-80-p000079-2175-09-26-...</td>\n",
       "      <td>0</td>\n",
       "    </tr>\n",
       "    <tr>\n",
       "      <th>15644</th>\n",
       "      <td>7</td>\n",
       "      <td>5</td>\n",
       "      <td>391</td>\n",
       "      <td>False</td>\n",
       "      <td>./data/processed.old/79-80-p000079-2175-09-26-...</td>\n",
       "      <td>4</td>\n",
       "    </tr>\n",
       "    <tr>\n",
       "      <th>15645</th>\n",
       "      <td>6</td>\n",
       "      <td>5</td>\n",
       "      <td>389</td>\n",
       "      <td>False</td>\n",
       "      <td>./data/processed.old/79-80-p000079-2175-09-26-...</td>\n",
       "      <td>0</td>\n",
       "    </tr>\n",
       "    <tr>\n",
       "      <th>15646</th>\n",
       "      <td>6</td>\n",
       "      <td>6</td>\n",
       "      <td>389</td>\n",
       "      <td>False</td>\n",
       "      <td>./data/processed.old/79-80-p000079-2175-09-26-...</td>\n",
       "      <td>0</td>\n",
       "    </tr>\n",
       "    <tr>\n",
       "      <th>15647</th>\n",
       "      <td>6</td>\n",
       "      <td>6</td>\n",
       "      <td>379</td>\n",
       "      <td>False</td>\n",
       "      <td>./data/processed.old/79-80-p000079-2175-09-26-...</td>\n",
       "      <td>0</td>\n",
       "    </tr>\n",
       "    <tr>\n",
       "      <th>15649</th>\n",
       "      <td>6</td>\n",
       "      <td>5</td>\n",
       "      <td>386</td>\n",
       "      <td>False</td>\n",
       "      <td>./data/processed.old/79-80-p000079-2175-09-26-...</td>\n",
       "      <td>0</td>\n",
       "    </tr>\n",
       "    <tr>\n",
       "      <th>15650</th>\n",
       "      <td>6</td>\n",
       "      <td>5</td>\n",
       "      <td>382</td>\n",
       "      <td>False</td>\n",
       "      <td>./data/processed.old/79-80-p000079-2175-09-26-...</td>\n",
       "      <td>0</td>\n",
       "    </tr>\n",
       "    <tr>\n",
       "      <th>15651</th>\n",
       "      <td>6</td>\n",
       "      <td>5</td>\n",
       "      <td>379</td>\n",
       "      <td>False</td>\n",
       "      <td>./data/processed.old/79-80-p000079-2175-09-26-...</td>\n",
       "      <td>0</td>\n",
       "    </tr>\n",
       "    <tr>\n",
       "      <th>15656</th>\n",
       "      <td>6</td>\n",
       "      <td>6</td>\n",
       "      <td>375</td>\n",
       "      <td>False</td>\n",
       "      <td>./data/processed.old/79-80-p000079-2175-09-26-...</td>\n",
       "      <td>0</td>\n",
       "    </tr>\n",
       "    <tr>\n",
       "      <th>15657</th>\n",
       "      <td>7</td>\n",
       "      <td>5</td>\n",
       "      <td>375</td>\n",
       "      <td>False</td>\n",
       "      <td>./data/processed.old/79-80-p000079-2175-09-26-...</td>\n",
       "      <td>4</td>\n",
       "    </tr>\n",
       "    <tr>\n",
       "      <th>15658</th>\n",
       "      <td>6</td>\n",
       "      <td>5</td>\n",
       "      <td>375</td>\n",
       "      <td>False</td>\n",
       "      <td>./data/processed.old/79-80-p000079-2175-09-26-...</td>\n",
       "      <td>0</td>\n",
       "    </tr>\n",
       "    <tr>\n",
       "      <th>15659</th>\n",
       "      <td>6</td>\n",
       "      <td>6</td>\n",
       "      <td>377</td>\n",
       "      <td>False</td>\n",
       "      <td>./data/processed.old/79-80-p000079-2175-09-26-...</td>\n",
       "      <td>0</td>\n",
       "    </tr>\n",
       "    <tr>\n",
       "      <th>15661</th>\n",
       "      <td>7</td>\n",
       "      <td>5</td>\n",
       "      <td>385</td>\n",
       "      <td>False</td>\n",
       "      <td>./data/processed.old/79-80-p000079-2175-09-26-...</td>\n",
       "      <td>4</td>\n",
       "    </tr>\n",
       "    <tr>\n",
       "      <th>15662</th>\n",
       "      <td>6</td>\n",
       "      <td>6</td>\n",
       "      <td>388</td>\n",
       "      <td>False</td>\n",
       "      <td>./data/processed.old/79-80-p000079-2175-09-26-...</td>\n",
       "      <td>0</td>\n",
       "    </tr>\n",
       "    <tr>\n",
       "      <th>15663</th>\n",
       "      <td>6</td>\n",
       "      <td>5</td>\n",
       "      <td>387</td>\n",
       "      <td>False</td>\n",
       "      <td>./data/processed.old/79-80-p000079-2175-09-26-...</td>\n",
       "      <td>0</td>\n",
       "    </tr>\n",
       "    <tr>\n",
       "      <th>15664</th>\n",
       "      <td>7</td>\n",
       "      <td>5</td>\n",
       "      <td>384</td>\n",
       "      <td>False</td>\n",
       "      <td>./data/processed.old/79-80-p000079-2175-09-26-...</td>\n",
       "      <td>4</td>\n",
       "    </tr>\n",
       "    <tr>\n",
       "      <th>15665</th>\n",
       "      <td>7</td>\n",
       "      <td>5</td>\n",
       "      <td>382</td>\n",
       "      <td>False</td>\n",
       "      <td>./data/processed.old/79-80-p000079-2175-09-26-...</td>\n",
       "      <td>4</td>\n",
       "    </tr>\n",
       "    <tr>\n",
       "      <th>15667</th>\n",
       "      <td>6</td>\n",
       "      <td>5</td>\n",
       "      <td>380</td>\n",
       "      <td>False</td>\n",
       "      <td>./data/processed.old/79-80-p000079-2175-09-26-...</td>\n",
       "      <td>0</td>\n",
       "    </tr>\n",
       "    <tr>\n",
       "      <th>15668</th>\n",
       "      <td>7</td>\n",
       "      <td>5</td>\n",
       "      <td>377</td>\n",
       "      <td>False</td>\n",
       "      <td>./data/processed.old/79-80-p000079-2175-09-26-...</td>\n",
       "      <td>4</td>\n",
       "    </tr>\n",
       "    <tr>\n",
       "      <th>15670</th>\n",
       "      <td>6</td>\n",
       "      <td>6</td>\n",
       "      <td>370</td>\n",
       "      <td>False</td>\n",
       "      <td>./data/processed.old/79-80-p000079-2175-09-26-...</td>\n",
       "      <td>0</td>\n",
       "    </tr>\n",
       "    <tr>\n",
       "      <th>15671</th>\n",
       "      <td>7</td>\n",
       "      <td>5</td>\n",
       "      <td>367</td>\n",
       "      <td>False</td>\n",
       "      <td>./data/processed.old/79-80-p000079-2175-09-26-...</td>\n",
       "      <td>4</td>\n",
       "    </tr>\n",
       "    <tr>\n",
       "      <th>15672</th>\n",
       "      <td>7</td>\n",
       "      <td>5</td>\n",
       "      <td>365</td>\n",
       "      <td>False</td>\n",
       "      <td>./data/processed.old/79-80-p000079-2175-09-26-...</td>\n",
       "      <td>4</td>\n",
       "    </tr>\n",
       "    <tr>\n",
       "      <th>15673</th>\n",
       "      <td>7</td>\n",
       "      <td>5</td>\n",
       "      <td>364</td>\n",
       "      <td>False</td>\n",
       "      <td>./data/processed.old/79-80-p000079-2175-09-26-...</td>\n",
       "      <td>4</td>\n",
       "    </tr>\n",
       "    <tr>\n",
       "      <th>15675</th>\n",
       "      <td>7</td>\n",
       "      <td>5</td>\n",
       "      <td>362</td>\n",
       "      <td>False</td>\n",
       "      <td>./data/processed.old/79-80-p000079-2175-09-26-...</td>\n",
       "      <td>4</td>\n",
       "    </tr>\n",
       "    <tr>\n",
       "      <th>15676</th>\n",
       "      <td>6</td>\n",
       "      <td>6</td>\n",
       "      <td>363</td>\n",
       "      <td>False</td>\n",
       "      <td>./data/processed.old/79-80-p000079-2175-09-26-...</td>\n",
       "      <td>0</td>\n",
       "    </tr>\n",
       "    <tr>\n",
       "      <th>15677</th>\n",
       "      <td>7</td>\n",
       "      <td>5</td>\n",
       "      <td>366</td>\n",
       "      <td>False</td>\n",
       "      <td>./data/processed.old/79-80-p000079-2175-09-26-...</td>\n",
       "      <td>4</td>\n",
       "    </tr>\n",
       "    <tr>\n",
       "      <th>15679</th>\n",
       "      <td>6</td>\n",
       "      <td>6</td>\n",
       "      <td>369</td>\n",
       "      <td>False</td>\n",
       "      <td>./data/processed.old/79-80-p000079-2175-09-26-...</td>\n",
       "      <td>0</td>\n",
       "    </tr>\n",
       "    <tr>\n",
       "      <th>15680</th>\n",
       "      <td>6</td>\n",
       "      <td>6</td>\n",
       "      <td>372</td>\n",
       "      <td>False</td>\n",
       "      <td>./data/processed.old/79-80-p000079-2175-09-26-...</td>\n",
       "      <td>0</td>\n",
       "    </tr>\n",
       "    <tr>\n",
       "      <th>15681</th>\n",
       "      <td>6</td>\n",
       "      <td>5</td>\n",
       "      <td>373</td>\n",
       "      <td>False</td>\n",
       "      <td>./data/processed.old/79-80-p000079-2175-09-26-...</td>\n",
       "      <td>0</td>\n",
       "    </tr>\n",
       "    <tr>\n",
       "      <th>15682</th>\n",
       "      <td>6</td>\n",
       "      <td>6</td>\n",
       "      <td>376</td>\n",
       "      <td>False</td>\n",
       "      <td>./data/processed.old/79-80-p000079-2175-09-26-...</td>\n",
       "      <td>0</td>\n",
       "    </tr>\n",
       "    <tr>\n",
       "      <th>15683</th>\n",
       "      <td>6</td>\n",
       "      <td>5</td>\n",
       "      <td>381</td>\n",
       "      <td>False</td>\n",
       "      <td>./data/processed.old/79-80-p000079-2175-09-26-...</td>\n",
       "      <td>0</td>\n",
       "    </tr>\n",
       "    <tr>\n",
       "      <th>15684</th>\n",
       "      <td>6</td>\n",
       "      <td>6</td>\n",
       "      <td>381</td>\n",
       "      <td>False</td>\n",
       "      <td>./data/processed.old/79-80-p000079-2175-09-26-...</td>\n",
       "      <td>0</td>\n",
       "    </tr>\n",
       "    <tr>\n",
       "      <th>15685</th>\n",
       "      <td>6</td>\n",
       "      <td>6</td>\n",
       "      <td>382</td>\n",
       "      <td>False</td>\n",
       "      <td>./data/processed.old/79-80-p000079-2175-09-26-...</td>\n",
       "      <td>0</td>\n",
       "    </tr>\n",
       "    <tr>\n",
       "      <th>15686</th>\n",
       "      <td>6</td>\n",
       "      <td>5</td>\n",
       "      <td>383</td>\n",
       "      <td>False</td>\n",
       "      <td>./data/processed.old/79-80-p000079-2175-09-26-...</td>\n",
       "      <td>0</td>\n",
       "    </tr>\n",
       "    <tr>\n",
       "      <th>15687</th>\n",
       "      <td>6</td>\n",
       "      <td>6</td>\n",
       "      <td>385</td>\n",
       "      <td>False</td>\n",
       "      <td>./data/processed.old/79-80-p000079-2175-09-26-...</td>\n",
       "      <td>0</td>\n",
       "    </tr>\n",
       "    <tr>\n",
       "      <th>15688</th>\n",
       "      <td>7</td>\n",
       "      <td>5</td>\n",
       "      <td>389</td>\n",
       "      <td>False</td>\n",
       "      <td>./data/processed.old/79-80-p000079-2175-09-26-...</td>\n",
       "      <td>4</td>\n",
       "    </tr>\n",
       "    <tr>\n",
       "      <th>15689</th>\n",
       "      <td>6</td>\n",
       "      <td>5</td>\n",
       "      <td>395</td>\n",
       "      <td>False</td>\n",
       "      <td>./data/processed.old/79-80-p000079-2175-09-26-...</td>\n",
       "      <td>0</td>\n",
       "    </tr>\n",
       "    <tr>\n",
       "      <th>15690</th>\n",
       "      <td>7</td>\n",
       "      <td>5</td>\n",
       "      <td>399</td>\n",
       "      <td>False</td>\n",
       "      <td>./data/processed.old/79-80-p000079-2175-09-26-...</td>\n",
       "      <td>4</td>\n",
       "    </tr>\n",
       "    <tr>\n",
       "      <th>15691</th>\n",
       "      <td>6</td>\n",
       "      <td>6</td>\n",
       "      <td>403</td>\n",
       "      <td>False</td>\n",
       "      <td>./data/processed.old/79-80-p000079-2175-09-26-...</td>\n",
       "      <td>0</td>\n",
       "    </tr>\n",
       "    <tr>\n",
       "      <th>15693</th>\n",
       "      <td>7</td>\n",
       "      <td>5</td>\n",
       "      <td>403</td>\n",
       "      <td>False</td>\n",
       "      <td>./data/processed.old/79-80-p000079-2175-09-26-...</td>\n",
       "      <td>4</td>\n",
       "    </tr>\n",
       "    <tr>\n",
       "      <th>15694</th>\n",
       "      <td>6</td>\n",
       "      <td>5</td>\n",
       "      <td>392</td>\n",
       "      <td>False</td>\n",
       "      <td>./data/processed.old/79-80-p000079-2175-09-26-...</td>\n",
       "      <td>0</td>\n",
       "    </tr>\n",
       "    <tr>\n",
       "      <th>15695</th>\n",
       "      <td>6</td>\n",
       "      <td>6</td>\n",
       "      <td>396</td>\n",
       "      <td>False</td>\n",
       "      <td>./data/processed.old/79-80-p000079-2175-09-26-...</td>\n",
       "      <td>0</td>\n",
       "    </tr>\n",
       "    <tr>\n",
       "      <th>15696</th>\n",
       "      <td>6</td>\n",
       "      <td>5</td>\n",
       "      <td>398</td>\n",
       "      <td>False</td>\n",
       "      <td>./data/processed.old/79-80-p000079-2175-09-26-...</td>\n",
       "      <td>0</td>\n",
       "    </tr>\n",
       "    <tr>\n",
       "      <th>15697</th>\n",
       "      <td>6</td>\n",
       "      <td>6</td>\n",
       "      <td>399</td>\n",
       "      <td>False</td>\n",
       "      <td>./data/processed.old/79-80-p000079-2175-09-26-...</td>\n",
       "      <td>0</td>\n",
       "    </tr>\n",
       "    <tr>\n",
       "      <th>15699</th>\n",
       "      <td>6</td>\n",
       "      <td>6</td>\n",
       "      <td>401</td>\n",
       "      <td>False</td>\n",
       "      <td>./data/processed.old/79-80-p000079-2175-09-26-...</td>\n",
       "      <td>0</td>\n",
       "    </tr>\n",
       "    <tr>\n",
       "      <th>15700</th>\n",
       "      <td>7</td>\n",
       "      <td>5</td>\n",
       "      <td>306</td>\n",
       "      <td>False</td>\n",
       "      <td>./data/processed.old/79-80-p000079-2175-09-26-...</td>\n",
       "      <td>4</td>\n",
       "    </tr>\n",
       "  </tbody>\n",
       "</table>\n",
       "</div>"
      ],
      "text/plain": [
       "       QR  RS   ST   died                                           filename  \\\n",
       "15638   7   5  394  False  ./data/processed.old/79-80-p000079-2175-09-26-...   \n",
       "15640   7   5  398  False  ./data/processed.old/79-80-p000079-2175-09-26-...   \n",
       "15641   6   5  397  False  ./data/processed.old/79-80-p000079-2175-09-26-...   \n",
       "15642   6   6  386  False  ./data/processed.old/79-80-p000079-2175-09-26-...   \n",
       "15643   6   5  394  False  ./data/processed.old/79-80-p000079-2175-09-26-...   \n",
       "15644   7   5  391  False  ./data/processed.old/79-80-p000079-2175-09-26-...   \n",
       "15645   6   5  389  False  ./data/processed.old/79-80-p000079-2175-09-26-...   \n",
       "15646   6   6  389  False  ./data/processed.old/79-80-p000079-2175-09-26-...   \n",
       "15647   6   6  379  False  ./data/processed.old/79-80-p000079-2175-09-26-...   \n",
       "15649   6   5  386  False  ./data/processed.old/79-80-p000079-2175-09-26-...   \n",
       "15650   6   5  382  False  ./data/processed.old/79-80-p000079-2175-09-26-...   \n",
       "15651   6   5  379  False  ./data/processed.old/79-80-p000079-2175-09-26-...   \n",
       "15656   6   6  375  False  ./data/processed.old/79-80-p000079-2175-09-26-...   \n",
       "15657   7   5  375  False  ./data/processed.old/79-80-p000079-2175-09-26-...   \n",
       "15658   6   5  375  False  ./data/processed.old/79-80-p000079-2175-09-26-...   \n",
       "15659   6   6  377  False  ./data/processed.old/79-80-p000079-2175-09-26-...   \n",
       "15661   7   5  385  False  ./data/processed.old/79-80-p000079-2175-09-26-...   \n",
       "15662   6   6  388  False  ./data/processed.old/79-80-p000079-2175-09-26-...   \n",
       "15663   6   5  387  False  ./data/processed.old/79-80-p000079-2175-09-26-...   \n",
       "15664   7   5  384  False  ./data/processed.old/79-80-p000079-2175-09-26-...   \n",
       "15665   7   5  382  False  ./data/processed.old/79-80-p000079-2175-09-26-...   \n",
       "15667   6   5  380  False  ./data/processed.old/79-80-p000079-2175-09-26-...   \n",
       "15668   7   5  377  False  ./data/processed.old/79-80-p000079-2175-09-26-...   \n",
       "15670   6   6  370  False  ./data/processed.old/79-80-p000079-2175-09-26-...   \n",
       "15671   7   5  367  False  ./data/processed.old/79-80-p000079-2175-09-26-...   \n",
       "15672   7   5  365  False  ./data/processed.old/79-80-p000079-2175-09-26-...   \n",
       "15673   7   5  364  False  ./data/processed.old/79-80-p000079-2175-09-26-...   \n",
       "15675   7   5  362  False  ./data/processed.old/79-80-p000079-2175-09-26-...   \n",
       "15676   6   6  363  False  ./data/processed.old/79-80-p000079-2175-09-26-...   \n",
       "15677   7   5  366  False  ./data/processed.old/79-80-p000079-2175-09-26-...   \n",
       "15679   6   6  369  False  ./data/processed.old/79-80-p000079-2175-09-26-...   \n",
       "15680   6   6  372  False  ./data/processed.old/79-80-p000079-2175-09-26-...   \n",
       "15681   6   5  373  False  ./data/processed.old/79-80-p000079-2175-09-26-...   \n",
       "15682   6   6  376  False  ./data/processed.old/79-80-p000079-2175-09-26-...   \n",
       "15683   6   5  381  False  ./data/processed.old/79-80-p000079-2175-09-26-...   \n",
       "15684   6   6  381  False  ./data/processed.old/79-80-p000079-2175-09-26-...   \n",
       "15685   6   6  382  False  ./data/processed.old/79-80-p000079-2175-09-26-...   \n",
       "15686   6   5  383  False  ./data/processed.old/79-80-p000079-2175-09-26-...   \n",
       "15687   6   6  385  False  ./data/processed.old/79-80-p000079-2175-09-26-...   \n",
       "15688   7   5  389  False  ./data/processed.old/79-80-p000079-2175-09-26-...   \n",
       "15689   6   5  395  False  ./data/processed.old/79-80-p000079-2175-09-26-...   \n",
       "15690   7   5  399  False  ./data/processed.old/79-80-p000079-2175-09-26-...   \n",
       "15691   6   6  403  False  ./data/processed.old/79-80-p000079-2175-09-26-...   \n",
       "15693   7   5  403  False  ./data/processed.old/79-80-p000079-2175-09-26-...   \n",
       "15694   6   5  392  False  ./data/processed.old/79-80-p000079-2175-09-26-...   \n",
       "15695   6   6  396  False  ./data/processed.old/79-80-p000079-2175-09-26-...   \n",
       "15696   6   5  398  False  ./data/processed.old/79-80-p000079-2175-09-26-...   \n",
       "15697   6   6  399  False  ./data/processed.old/79-80-p000079-2175-09-26-...   \n",
       "15699   6   6  401  False  ./data/processed.old/79-80-p000079-2175-09-26-...   \n",
       "15700   7   5  306  False  ./data/processed.old/79-80-p000079-2175-09-26-...   \n",
       "\n",
       "       labels  \n",
       "15638       4  \n",
       "15640       4  \n",
       "15641       0  \n",
       "15642       0  \n",
       "15643       0  \n",
       "15644       4  \n",
       "15645       0  \n",
       "15646       0  \n",
       "15647       0  \n",
       "15649       0  \n",
       "15650       0  \n",
       "15651       0  \n",
       "15656       0  \n",
       "15657       4  \n",
       "15658       0  \n",
       "15659       0  \n",
       "15661       4  \n",
       "15662       0  \n",
       "15663       0  \n",
       "15664       4  \n",
       "15665       4  \n",
       "15667       0  \n",
       "15668       4  \n",
       "15670       0  \n",
       "15671       4  \n",
       "15672       4  \n",
       "15673       4  \n",
       "15675       4  \n",
       "15676       0  \n",
       "15677       4  \n",
       "15679       0  \n",
       "15680       0  \n",
       "15681       0  \n",
       "15682       0  \n",
       "15683       0  \n",
       "15684       0  \n",
       "15685       0  \n",
       "15686       0  \n",
       "15687       0  \n",
       "15688       4  \n",
       "15689       0  \n",
       "15690       4  \n",
       "15691       0  \n",
       "15693       4  \n",
       "15694       0  \n",
       "15695       0  \n",
       "15696       0  \n",
       "15697       0  \n",
       "15699       0  \n",
       "15700       4  "
      ]
     },
     "execution_count": 28,
     "metadata": {},
     "output_type": "execute_result"
    }
   ],
   "source": [
    "no_dups.tail(50)"
   ]
  },
  {
   "cell_type": "code",
   "execution_count": 103,
   "metadata": {
    "ExecuteTime": {
     "end_time": "2019-05-27T17:28:28.747732Z",
     "start_time": "2019-05-27T17:28:28.712819Z"
    }
   },
   "outputs": [
    {
     "ename": "NameError",
     "evalue": "name 'res_gp' is not defined",
     "output_type": "error",
     "traceback": [
      "\u001b[1;31m---------------------------------------------------------------------------\u001b[0m",
      "\u001b[1;31mNameError\u001b[0m                                 Traceback (most recent call last)",
      "\u001b[1;32m<ipython-input-103-f7249975b27c>\u001b[0m in \u001b[0;36m<module>\u001b[1;34m\u001b[0m\n\u001b[0;32m      1\u001b[0m \u001b[1;32mfrom\u001b[0m \u001b[0mskopt\u001b[0m\u001b[1;33m.\u001b[0m\u001b[0mplots\u001b[0m \u001b[1;32mimport\u001b[0m \u001b[0mplot_convergence\u001b[0m\u001b[1;33m\u001b[0m\u001b[1;33m\u001b[0m\u001b[0m\n\u001b[0;32m      2\u001b[0m \u001b[1;33m\u001b[0m\u001b[0m\n\u001b[1;32m----> 3\u001b[1;33m \u001b[0mplot_convergence\u001b[0m\u001b[1;33m(\u001b[0m\u001b[0mres_gp\u001b[0m\u001b[1;33m)\u001b[0m\u001b[1;33m;\u001b[0m\u001b[1;33m\u001b[0m\u001b[1;33m\u001b[0m\u001b[0m\n\u001b[0m",
      "\u001b[1;31mNameError\u001b[0m: name 'res_gp' is not defined"
     ]
    }
   ],
   "source": [
    "from skopt.plots import plot_convergence\n",
    "\n",
    "plot_convergence(res_gp);"
   ]
  },
  {
   "cell_type": "code",
   "execution_count": 30,
   "metadata": {},
   "outputs": [
    {
     "data": {
      "text/plain": [
       "(array([-1,  0,  1,  2,  3,  4,  5,  6,  7,  8], dtype=int64),\n",
       " array([ 1171, 31249, 16015,  2712,  1279, 10347,  1482,  2270,  2377,\n",
       "          495], dtype=int64))"
      ]
     },
     "execution_count": 30,
     "metadata": {},
     "output_type": "execute_result"
    }
   ],
   "source": [
    "np.unique(labels, return_counts=True)"
   ]
  },
  {
   "cell_type": "code",
   "execution_count": null,
   "metadata": {},
   "outputs": [],
   "source": [
    "import umap"
   ]
  },
  {
   "cell_type": "code",
   "execution_count": null,
   "metadata": {},
   "outputs": [],
   "source": [
    "reducer = umap.UMAP()"
   ]
  },
  {
   "cell_type": "code",
   "execution_count": null,
   "metadata": {},
   "outputs": [],
   "source": [
    "embedding = reducer.fit_transform(X)"
   ]
  },
  {
   "cell_type": "code",
   "execution_count": 109,
   "metadata": {
    "ExecuteTime": {
     "end_time": "2019-05-27T20:08:32.736300Z",
     "start_time": "2019-05-27T20:08:31.823813Z"
    }
   },
   "outputs": [],
   "source": [
    "X_sample=no_dups[['RR','QR', 'RS','ST','T','died']].sample(20000)"
   ]
  },
  {
   "cell_type": "code",
   "execution_count": null,
   "metadata": {
    "ExecuteTime": {
     "start_time": "2019-05-27T20:08:41.340Z"
    }
   },
   "outputs": [],
   "source": [
    "from sklearn.manifold import TSNE\n",
    "X_embedded = TSNE(n_components=2, perplexity=100).fit_transform(X_sample)\n"
   ]
  },
  {
   "cell_type": "code",
   "execution_count": 108,
   "metadata": {
    "ExecuteTime": {
     "end_time": "2019-05-27T20:05:58.464970Z",
     "start_time": "2019-05-27T20:05:57.089308Z"
    }
   },
   "outputs": [
    {
     "data": {
      "image/png": "[encoded data removed]",
      "text/plain": [
       "<Figure size 432x288 with 1 Axes>"
      ]
     },
     "metadata": {
      "needs_background": "light"
     },
     "output_type": "display_data"
    }
   ],
   "source": [
    "plt.scatter(X_embedded[:, 0], X_embedded[:, 1], c=[sns.color_palette(\"BrBG\", 2)[x] for x in X_sample['died']])\n",
    "plt.gca().set_aspect('equal', 'datalim')\n",
    "plt.title('T-nse projection', fontsize=24);"
   ]
  },
  {
   "cell_type": "code",
   "execution_count": 125,
   "metadata": {},
   "outputs": [],
   "source": [
    "import matplotlib.pyplot as plt\n",
    "import seaborn as sns\n",
    "plt.rcParams['figure.figsize']=(20,10)"
   ]
  },
  {
   "cell_type": "code",
   "execution_count": null,
   "metadata": {
    "scrolled": true
   },
   "outputs": [],
   "source": [
    "plt.scatter(embedding[:, 0], embedding[:, 1], c=[sns.color_palette(\"BrBG\", len(a))[x] for x in labels])\n",
    "plt.gca().set_aspect('equal', 'datalim')\n",
    "plt.title('UMAP projection', fontsize=24);"
   ]
  },
  {
   "cell_type": "markdown",
   "metadata": {},
   "source": [
    "### convert files to Strings"
   ]
  },
  {
   "cell_type": "code",
   "execution_count": 31,
   "metadata": {},
   "outputs": [],
   "source": [
    "result=result.merge(no_dups[['QR','RS','ST','labels']], how='left')"
   ]
  },
  {
   "cell_type": "code",
   "execution_count": 32,
   "metadata": {},
   "outputs": [],
   "source": [
    "result['lab']=result.labels.map(lambda x: chr(98+x))"
   ]
  },
  {
   "cell_type": "code",
   "execution_count": 51,
   "metadata": {},
   "outputs": [],
   "source": [
    "results_agg=result.groupby('filename').agg({'lab':lambda x: x.sum()}).reset_index()"
   ]
  },
  {
   "cell_type": "code",
   "execution_count": 53,
   "metadata": {},
   "outputs": [
    {
     "data": {
      "text/html": [
       "<div>\n",
       "<style scoped>\n",
       "    .dataframe tbody tr th:only-of-type {\n",
       "        vertical-align: middle;\n",
       "    }\n",
       "\n",
       "    .dataframe tbody tr th {\n",
       "        vertical-align: top;\n",
       "    }\n",
       "\n",
       "    .dataframe thead th {\n",
       "        text-align: right;\n",
       "    }\n",
       "</style>\n",
       "<table border=\"1\" class=\"dataframe\">\n",
       "  <thead>\n",
       "    <tr style=\"text-align: right;\">\n",
       "      <th></th>\n",
       "      <th>filename</th>\n",
       "      <th>lab</th>\n",
       "    </tr>\n",
       "  </thead>\n",
       "  <tbody>\n",
       "    <tr>\n",
       "      <th>0</th>\n",
       "      <td>./data/processed.old/107-113-p000107-2121-11-3...</td>\n",
       "      <td>bbcccbbbbbbbbcbbbbbbbbbbbcbbbbbbcbbbbbbcbcbcbc...</td>\n",
       "    </tr>\n",
       "    <tr>\n",
       "      <th>1</th>\n",
       "      <td>./data/processed.old/109-129-p000109-2141-10-2...</td>\n",
       "      <td>bbfbbbbbbbbbbbbbbbbcbbbbbbbbbbbbbbbbbbbbbbbbbb...</td>\n",
       "    </tr>\n",
       "    <tr>\n",
       "      <th>2</th>\n",
       "      <td>./data/processed.old/109-148-p000109-2142-08-1...</td>\n",
       "      <td>bbbbbbbbbbbbbbbbbbbbcbbbbbbbbbbbbbbbbbbbbbbbbb...</td>\n",
       "    </tr>\n",
       "    <tr>\n",
       "      <th>3</th>\n",
       "      <td>./data/processed.old/123-165-p000123-2161-10-2...</td>\n",
       "      <td>bbfbfbbbbbbbbffbbbfbbfbbbbbfbfbbfbbbbbbbbbfbbb...</td>\n",
       "    </tr>\n",
       "    <tr>\n",
       "      <th>4</th>\n",
       "      <td>./data/processed.old/124-169-p000124-2166-01-2...</td>\n",
       "      <td>bbbfbbbbfbbfffbbbbbbbfbbbbbfbbfbbbbbbbbbbbbbbb...</td>\n",
       "    </tr>\n",
       "  </tbody>\n",
       "</table>\n",
       "</div>"
      ],
      "text/plain": [
       "                                            filename  \\\n",
       "0  ./data/processed.old/107-113-p000107-2121-11-3...   \n",
       "1  ./data/processed.old/109-129-p000109-2141-10-2...   \n",
       "2  ./data/processed.old/109-148-p000109-2142-08-1...   \n",
       "3  ./data/processed.old/123-165-p000123-2161-10-2...   \n",
       "4  ./data/processed.old/124-169-p000124-2166-01-2...   \n",
       "\n",
       "                                                 lab  \n",
       "0  bbcccbbbbbbbbcbbbbbbbbbbbcbbbbbbcbbbbbbcbcbcbc...  \n",
       "1  bbfbbbbbbbbbbbbbbbbcbbbbbbbbbbbbbbbbbbbbbbbbbb...  \n",
       "2  bbbbbbbbbbbbbbbbbbbbcbbbbbbbbbbbbbbbbbbbbbbbbb...  \n",
       "3  bbfbfbbbbbbbbffbbbfbbfbbbbbfbfbbfbbbbbbbbbfbbb...  \n",
       "4  bbbfbbbbfbbfffbbbbbbbfbbbbbfbbfbbbbbbbbbbbbbbb...  "
      ]
     },
     "execution_count": 53,
     "metadata": {},
     "output_type": "execute_result"
    }
   ],
   "source": [
    "results_agg.head()"
   ]
  },
  {
   "cell_type": "code",
   "execution_count": 54,
   "metadata": {},
   "outputs": [],
   "source": [
    "from nltk.tokenize import RegexpTokenizer"
   ]
  },
  {
   "cell_type": "code",
   "execution_count": 55,
   "metadata": {},
   "outputs": [],
   "source": [
    "from nltk.util import ngrams"
   ]
  },
  {
   "cell_type": "code",
   "execution_count": 56,
   "metadata": {},
   "outputs": [],
   "source": [
    "from collections import Counter"
   ]
  },
  {
   "cell_type": "code",
   "execution_count": 57,
   "metadata": {},
   "outputs": [],
   "source": [
    "tokenizer = RegexpTokenizer('\\S')"
   ]
  },
  {
   "cell_type": "code",
   "execution_count": 60,
   "metadata": {},
   "outputs": [],
   "source": [
    "phrase_counter = Counter()\n",
    "for l in results_agg.lab:\n",
    "    tokens=tokenizer.tokenize(l)\n",
    "    for phrase in ngrams(tokens, 2):\n",
    "        phrase_counter[phrase] += 1\n",
    "    for phrase in ngrams(tokens, 3):\n",
    "        phrase_counter[phrase] += 1\n",
    "    for phrase in ngrams(tokens, 4):\n",
    "        phrase_counter[phrase] += 1\n",
    "    for phrase in ngrams(tokens, 5):\n",
    "        phrase_counter[phrase] += 1    "
   ]
  },
  {
   "cell_type": "code",
   "execution_count": 62,
   "metadata": {},
   "outputs": [
    {
     "data": {
      "text/plain": [
       "[(('b', 'b'), 208507),\n",
       " (('b', 'b', 'b'), 163038),\n",
       " (('b', 'b', 'b', 'b'), 132236),\n",
       " (('b', 'b', 'b', 'b', 'b'), 110261),\n",
       " (('c', 'b'), 44155),\n",
       " (('b', 'c'), 43968),\n",
       " (('c', 'c'), 36468),\n",
       " (('c', 'b', 'b'), 27598),\n",
       " (('b', 'b', 'c'), 27521),\n",
       " (('b', 'c', 'b'), 27102),\n",
       " (('f', 'b'), 22453),\n",
       " (('b', 'f'), 22431),\n",
       " (('c', 'c', 'c'), 18257),\n",
       " (('b', 'b', 'c', 'b'), 18201),\n",
       " (('b', 'c', 'b', 'b'), 18112),\n",
       " (('c', 'b', 'b', 'b'), 18104),\n",
       " (('b', 'b', 'b', 'c'), 18034),\n",
       " (('b', 'c', 'c'), 15498),\n",
       " (('c', 'c', 'b'), 15457),\n",
       " (('f', 'b', 'b'), 15418),\n",
       " (('b', 'b', 'f'), 15403),\n",
       " (('b', 'f', 'b'), 15332),\n",
       " (('c', 'b', 'c'), 14945),\n",
       " (('f', 'f'), 14159),\n",
       " (('b', 'b', 'c', 'b', 'b'), 12864),\n",
       " (('c', 'b', 'b', 'b', 'b'), 12684),\n",
       " (('b', 'b', 'b', 'b', 'c'), 12628),\n",
       " (('b', 'b', 'b', 'c', 'b'), 12544),\n",
       " (('b', 'c', 'b', 'b', 'b'), 12498),\n",
       " (('b', 'b', 'f', 'b'), 11377),\n",
       " (('b', 'f', 'b', 'b'), 11368),\n",
       " (('b', 'b', 'b', 'f'), 11243),\n",
       " (('f', 'b', 'b', 'b'), 11238),\n",
       " (('c', 'c', 'c', 'c'), 10007),\n",
       " (('b', 'b', 'f', 'b', 'b'), 8799),\n",
       " (('c', 'b', 'b', 'c'), 8793),\n",
       " (('c', 'c', 'b', 'b'), 8739),\n",
       " (('b', 'b', 'c', 'c'), 8657),\n",
       " (('b', 'b', 'b', 'f', 'b'), 8653),\n",
       " (('b', 'f', 'b', 'b', 'b'), 8570),\n",
       " (('b', 'b', 'b', 'b', 'f'), 8542),\n",
       " (('f', 'b', 'b', 'b', 'b'), 8540),\n",
       " (('b', 'c', 'b', 'c'), 8352),\n",
       " (('b', 'c', 'c', 'b'), 8291),\n",
       " (('c', 'b', 'c', 'b'), 8262),\n",
       " (('f', 'f', 'f'), 7511),\n",
       " (('h', 'h'), 7120),\n",
       " (('b', 'c', 'c', 'c'), 6743),\n",
       " (('c', 'c', 'c', 'b'), 6697),\n",
       " (('c', 'b', 'c', 'c'), 6290),\n",
       " (('f', 'f', 'b'), 6195),\n",
       " (('b', 'f', 'f'), 6193),\n",
       " (('c', 'c', 'b', 'c'), 6184),\n",
       " (('f', 'b', 'f'), 6118),\n",
       " (('c', 'c', 'c', 'c', 'c'), 5827),\n",
       " (('c', 'b', 'b', 'c', 'b'), 5341),\n",
       " (('b', 'c', 'b', 'b', 'c'), 5313),\n",
       " (('c', 'c', 'b', 'b', 'b'), 5220),\n",
       " (('b', 'b', 'b', 'c', 'c'), 5162),\n",
       " (('b', 'c', 'c', 'b', 'b'), 5113),\n",
       " (('c', 'b', 'b', 'b', 'c'), 5082),\n",
       " (('b', 'c', 'b', 'c', 'b'), 5081),\n",
       " (('b', 'b', 'c', 'b', 'c'), 5032),\n",
       " (('b', 'b', 'c', 'c', 'b'), 4951),\n",
       " (('c', 'b', 'c', 'b', 'b'), 4933),\n",
       " (('f', 'f', 'f', 'f'), 4861),\n",
       " (('h', 'h', 'h'), 4330),\n",
       " (('f', 'b', 'b', 'f'), 3785),\n",
       " (('f', 'f', 'b', 'b'), 3643),\n",
       " (('b', 'b', 'f', 'f'), 3619),\n",
       " (('b', 'b', 'c', 'c', 'c'), 3569),\n",
       " (('b', 'f', 'b', 'f'), 3551),\n",
       " (('b', 'f', 'f', 'b'), 3542),\n",
       " (('f', 'b', 'f', 'b'), 3530),\n",
       " (('c', 'c', 'c', 'b', 'b'), 3489),\n",
       " (('f', 'f', 'f', 'f', 'f'), 3478),\n",
       " (('c', 'c', 'b', 'b', 'c'), 3344),\n",
       " (('c', 'b', 'b', 'c', 'c'), 3332),\n",
       " (('c', 'c', 'c', 'c', 'b'), 3300),\n",
       " (('b', 'c', 'c', 'c', 'c'), 3284),\n",
       " (('b', 'c', 'c', 'c', 'b'), 3220),\n",
       " (('c', 'b', 'c', 'b', 'c'), 3220),\n",
       " (('c', 'b', 'c', 'c', 'b'), 3210),\n",
       " (('b', 'c', 'b', 'c', 'c'), 3148),\n",
       " (('c', 'd'), 3141),\n",
       " (('c', 'c', 'b', 'c', 'b'), 3093),\n",
       " (('d', 'c'), 3063),\n",
       " (('b', 'c', 'c', 'b', 'c'), 3056),\n",
       " (('c', 'c', 'c', 'b', 'c'), 2968),\n",
       " (('c', 'c', 'b', 'c', 'c'), 2954),\n",
       " (('c', 'b', 'c', 'c', 'c'), 2911),\n",
       " (('i', 'h'), 2872),\n",
       " (('h', 'i'), 2786),\n",
       " (('h', 'h', 'h', 'h'), 2687),\n",
       " (('b', 'f', 'b', 'b', 'f'), 2555),\n",
       " (('f', 'b', 'b', 'f', 'b'), 2523),\n",
       " (('f', 'f', 'f', 'b'), 2497),\n",
       " (('b', 'f', 'f', 'f'), 2485),\n",
       " (('f', 'f', 'b', 'b', 'b'), 2452),\n",
       " (('f', 'b', 'b', 'b', 'f'), 2445),\n",
       " (('f', 'b', 'f', 'f'), 2428),\n",
       " (('f', 'f', 'b', 'f'), 2393),\n",
       " (('b', 'f', 'f', 'b', 'b'), 2381),\n",
       " (('h', 'e'), 2374),\n",
       " (('b', 'b', 'b', 'f', 'f'), 2368),\n",
       " (('b', 'b', 'f', 'f', 'b'), 2362),\n",
       " (('e', 'h'), 2362),\n",
       " (('b', 'b', 'f', 'b', 'f'), 2342),\n",
       " (('f', 'b', 'f', 'b', 'b'), 2332),\n",
       " (('b', 'f', 'b', 'f', 'b'), 2321),\n",
       " (('c', 'c', 'd'), 1795),\n",
       " (('h', 'h', 'h', 'h', 'h'), 1751),\n",
       " (('h', 'e', 'h'), 1742),\n",
       " (('d', 'c', 'c'), 1715),\n",
       " (('d', 'd'), 1689),\n",
       " (('h', 'i', 'h'), 1667),\n",
       " (('c', 'd', 'c'), 1627),\n",
       " (('i', 'i'), 1437),\n",
       " (('e', 'h', 'h'), 1288),\n",
       " (('f', 'f', 'f', 'f', 'b'), 1287),\n",
       " (('b', 'f', 'f', 'f', 'f'), 1284),\n",
       " (('h', 'h', 'e'), 1265),\n",
       " (('f', 'b', 'f', 'f', 'f'), 1263),\n",
       " (('f', 'f', 'f', 'b', 'f'), 1263),\n",
       " (('f', 'f', 'b', 'f', 'f'), 1240),\n",
       " (('c', 'f'), 1213),\n",
       " (('f', 'f', 'f', 'b', 'b'), 1186),\n",
       " (('b', 'b', 'f', 'f', 'f'), 1182),\n",
       " (('f', 'b', 'b', 'f', 'f'), 1173),\n",
       " (('b', 'f', 'f', 'f', 'b'), 1159),\n",
       " (('i', 'h', 'i'), 1149),\n",
       " (('f', 'c'), 1141),\n",
       " (('b', 'f', 'b', 'f', 'f'), 1135),\n",
       " (('f', 'f', 'b', 'b', 'f'), 1117),\n",
       " (('f', 'b', 'f', 'b', 'f'), 1117),\n",
       " (('f', 'f', 'b', 'f', 'b'), 1109),\n",
       " (('f', 'b', 'f', 'f', 'b'), 1108),\n",
       " (('b', 'f', 'f', 'b', 'f'), 1075),\n",
       " (('i', 'h', 'h'), 1060),\n",
       " (('h', 'h', 'i'), 1049),\n",
       " (('c', 'c', 'c', 'd'), 1017),\n",
       " (('b', 'a'), 999),\n",
       " (('a', 'b'), 973),\n",
       " (('d', 'c', 'c', 'c'), 969),\n",
       " (('b', 'e'), 964),\n",
       " (('h', 'h', 'e', 'h'), 963),\n",
       " (('h', 'e', 'h', 'h'), 962),\n",
       " (('e', 'b'), 959),\n",
       " (('c', 'c', 'd', 'c'), 926),\n",
       " (('e', 'e'), 907),\n",
       " (('c', 'd', 'c', 'c'), 902),\n",
       " (('e', 'h', 'h', 'h'), 844),\n",
       " (('h', 'h', 'h', 'e'), 840),\n",
       " (('c', 'd', 'd'), 828),\n",
       " (('e', 'h', 'e'), 821),\n",
       " (('d', 'd', 'c'), 810),\n",
       " (('d', 'b'), 801),\n",
       " (('b', 'g'), 800),\n",
       " (('g', 'b'), 794),\n",
       " (('b', 'd'), 791),\n",
       " (('d', 'c', 'd'), 773),\n",
       " (('b', 'a', 'b'), 704),\n",
       " (('h', 'h', 'i', 'h'), 700),\n",
       " (('b', 'b', 'a'), 689),\n",
       " (('h', 'i', 'h', 'h'), 681),\n",
       " (('a', 'b', 'b'), 658),\n",
       " (('h', 'e', 'h', 'h', 'h'), 656),\n",
       " (('h', 'h', 'h', 'e', 'h'), 643),\n",
       " (('i', 'i', 'h'), 642),\n",
       " (('e', 'b', 'b'), 627),\n",
       " (('b', 'h'), 621),\n",
       " (('h', 'i', 'i'), 614),\n",
       " (('i', 'h', 'h', 'h'), 613),\n",
       " (('b', 'b', 'e'), 606),\n",
       " (('i', 'h', 'i', 'h'), 606),\n",
       " (('b', 'e', 'b'), 603),\n",
       " (('h', 'h', 'h', 'i'), 589),\n",
       " (('h', 'e', 'h', 'e'), 585),\n",
       " (('h', 'i', 'h', 'i'), 572),\n",
       " (('d', 'd', 'd'), 562),\n",
       " (('e', 'h', 'e', 'h'), 558),\n",
       " (('c', 'c', 'c', 'c', 'd'), 550),\n",
       " (('h', 'h', 'e', 'h', 'h'), 543),\n",
       " (('d', 'c', 'c', 'c', 'c'), 539),\n",
       " (('h', 'b'), 538),\n",
       " (('e', 'h', 'h', 'h', 'h'), 527),\n",
       " (('h', 'h', 'h', 'h', 'e'), 526),\n",
       " (('h', 'e', 'e'), 513),\n",
       " (('f', 'c', 'c'), 505),\n",
       " (('c', 'c', 'd', 'c', 'c'), 503),\n",
       " (('c', 'd', 'c', 'c', 'c'), 502),\n",
       " (('c', 'c', 'c', 'd', 'c'), 502),\n",
       " (('e', 'e', 'h'), 498),\n",
       " (('b', 'b', 'a', 'b'), 496),\n",
       " (('b', 'b', 'g'), 493),\n",
       " (('b', 'f', 'c'), 472),\n",
       " (('c', 'c', 'f'), 472),\n",
       " (('b', 'a', 'b', 'b'), 469),\n",
       " (('b', 'g', 'b'), 468),\n",
       " (('c', 'f', 'b'), 462),\n",
       " (('c', 'd', 'b'), 450),\n",
       " (('g', 'b', 'b'), 447),\n",
       " (('c', 'c', 'd', 'd'), 447),\n",
       " (('i', 'i', 'i'), 444),\n",
       " (('h', 'i', 'h', 'h', 'h'), 436),\n",
       " (('b', 'b', 'b', 'e'), 432),\n",
       " (('d', 'c', 'c', 'd'), 430),\n",
       " (('g', 'f'), 428),\n",
       " (('c', 'e'), 427),\n",
       " (('f', 'b', 'c'), 426),\n",
       " (('b', 'e', 'b', 'b'), 424),\n",
       " (('h', 'h', 'h', 'i', 'h'), 417),\n",
       " (('b', 'b', 'b', 'a'), 416),\n",
       " (('e', 'b', 'b', 'b'), 415),\n",
       " (('b', 'i'), 415),\n",
       " (('a', 'b', 'b', 'b'), 412),\n",
       " (('h', 'e', 'h', 'e', 'h'), 411),\n",
       " (('d', 'd', 'c', 'c'), 409),\n",
       " (('b', 'd', 'c'), 407),\n",
       " (('c', 'b', 'f'), 405),\n",
       " (('e', 'c'), 404),\n",
       " (('b', 'b', 'e', 'b'), 400),\n",
       " (('c', 'd', 'c', 'd'), 399),\n",
       " (('c', 'd', 'd', 'c'), 397),\n",
       " (('d', 'c', 'b'), 396),\n",
       " (('h', 'c'), 395),\n",
       " (('i', 'c'), 394),\n",
       " (('a', 'c'), 390),\n",
       " (('j', 'b'), 387),\n",
       " (('b', 'j'), 383),\n",
       " (('c', 'a'), 377),\n",
       " (('f', 'g'), 373),\n",
       " (('d', 'c', 'd', 'c'), 371),\n",
       " (('f', 'h'), 362),\n",
       " (('d', 'b', 'c'), 359),\n",
       " (('b', 'c', 'd'), 355),\n",
       " (('e', 'h', 'h', 'e'), 350),\n",
       " (('e', 'e', 'e'), 350),\n",
       " (('d', 'f'), 346),\n",
       " (('c', 'f', 'c'), 344),\n",
       " (('b', 'b', 'a', 'b', 'b'), 338),\n",
       " (('f', 'c', 'b'), 336),\n",
       " (('h', 'i', 'h', 'i', 'h'), 331),\n",
       " (('c', 'b', 'd'), 326),\n",
       " (('h', 'h', 'i', 'h', 'h'), 325),\n",
       " (('f', 'c', 'c', 'c'), 324),\n",
       " (('i', 'i', 'h', 'i'), 323),\n",
       " (('i', 'h', 'h', 'h', 'h'), 320),\n",
       " (('h', 'h', 'h', 'h', 'i'), 318),\n",
       " (('g', 'c'), 313),\n",
       " (('h', 'f'), 311),\n",
       " (('i', 'b'), 308),\n",
       " (('b', 'b', 'b', 'g'), 307),\n",
       " (('f', 'd'), 303),\n",
       " (('b', 'b', 'g', 'b'), 303),\n",
       " (('b', 'c', 'f'), 302),\n",
       " (('b', 'b', 'b', 'a', 'b'), 301),\n",
       " (('i', 'h', 'i', 'i'), 301),\n",
       " (('b', 'j', 'b'), 299),\n",
       " (('h', 'i', 'i', 'h'), 298),\n",
       " (('i', 'h', 'i', 'h', 'i'), 297),\n",
       " (('h', 'e', 'e', 'h'), 295),\n",
       " (('c', 'c', 'c', 'f'), 293),\n",
       " (('b', 'a', 'b', 'b', 'b'), 291),\n",
       " (('b', 'b', 'j'), 291),\n",
       " (('b', 'g', 'b', 'b'), 290),\n",
       " (('b', 'b', 'e', 'b', 'b'), 289),\n",
       " (('h', 'h', 'e', 'h', 'e'), 289),\n",
       " (('e', 'h', 'e', 'h', 'h'), 289),\n",
       " (('b', 'b', 'b', 'e', 'b'), 288),\n",
       " (('b', 'e', 'b', 'b', 'b'), 288),\n",
       " (('b', 'd', 'c', 'c'), 284),\n",
       " (('j', 'b', 'b'), 283),\n",
       " (('g', 'b', 'b', 'b'), 282),\n",
       " (('c', 'c', 'd', 'b'), 282),\n",
       " (('f', 'i'), 276),\n",
       " (('c', 'g'), 274),\n",
       " (('c', 'i'), 265),\n",
       " (('c', 'd', 'd', 'd'), 264),\n",
       " (('e', 'h', 'h', 'e', 'h'), 264),\n",
       " (('b', 'c', 'a'), 262),\n",
       " (('a', 'c', 'b'), 260),\n",
       " (('c', 'b', 'a'), 258),\n",
       " (('d', 'd', 'd', 'c'), 258),\n",
       " (('d', 'c', 'd', 'd'), 258),\n",
       " (('i', 'h', 'h', 'i'), 258),\n",
       " (('e', 'h', 'h', 'h', 'e'), 255),\n",
       " (('e', 'e', 'h', 'h'), 254),\n",
       " (('b', 'a', 'c'), 253),\n",
       " (('a', 'b', 'c'), 253),\n",
       " (('d', 'd', 'c', 'd'), 249),\n",
       " (('d', 'c', 'c', 'c', 'd'), 249),\n",
       " (('c', 'e', 'b'), 245),\n",
       " (('e', 'h', 'e', 'h', 'e'), 244),\n",
       " (('c', 'c', 'c', 'd', 'd'), 243),\n",
       " (('h', 'h', 'e', 'e'), 241),\n",
       " (('c', 'a', 'b'), 237),\n",
       " (('h', 'e', 'h', 'h', 'e'), 236),\n",
       " (('f', 'c', 'c', 'c', 'c'), 233),\n",
       " (('b', 'b', 'j', 'b'), 233),\n",
       " (('b', 'c', 'e'), 232),\n",
       " (('b', 'e', 'c'), 230),\n",
       " (('c', 'd', 'c', 'b'), 227),\n",
       " (('e', 'h', 'e', 'e'), 226),\n",
       " (('b', 'b', 'b', 'b', 'e'), 224),\n",
       " (('c', 'f', 'c', 'c'), 224),\n",
       " (('b', 'j', 'b', 'b'), 223),\n",
       " (('b', 'c', 'c', 'd'), 221),\n",
       " (('c', 'b', 'e'), 220),\n",
       " (('c', 'c', 'f', 'c'), 220),\n",
       " (('b', 'b', 'd'), 219),\n",
       " (('d', 'b', 'c', 'c'), 219),\n",
       " (('d', 'd', 'c', 'c', 'c'), 218),\n",
       " (('b', 'b', 'f', 'c'), 217),\n",
       " (('e', 'e', 'h', 'e'), 217),\n",
       " (('c', 'f', 'b', 'b'), 216),\n",
       " (('b', 'f', 'c', 'b'), 216),\n",
       " (('e', 'c', 'b'), 215),\n",
       " (('i', 'h', 'e'), 215),\n",
       " (('c', 'c', 'd', 'c', 'd'), 214),\n",
       " (('c', 'd', 'c', 'c', 'd'), 213),\n",
       " (('e', 'b', 'b', 'b', 'b'), 212),\n",
       " (('c', 'h'), 211),\n",
       " (('b', 'c', 'd', 'c'), 211),\n",
       " (('c', 'd', 'b', 'c'), 211),\n",
       " (('d', 'c', 'c', 'd', 'c'), 211),\n",
       " (('b', 'b', 'b', 'b', 'a'), 210),\n",
       " (('b', 'd', 'd'), 210),\n",
       " (('b', 'c', 'f', 'b'), 206),\n",
       " (('d', 'd', 'd', 'd'), 206),\n",
       " (('c', 'c', 'd', 'd', 'c'), 206),\n",
       " (('d', 'c', 'c', 'b'), 205),\n",
       " (('f', 'c', 'b', 'b'), 203),\n",
       " (('c', 'c', 'c', 'c', 'f'), 199),\n",
       " (('i', 'i', 'h', 'h'), 199),\n",
       " (('a', 'b', 'b', 'b', 'b'), 197),\n",
       " (('e', 'h', 'i'), 197),\n",
       " (('b', 'b', 'b', 'j'), 196),\n",
       " (('f', 'b', 'b', 'c'), 195),\n",
       " (('b', 'b', 'g', 'b', 'b'), 195),\n",
       " (('i', 'h', 'i', 'h', 'h'), 195),\n",
       " (('h', 'e', 'e', 'e'), 195),\n",
       " (('d', 'b', 'b'), 193),\n",
       " (('b', 'a', 'b', 'c'), 193),\n",
       " (('d', 'c', 'd', 'c', 'c'), 193),\n",
       " (('c', 'b', 'b', 'f'), 192),\n",
       " (('b', 'f', 'b', 'c'), 191),\n",
       " (('d', 'd', 'b'), 191),\n",
       " (('e', 'b', 'c'), 191),\n",
       " (('c', 'd', 'd', 'c', 'c'), 191),\n",
       " (('h', 'h', 'i', 'i'), 191),\n",
       " (('c', 'b', 'f', 'b'), 190),\n",
       " (('i', 'h', 'h', 'h', 'i'), 190),\n",
       " (('c', 'c', 'b', 'd'), 189),\n",
       " (('b', 'b', 'b', 'g', 'b'), 189),\n",
       " (('b', 'g', 'b', 'b', 'b'), 188),\n",
       " (('c', 'b', 'd', 'c'), 188),\n",
       " (('g', 'f', 'f'), 187),\n",
       " (('g', 'b', 'f'), 186),\n",
       " (('d', 'c', 'b', 'c'), 184),\n",
       " (('h', 'h', 'i', 'h', 'i'), 184),\n",
       " (('c', 'd', 'c', 'd', 'c'), 182),\n",
       " (('h', 'i', 'c'), 182),\n",
       " (('i', 'i', 'i', 'h'), 182),\n",
       " (('h', 'i', 'h', 'e'), 182),\n",
       " (('e', 'e', 'e', 'h'), 182),\n",
       " (('i', 'h', 'c'), 181),\n",
       " (('e', 'f'), 180),\n",
       " (('i', 'h', 'e', 'h'), 179),\n",
       " (('b', 'b', 'j', 'b', 'b'), 178),\n",
       " (('h', 'i', 'i', 'i'), 178),\n",
       " (('f', 'd', 'c'), 177),\n",
       " (('j', 'b', 'b', 'b'), 177),\n",
       " (('g', 'f', 'b'), 176),\n",
       " (('b', 'a', 'c', 'b'), 176),\n",
       " (('c', 'd', 'f'), 175),\n",
       " (('c', 'a', 'b', 'b'), 175),\n",
       " (('c', 'b', 'a', 'b'), 175),\n",
       " (('b', 'i', 'h'), 174),\n",
       " (('h', 'b', 'b'), 173),\n",
       " (('f', 'b', 'g'), 173),\n",
       " (('a', 'c', 'b', 'b'), 173),\n",
       " (('b', 'd', 'c', 'c', 'c'), 173),\n",
       " (('f', 'f', 'g'), 172),\n",
       " (('b', 'h', 'i'), 172),\n",
       " (('b', 'f', 'g'), 171),\n",
       " (('f', 'g', 'f'), 171),\n",
       " (('f', 'b', 'c', 'b'), 170),\n",
       " (('b', 'g', 'f'), 170),\n",
       " (('b', 'c', 'a', 'b'), 170),\n",
       " (('c', 'c', 'c', 'd', 'b'), 170),\n",
       " (('b', 'b', 'c', 'f'), 169),\n",
       " (('b', 'b', 'c', 'a'), 169),\n",
       " (('b', 'h', 'h'), 167),\n",
       " (('b', 'b', 'a', 'c'), 164),\n",
       " (('b', 'c', 'b', 'a'), 164),\n",
       " (('b', 'h', 'b'), 163),\n",
       " (('b', 'c', 'e', 'b'), 163),\n",
       " (('b', 'b', 'b', 'b', 'g'), 162),\n",
       " (('a', 'b', 'c', 'b'), 162),\n",
       " (('i', 'i', 'i', 'i'), 161),\n",
       " (('e', 'h', 'i', 'h'), 161),\n",
       " (('i', 'i', 'h', 'i', 'h'), 160),\n",
       " (('c', 'b', 'b', 'a'), 159),\n",
       " (('c', 'c', 'f', 'c', 'c'), 159),\n",
       " (('c', 'f', 'c', 'c', 'c'), 159),\n",
       " (('h', 'e', 'h', 'i'), 159),\n",
       " (('h', 'e', 'e', 'h', 'h'), 159),\n",
       " (('b', 'b', 'b', 'j', 'b'), 158),\n",
       " (('h', 'h', 'h', 'e', 'e'), 158),\n",
       " (('h', 'h', 'e', 'e', 'h'), 157),\n",
       " (('b', 'b', 'h'), 156),\n",
       " (('f', 'c', 'd'), 155),\n",
       " (('b', 'b', 'c', 'e'), 154),\n",
       " (('f', 'g', 'b'), 153),\n",
       " (('g', 'c', 'c'), 153),\n",
       " (('i', 'h', 'h', 'i', 'h'), 153),\n",
       " (('c', 'e', 'b', 'b'), 152),\n",
       " (('a', 'b', 'b', 'c'), 152),\n",
       " (('c', 'b', 'c', 'd'), 152),\n",
       " (('h', 'i', 'h', 'e', 'h'), 152),\n",
       " (('c', 'c', 'c', 'f', 'c'), 151),\n",
       " (('h', 'h', 'b'), 151),\n",
       " (('h', 'i', 'b'), 151),\n",
       " (('b', 'i', 'i'), 151),\n",
       " (('f', 'h', 'h'), 150),\n",
       " (('b', 'e', 'c', 'b'), 149),\n",
       " (('g', 'b', 'b', 'b', 'b'), 149),\n",
       " (('c', 'c', 'g'), 149),\n",
       " (('c', 'c', 'e'), 149),\n",
       " (('e', 'e', 'h', 'h', 'h'), 149),\n",
       " (('i', 'f'), 148),\n",
       " (('f', 'i', 'h'), 148),\n",
       " (('h', 'e', 'h', 'e', 'e'), 148),\n",
       " (('f', 'e'), 147),\n",
       " (('c', 'c', 'b', 'f'), 147),\n",
       " (('c', 'c', 'd', 'c', 'b'), 147),\n",
       " (('i', 'i', 'c'), 147),\n",
       " (('f', 'c', 'b', 'b', 'b'), 146),\n",
       " (('b', 'c', 'b', 'e'), 146),\n",
       " (('h', 'i', 'i', 'h', 'i'), 146),\n",
       " (('e', 'c', 'c'), 145),\n",
       " (('b', 'b', 'e', 'c'), 145),\n",
       " (('c', 'b', 'e', 'b'), 145),\n",
       " (('h', 'g'), 145),\n",
       " (('c', 'c', 'd', 'd', 'd'), 144),\n",
       " (('h', 'i', 'h', 'h', 'i'), 144),\n",
       " (('e', 'e', 'e', 'e'), 144),\n",
       " (('e', 'b', 'b', 'c'), 143),\n",
       " (('b', 'f', 'c', 'c'), 142),\n",
       " (('f', 'f', 'c'), 142),\n",
       " (('c', 'e', 'c'), 142),\n",
       " (('b', 'f', 'c', 'b', 'b'), 141),\n",
       " (('e', 'c', 'b', 'b'), 141),\n",
       " (('b', 'c', 'c', 'c', 'd'), 141),\n",
       " (('d', 'f', 'c'), 141),\n",
       " (('h', 'i', 'h', 'i', 'i'), 141),\n",
       " (('b', 'c', 'b', 'f'), 139),\n",
       " (('c', 'b', 'h'), 139),\n",
       " (('c', 'b', 'b', 'b', 'f'), 138),\n",
       " (('b', 'j', 'b', 'b', 'b'), 138),\n",
       " (('h', 'h', 'f'), 138),\n",
       " (('f', 'b', 'c', 'c'), 137),\n",
       " (('b', 'b', 'a', 'b', 'c'), 137),\n",
       " (('e', 'e', 'h', 'e', 'h'), 137),\n",
       " (('d', 'b', 'd'), 136),\n",
       " (('b', 'c', 'c', 'd', 'c'), 136),\n",
       " (('d', 'b', 'c', 'c', 'c'), 136),\n",
       " (('i', 'h', 'i', 'i', 'h'), 136),\n",
       " (('h', 'e', 'h', 'i', 'h'), 136),\n",
       " (('b', 'b', 'f', 'c', 'b'), 135),\n",
       " (('b', 'c', 'a', 'b', 'b'), 135),\n",
       " (('b', 'f', 'b', 'b', 'c'), 134),\n",
       " (('b', 'c', 'd', 'c', 'c'), 134),\n",
       " (('b', 'c', 'f', 'b', 'b'), 133),\n",
       " (('c', 'g', 'c'), 133),\n",
       " (('d', 'c', 'f'), 133),\n",
       " (('d', 'c', 'd', 'd', 'c'), 133),\n",
       " (('c', 'i', 'h'), 133),\n",
       " (('h', 'f', 'h'), 133),\n",
       " (('c', 'f', 'f'), 132),\n",
       " (('b', 'b', 'b', 'f', 'c'), 131),\n",
       " (('c', 'd', 'c', 'd', 'd'), 130),\n",
       " (('c', 'd', 'b', 'c', 'c'), 129),\n",
       " (('e', 'b', 'c', 'b'), 128),\n",
       " (('d', 'c', 'c', 'd', 'd'), 128),\n",
       " (('c', 'b', 'd', 'c', 'c'), 126),\n",
       " (('h', 'b', 'h'), 126),\n",
       " (('c', 'c', 'f', 'b'), 124),\n",
       " (('b', 'a', 'b', 'c', 'b'), 124),\n",
       " (('c', 'd', 'c', 'c', 'b'), 124),\n",
       " (('b', 'b', 'f', 'b', 'c'), 123),\n",
       " (('c', 'a', 'c'), 123),\n",
       " (('d', 'd', 'd', 'c', 'c'), 123),\n",
       " (('i', 'h', 'b'), 123),\n",
       " (('c', 'd', 'd', 'd', 'c'), 122),\n",
       " (('c', 'j'), 122),\n",
       " (('c', 'b', 'b', 'e'), 121),\n",
       " (('c', 'c', 'd', 'b', 'c'), 121),\n",
       " (('d', 'd', 'c', 'c', 'd'), 121),\n",
       " (('c', 'd', 'd', 'c', 'd'), 121),\n",
       " (('b', 'b', 'c', 'f', 'b'), 120),\n",
       " (('c', 'b', 'f', 'c'), 119),\n",
       " (('c', 'f', 'b', 'b', 'b'), 119),\n",
       " (('c', 'c', 'c', 'b', 'd'), 119),\n",
       " (('c', 'b', 'a', 'b', 'b'), 119),\n",
       " (('f', 'b', 'b', 'b', 'c'), 118),\n",
       " (('j', 'c'), 118),\n",
       " (('c', 'f', 'b', 'c'), 117),\n",
       " (('c', 'b', 'f', 'b', 'b'), 117),\n",
       " (('b', 'b', 'a', 'c', 'b'), 117),\n",
       " (('h', 'h', 'c'), 117),\n",
       " (('f', 'b', 'c', 'b', 'b'), 116),\n",
       " (('d', 'c', 'c', 'c', 'b'), 116),\n",
       " (('h', 'e', 'e', 'h', 'e'), 116),\n",
       " (('c', 'b', 'b', 'a', 'b'), 115),\n",
       " (('d', 'c', 'b', 'c', 'c'), 115),\n",
       " (('i', 'c', 'i'), 115),\n",
       " (('b', 'a', 'c', 'b', 'b'), 114),\n",
       " (('b', 'e', 'b', 'c'), 114),\n",
       " (('b', 'a', 'b', 'b', 'c'), 114),\n",
       " (('e', 'h', 'e', 'e', 'h'), 114),\n",
       " (('b', 'b', 'b', 'c', 'f'), 113),\n",
       " (('a', 'c', 'c'), 113),\n",
       " (('g', 'f', 'f', 'f'), 113),\n",
       " (('h', 'e', 'e', 'e', 'h'), 113),\n",
       " (('b', 'g', 'c'), 112),\n",
       " (('c', 'f', 'd'), 112),\n",
       " (('f', 'g', 'f', 'f'), 112),\n",
       " (('c', 'a', 'b', 'b', 'b'), 112),\n",
       " (('c', 'b', 'b', 'f', 'b'), 111),\n",
       " (('d', 'd', 'c', 'd', 'c'), 111),\n",
       " (('h', 'c', 'b'), 110),\n",
       " (('g', 'b', 'f', 'b'), 110),\n",
       " (('d', 'd', 'c', 'b'), 110),\n",
       " (('d', 'c', 'd', 'c', 'd'), 110),\n",
       " (('c', 'c', 'b', 'd', 'c'), 110),\n",
       " (('h', 'h', 'e', 'h', 'i'), 110),\n",
       " (('f', 'c', 'f'), 109),\n",
       " (('c', 'c', 'd', 'f'), 109),\n",
       " (('b', 'c', 'b', 'a', 'b'), 109),\n",
       " (('f', 'h', 'i'), 109),\n",
       " (('e', 'h', 'e', 'e', 'e'), 109),\n",
       " (('f', 'b', 'b', 'c', 'b'), 108),\n",
       " (('b', 'c', 'b', 'b', 'f'), 108),\n",
       " (('b', 'b', 'b', 'a', 'c'), 108),\n",
       " (('b', 'b', 'c', 'e', 'b'), 108),\n",
       " (('b', 'b', 'b', 'b', 'j'), 108),\n",
       " (('h', 'i', 'i', 'h', 'h'), 108),\n",
       " (('b', 'g', 'f', 'b'), 107),\n",
       " (('b', 'f', 'b', 'g'), 107),\n",
       " (('f', 'f', 'g', 'f'), 107),\n",
       " (('h', 'h', 'i', 'i', 'h'), 107),\n",
       " (('h', 'h', 'i', 'h', 'e'), 107),\n",
       " (('a', 'b', 'b', 'b', 'a'), 106),\n",
       " (('g', 'h'), 106),\n",
       " (('b', 'd', 'b'), 105),\n",
       " (('b', 'f', 'b', 'c', 'b'), 105),\n",
       " (('c', 'd', 'd', 'b'), 105),\n",
       " (('i', 'h', 'e', 'h', 'h'), 105),\n",
       " (('b', 'b', 'd', 'c'), 104),\n",
       " (('b', 'b', 'c', 'a', 'b'), 104),\n",
       " (('j', 'b', 'c'), 104),\n",
       " (('d', 'f', 'b'), 103),\n",
       " (('d', 'b', 'f'), 103),\n",
       " (('b', 'd', 'd', 'c'), 103),\n",
       " (('f', 'd', 'c', 'c'), 102),\n",
       " (('d', 'd', 'd', 'd', 'c'), 102),\n",
       " (('b', 'b', 'g', 'f'), 101),\n",
       " (('c', 'i', 'i'), 101),\n",
       " (('b', 'b', 'b', 'e', 'c'), 101),\n",
       " (('c', 'b', 'c', 'c', 'd'), 101),\n",
       " (('h', 'c', 'i'), 101),\n",
       " (('f', 'b', 'b', 'g'), 100),\n",
       " (('b', 'c', 'e', 'b', 'b'), 100),\n",
       " (('b', 'g', 'b', 'f'), 100),\n",
       " (('d', 'c', 'd', 'b'), 100),\n",
       " (('i', 'i', 'i', 'h', 'i'), 100),\n",
       " (('g', 'f', 'b', 'b'), 99),\n",
       " (('b', 'e', 'c', 'b', 'b'), 99),\n",
       " (('c', 'b', 'e', 'b', 'b'), 99),\n",
       " (('f', 'f', 'f', 'g'), 99),\n",
       " (('f', 'c', 'c', 'd'), 99),\n",
       " (('i', 'g'), 99),\n",
       " (('c', 'c', 'a'), 98),\n",
       " (('j', 'b', 'b', 'b', 'b'), 98),\n",
       " (('e', 'h', 'i', 'h', 'h'), 98),\n",
       " (('b', 'c', 'b', 'f', 'b'), 97),\n",
       " (('c', 'e', 'b', 'b', 'b'), 97),\n",
       " (('b', 'c', 'b', 'e', 'b'), 97),\n",
       " (('i', 'c', 'b'), 97),\n",
       " (('c', 'd', 'c', 'b', 'c'), 97),\n",
       " (('f', 'c', 'd', 'c'), 97),\n",
       " (('d', 'd', 'c', 'd', 'd'), 97),\n",
       " (('f', 'b', 'g', 'b'), 97),\n",
       " (('h', 'i', 'h', 'c'), 97),\n",
       " (('i', 'h', 'i', 'c'), 97),\n",
       " (('b', 'b', 'f', 'g'), 96),\n",
       " (('c', 'c', 'c', 'g'), 96),\n",
       " (('c', 'd', 'b', 'b'), 95),\n",
       " (('d', 'b', 'c', 'd'), 95),\n",
       " (('i', 'h', 'i', 'i', 'i'), 94),\n",
       " (('f', 'b', 'd'), 93),\n",
       " (('d', 'd', 'f'), 93),\n",
       " (('c', 'b', 'd', 'd'), 93),\n",
       " (('b', 'f', 'g', 'b'), 92),\n",
       " (('g', 'b', 'b', 'f'), 92),\n",
       " (('d', 'd', 'b', 'c'), 92),\n",
       " (('c', 'd', 'd', 'd', 'd'), 92),\n",
       " (('c', 'b', 'j'), 92),\n",
       " (('h', 'b', 'i'), 92),\n",
       " (('e', 'e', 'h', 'h', 'e'), 92),\n",
       " (('b', 'b', 'e', 'c', 'b'), 91),\n",
       " (('g', 'c', 'b'), 91),\n",
       " (('f', 'b', 'e'), 91),\n",
       " (('e', 'e', 'e', 'h', 'e'), 91),\n",
       " (('b', 'b', 'c', 'b', 'f'), 90),\n",
       " (('b', 'f', 'd'), 90),\n",
       " (('b', 'h', 'b', 'b'), 90),\n",
       " (('b', 'e', 'b', 'b', 'c'), 90),\n",
       " (('h', 'h', 'h', 'i', 'i'), 90),\n",
       " (('i', 'i', 'h', 'h', 'h'), 90),\n",
       " (('c', 'b', 'i'), 89),\n",
       " (('d', 'c', 'b', 'd'), 89),\n",
       " (('j', 'c', 'b'), 89),\n",
       " (('c', 'f', 'i'), 89),\n",
       " (('b', 'h', 'i', 'h'), 89),\n",
       " (('g', 'c', 'c', 'c'), 88),\n",
       " (('d', 'c', 'c', 'b', 'c'), 88),\n",
       " (('d', 'd', 'd', 'c', 'd'), 88),\n",
       " (('b', 'c', 'j'), 88),\n",
       " (('c', 'j', 'b'), 88),\n",
       " (('i', 'h', 'i', 'b'), 88),\n",
       " (('f', 'g', 'b', 'b'), 87),\n",
       " (('h', 'b', 'b', 'b'), 87),\n",
       " (('b', 'c', 'a', 'c'), 87),\n",
       " (('c', 'c', 'c', 'e'), 87),\n",
       " (('d', 'c', 'c', 'f'), 87),\n",
       " (('i', 'b', 'i'), 87),\n",
       " (('d', 'c', 'd', 'd', 'd'), 86),\n",
       " (('i', 'h', 'f'), 86),\n",
       " (('e', 'e', 'e', 'h', 'h'), 86),\n",
       " (('b', 'b', 'h', 'b'), 85),\n",
       " (('g', 'b', 'c'), 85),\n",
       " (('c', 'c', 'g', 'c'), 85),\n",
       " (('c', 'c', 'c', 'd', 'f'), 85),\n",
       " (('g', 'f', 'f', 'f', 'f'), 85),\n",
       " (('b', 'j', 'c'), 84),\n",
       " (('f', 'f', 'g', 'f', 'f'), 84),\n",
       " (('i', 'i', 'b'), 83),\n",
       " (('d', 'f', 'c', 'c'), 83),\n",
       " (('i', 'e'), 83),\n",
       " (('c', 'b', 'b', 'd'), 82),\n",
       " (('c', 'g', 'c', 'c'), 82),\n",
       " (('c', 'b', 'c', 'd', 'c'), 82),\n",
       " (('c', 'd', 'f', 'c'), 82),\n",
       " (('c', 'd', 'c', 'f'), 82),\n",
       " (('c', 'd', 'b', 'd'), 82),\n",
       " (('i', 'b', 'h'), 82),\n",
       " (('f', 'b', 'c', 'c', 'c'), 81),\n",
       " (('b', 'f', 'c', 'c', 'c'), 81),\n",
       " (('c', 'a', 'c', 'b'), 81),\n",
       " (('f', 'g', 'f', 'f', 'f'), 81),\n",
       " (('h', 'i', 'i', 'i', 'h'), 81),\n",
       " (('i', 'i', 'h', 'i', 'i'), 81),\n",
       " (('c', 'f', 'b', 'f'), 80),\n",
       " (('c', 'b', 'g'), 80),\n",
       " (('i', 'c', 'f'), 80),\n",
       " (('c', 'b', 'a', 'c'), 80),\n",
       " (('b', 'b', 'b', 'c', 'e'), 79),\n",
       " (('d', 'g'), 79),\n",
       " (('c', 'c', 'b', 'c', 'd'), 79),\n",
       " (('b', 'b', 'b', 'h'), 78),\n",
       " (('c', 'b', 'b', 'e', 'b'), 78),\n",
       " (('e', 'b', 'f'), 78),\n",
       " (('a', 'c', 'b', 'b', 'b'), 78),\n",
       " (('b', 'e', 'b', 'c', 'b'), 78),\n",
       " (('b', 'b', 'b', 'c', 'a'), 77),\n",
       " (('b', 'b', 'i'), 77),\n",
       " (('c', 'c', 'c', 'b', 'f'), 77),\n",
       " (('b', 'i', 'h', 'i'), 77),\n",
       " (('f', 'h', 'h', 'h'), 77),\n",
       " (('d', 'c', 'b', 'b'), 76),\n",
       " (('f', 'f', 'f', 'f', 'g'), 76),\n",
       " (('g', 'i'), 76),\n",
       " (('c', 'c', 'f', 'd'), 76),\n",
       " (('c', 'e', 'b', 'c'), 76),\n",
       " (('b', 'j', 'b', 'c'), 76),\n",
       " (('h', 'h', 'h', 'f'), 76),\n",
       " (('b', 'e', 'f'), 75),\n",
       " (('e', 'g'), 75),\n",
       " (('a', 'b', 'b', 'a'), 75),\n",
       " (('e', 'f', 'b'), 75),\n",
       " (('b', 'c', 'd', 'd'), 75),\n",
       " (('f', 'i', 'i'), 75),\n",
       " (('e', 'h', 'h', 'e', 'e'), 75),\n",
       " (('f', 'b', 'h'), 74),\n",
       " (('e', 'i'), 74),\n",
       " (('e', 'e', 'h', 'e', 'e'), 74),\n",
       " (('c', 'b', 'e', 'c'), 73),\n",
       " (('c', 'e', 'c', 'c'), 73),\n",
       " (('b', 'b', 'c', 'b', 'a'), 73),\n",
       " (('b', 'i', 'i', 'h'), 73),\n",
       " (('c', 'f', 'b', 'c', 'c'), 72),\n",
       " (('b', 'b', 'c', 'b', 'e'), 72),\n",
       " (('d', 'd', 'd', 'd', 'd'), 72),\n",
       " (('b', 'b', 'g', 'f', 'b'), 71),\n",
       " (('e', 'c', 'c', 'c'), 71),\n",
       " (('c', 'c', 'f', 'b', 'c'), 71),\n",
       " (('c', 'c', 'b', 'f', 'c'), 71),\n",
       " (('g', 'd'), 71),\n",
       " (('c', 'c', 'e', 'c'), 71),\n",
       " (('b', 'd', 'd', 'd'), 71),\n",
       " (('b', 'b', 'e', 'b', 'c'), 71),\n",
       " (('f', 'f', 'f', 'g', 'f'), 71),\n",
       " (('h', 'e', 'e', 'e', 'e'), 71),\n",
       " (('b', 'a', 'c', 'c'), 70),\n",
       " (('c', 'g', 'b'), 70),\n",
       " (('b', 'b', 'd', 'c', 'c'), 70),\n",
       " (('d', 'b', 'd', 'c'), 70),\n",
       " (('f', 'd', 'c', 'c', 'c'), 70),\n",
       " (('h', 'c', 'f'), 70),\n",
       " (('j', 'b', 'c', 'b'), 70),\n",
       " (('e', 'h', 'h', 'i'), 70),\n",
       " (('b', 'c', 'c', 'f'), 69),\n",
       " (('c', 'c', 'b', 'e'), 69),\n",
       " (('f', 'c', 'f', 'b'), 69),\n",
       " (('h', 'f', 'b'), 69),\n",
       " (('d', 'b', 'b', 'c'), 69),\n",
       " (('f', 'b', 'b', 'b', 'g'), 69),\n",
       " (('e', 'c', 'c', 'b'), 69),\n",
       " (('d', 'c', 'c', 'd', 'b'), 69),\n",
       " (('e', 'b', 'b', 'c', 'b'), 69),\n",
       " (('c', 'h', 'h'), 69),\n",
       " (('f', 'i', 'h', 'i'), 69),\n",
       " (('h', 'h', 'e', 'e', 'e'), 69),\n",
       " (('b', 'b', 'b', 'd'), 68),\n",
       " (('b', 'c', 'b', 'b', 'a'), 68),\n",
       " (('a', 'c', 'c', 'b'), 68),\n",
       " (('f', 'd', 'd'), 68),\n",
       " (('b', 'd', 'c', 'd'), 68),\n",
       " (('e', 'b', 'b', 'b', 'c'), 68),\n",
       " (('h', 'h', 'f', 'h'), 68),\n",
       " (('e', 'e', 'e', 'e', 'e'), 68),\n",
       " (('c', 'c', 'b', 'a'), 67),\n",
       " (('e', 'c', 'b', 'b', 'b'), 67),\n",
       " (('a', 'b', 'b', 'c', 'b'), 67),\n",
       " (('b', 'b', 'g', 'c'), 67),\n",
       " (('b', 'g', 'b', 'f', 'b'), 67),\n",
       " (('h', 'i', 'h', 'b'), 67),\n",
       " (('b', 'f', 'f', 'c'), 66),\n",
       " (('g', 'b', 'b', 'b', 'f'), 66),\n",
       " (('c', 'c', 'c', 'f', 'b'), 66),\n",
       " (('c', 'c', 'e', 'b'), 66),\n",
       " (('c', 'f', 'd', 'c'), 66),\n",
       " (('c', 'b', 'j', 'b'), 66),\n",
       " (('c', 'h', 'i'), 66),\n",
       " (('h', 'f', 'h', 'h'), 66),\n",
       " (('i', 'i', 'i', 'i', 'h'), 66),\n",
       " (('c', 'c', 'c', 'c', 'g'), 65),\n",
       " (('c', 'd', 'c', 'd', 'b'), 65),\n",
       " (('c', 'c', 'd', 'd', 'b'), 65),\n",
       " (('b', 'f', 'b', 'g', 'b'), 65),\n",
       " (('e', 'e', 'e', 'e', 'h'), 65),\n",
       " (('b', 'b', 'b', 'g', 'f'), 64),\n",
       " (('b', 'g', 'f', 'b', 'b'), 64),\n",
       " (('c', 'b', 'c', 'a'), 64),\n",
       " (('b', 'b', 'c', 'd'), 64),\n",
       " (('f', 'c', 'b', 'c'), 64),\n",
       " (('f', 'b', 'f', 'c'), 64),\n",
       " (('e', 'b', 'c', 'b', 'b'), 64),\n",
       " (('f', 'c', 'd', 'c', 'c'), 64),\n",
       " (('j', 'b', 'b', 'c'), 64),\n",
       " (('b', 'j', 'c', 'b'), 64),\n",
       " (('h', 'c', 'h'), 64),\n",
       " (('h', 'h', 'g'), 64),\n",
       " (('f', 'c', 'c', 'b'), 63),\n",
       " (('b', 'b', 'g', 'b', 'f'), 63),\n",
       " (('h', 'b', 'f'), 63),\n",
       " (('b', 'g', 'b', 'b', 'f'), 63),\n",
       " (('b', 'e', 'c', 'c'), 63),\n",
       " (('b', 'b', 'f', 'b', 'g'), 63),\n",
       " (('f', 'c', 'c', 'd', 'c'), 63),\n",
       " (('b', 'b', 'c', 'a', 'c'), 63),\n",
       " (('b', 'c', 'j', 'b'), 63),\n",
       " (('b', 'i', 'h', 'h'), 63),\n",
       " (('c', 'i', 'h', 'i'), 63),\n",
       " (('b', 'h', 'h', 'h'), 63),\n",
       " (('a', 'b', 'c', 'b', 'b'), 62),\n",
       " (('c', 'b', 'b', 'd', 'c'), 62),\n",
       " (('d', 'f', 'd'), 62),\n",
       " (('f', 'c', 'c', 'c', 'd'), 62),\n",
       " (('b', 'd', 'd', 'c', 'c'), 62),\n",
       " (('b', 'd', 'c', 'c', 'd'), 62),\n",
       " (('a', 'c', 'b', 'c'), 62),\n",
       " (('h', 'h', 'h', 'b'), 62),\n",
       " (('i', 'h', 'h', 'i', 'i'), 62),\n",
       " (('g', 'f', 'b', 'b', 'b'), 61),\n",
       " (('d', 'b', 'b', 'b'), 61),\n",
       " (('c', 'b', 'c', 'e'), 61),\n",
       " (('c', 'c', 'a', 'b'), 61),\n",
       " (('f', 'b', 'b', 'g', 'b'), 61),\n",
       " (('b', 'c', 'g'), 61),\n",
       " (('b', 'f', 'e'), 61),\n",
       " (('b', 'c', 'a', 'c', 'b'), 61),\n",
       " (('h', 'i', 'f'), 61),\n",
       " (('e', 'h', 'h', 'i', 'h'), 61),\n",
       " (('h', 'i', 'i', 'i', 'i'), 61),\n",
       " (('i', 'i', 'h', 'h', 'i'), 61),\n",
       " (('g', 'f', 'f', 'b'), 60),\n",
       " (('c', 'd', 'b', 'f'), 60),\n",
       " (('c', 'j', 'b', 'b'), 60),\n",
       " (('j', 'c', 'b', 'b'), 60),\n",
       " (('b', 'c', 'b', 'j'), 60),\n",
       " (('b', 'f', 'b', 'e'), 60),\n",
       " (('f', 'b', 'f', 'g'), 60),\n",
       " (('b', 'f', 'f', 'g'), 60),\n",
       " (('h', 'b', 'h', 'h'), 60),\n",
       " (('i', 'c', 'i', 'h'), 60),\n",
       " (('g', 'b', 'f', 'b', 'b'), 59),\n",
       " (('f', 'g', 'b', 'b', 'b'), 59),\n",
       " (('g', 'c', 'b', 'b'), 59),\n",
       " (('b', 'g', 'c', 'b'), 59),\n",
       " (('c', 'b', 'f', 'c', 'c'), 59),\n",
       " (('a', 'b', 'c', 'c'), 59),\n",
       " (('c', 'c', 'd', 'b', 'b'), 59),\n",
       " (('b', 'c', 'e', 'c'), 59),\n",
       " (('d', 'd', 'd', 'b'), 59),\n",
       " (('a', 'b', 'b', 'b', 'c'), 59),\n",
       " (('a', 'b', 'b', 'a', 'b'), 59),\n",
       " (('i', 'c', 'h'), 59),\n",
       " (('f', 'f', 'b', 'c'), 58),\n",
       " (('e', 'c', 'b', 'c'), 58),\n",
       " (('b', 'g', 'b', 'c'), 58),\n",
       " (('b', 'b', 'j', 'c'), 58),\n",
       " (('b', 'f', 'g', 'b', 'b'), 58),\n",
       " (('b', 'f', 'g', 'f'), 58),\n",
       " (('b', 'c', 'c', 'a'), 57),\n",
       " (('g', 'b', 'f', 'f'), 57),\n",
       " (('g', 'c', 'c', 'c', 'c'), 57),\n",
       " (('c', 'f', 'h'), 57),\n",
       " (('e', 'b', 'c', 'c'), 57),\n",
       " (('d', 'b', 'c', 'd', 'c'), 57),\n",
       " (('c', 'b', 'b', 'b', 'a'), 57),\n",
       " (('c', 'a', 'c', 'b', 'b'), 57),\n",
       " (('e', 'b', 'b', 'b', 'e'), 57),\n",
       " (('b', 'g', 'f', 'f'), 57),\n",
       " (('h', 'c', 'i', 'h'), 57),\n",
       " (('f', 'b', 'c', 'f'), 56),\n",
       " (('f', 'e', 'b'), 56),\n",
       " (('b', 'h', 'b', 'b', 'b'), 56),\n",
       " (('h', 'b', 'c'), 56),\n",
       " (('c', 'b', 'b', 'g'), 56),\n",
       " (('c', 'e', 'c', 'b'), 56),\n",
       " (('d', 'c', 'f', 'c'), 56),\n",
       " (('c', 'c', 'g', 'c', 'c'), 56),\n",
       " (('c', 'd', 'c', 'c', 'f'), 56),\n",
       " (('b', 'c', 'e', 'b', 'c'), 56),\n",
       " (('f', 'b', 'g', 'b', 'b'), 56),\n",
       " (('h', 'b', 'i', 'h'), 56),\n",
       " (('h', 'i', 'c', 'i'), 56),\n",
       " (('b', 'h', 'h', 'i'), 56),\n",
       " (('f', 'h', 'i', 'h'), 56),\n",
       " (('b', 'f', 'c', 'f'), 55),\n",
       " (('c', 'a', 'b', 'c'), 55),\n",
       " (('d', 'd', 'b', 'c', 'c'), 55),\n",
       " (('c', 'd', 'd', 'c', 'b'), 55),\n",
       " (('c', 'b', 'b', 'j'), 55),\n",
       " (('b', 'b', 'j', 'b', 'c'), 55),\n",
       " (('f', 'b', 'g', 'f'), 55),\n",
       " (('i', 'i', 'i', 'i', 'i'), 55),\n",
       " (('b', 'c', 'b', 'b', 'e'), 54),\n",
       " (('c', 'c', 'b', 'b', 'd'), 54),\n",
       " (('c', 'c', 'c', 'g', 'c'), 54),\n",
       " (('d', 'c', 'd', 'b', 'c'), 54),\n",
       " (('c', 'c', 'b', 'd', 'd'), 54),\n",
       " (('d', 'c', 'c', 'c', 'f'), 54),\n",
       " (('c', 'b', 'b', 'b', 'e'), 54),\n",
       " (('b', 'c', 'b', 'a', 'c'), 54),\n",
       " (('c', 'b', 'a', 'c', 'b'), 54),\n",
       " (('b', 'f', 'h'), 54),\n",
       " (('h', 'i', 'b', 'i'), 54),\n",
       " (('b', 'f', 'b', 'b', 'g'), 53),\n",
       " (('f', 'g', 'b', 'f'), 53),\n",
       " (('b', 'a', 'b', 'b', 'a'), 53),\n",
       " (('h', 'b', 'b', 'b', 'b'), 53),\n",
       " (('b', 'd', 'f'), 53),\n",
       " (('d', 'b', 'c', 'c', 'd'), 53),\n",
       " (('c', 'c', 'd', 'f', 'c'), 53),\n",
       " (('c', 'c', 'd', 'b', 'd'), 53),\n",
       " (('d', 'd', 'c', 'b', 'c'), 53),\n",
       " (('c', 'd', 'c', 'b', 'd'), 53),\n",
       " (('c', 'd', 'b', 'c', 'd'), 53),\n",
       " (('c', 'c', 'd', 'c', 'f'), 53),\n",
       " (('i', 'h', 'g'), 53),\n",
       " (('i', 'h', 'c', 'i'), 53),\n",
       " (('h', 'h', 'i', 'c'), 53),\n",
       " (('h', 'h', 'b', 'h'), 53),\n",
       " (('i', 'c', 'f', 'i'), 53),\n",
       " (('h', 'e', 'h', 'h', 'i'), 53),\n",
       " (('b', 'b', 'd', 'b'), 52),\n",
       " (('c', 'f', 'b', 'b', 'f'), 52),\n",
       " (('g', 'e'), 52),\n",
       " (('i', 'b', 'b'), 52),\n",
       " (('b', 'b', 'h', 'b', 'b'), 52),\n",
       " (('b', 'c', 'c', 'e'), 52),\n",
       " (('c', 'b', 'e', 'c', 'b'), 52),\n",
       " (('d', 'f', 'c', 'c', 'c'), 52),\n",
       " (('b', 'b', 'c', 'j'), 52),\n",
       " (('i', 'i', 'f'), 52),\n",
       " (('b', 'c', 'f', 'c'), 51),\n",
       " (('c', 'f', 'c', 'b'), 51),\n",
       " (('c', 'd', 'd', 'f'), 51),\n",
       " (('d', 'b', 'd', 'c', 'c'), 51),\n",
       " (('d', 'c', 'b', 'd', 'c'), 51),\n",
       " (('c', 'f', 'b', 'f', 'b'), 51),\n",
       " (('b', 'j', 'b', 'b', 'c'), 51),\n",
       " (('b', 'j', 'b', 'c', 'b'), 51),\n",
       " (('c', 'c', 'f', 'f'), 50),\n",
       " (('b', 'c', 'h'), 50),\n",
       " (('b', 'b', 'f', 'g', 'b'), 50),\n",
       " (('c', 'f', 'c', 'd'), 50),\n",
       " (('d', 'b', 'f', 'c'), 50),\n",
       " (('c', 'e', 'b', 'c', 'b'), 50),\n",
       " (('c', 'b', 'a', 'b', 'c'), 50),\n",
       " (('f', 'g', 'f', 'b'), 50),\n",
       " (('i', 'c', 'i', 'i'), 50),\n",
       " (('i', 'h', 'b', 'h'), 50),\n",
       " (('i', 'h', 'h', 'b'), 50),\n",
       " (('g', 'f', 'b', 'f'), 49),\n",
       " (('c', 'e', 'b', 'b', 'c'), 49),\n",
       " (('b', 'e', 'f', 'b'), 49),\n",
       " (('c', 'g', 'c', 'c', 'c'), 49),\n",
       " (('c', 'c', 'f', 'd', 'c'), 49),\n",
       " (('c', 'b', 'd', 'd', 'c'), 49),\n",
       " (('h', 'f', 'i'), 49),\n",
       " (('h', 'i', 'e'), 49),\n",
       " (('b', 'h', 'i', 'i'), 49),\n",
       " (('i', 'h', 'h', 'c'), 49),\n",
       " (('c', 'b', 'c', 'f'), 48),\n",
       " (('c', 'b', 'f', 'f'), 48),\n",
       " (('f', 'f', 'c', 'c'), 48),\n",
       " (('b', 'c', 'b', 'g'), 48),\n",
       " (('c', 'd', 'f', 'c', 'c'), 48),\n",
       " (('d', 'c', 'c', 'b', 'd'), 48),\n",
       " (('c', 'd', 'd', 'b', 'c'), 48),\n",
       " (('c', 'c', 'd', 'b', 'f'), 48),\n",
       " (('e', 'i', 'h'), 48),\n",
       " (('h', 'g', 'h'), 48),\n",
       " (('i', 'i', 'i', 'c'), 48),\n",
       " (('h', 'i', 'i', 'c'), 48),\n",
       " (('h', 'h', 'i', 'i', 'i'), 48),\n",
       " (('c', 'f', 'f', 'b'), 47),\n",
       " (('f', 'c', 'b', 'f'), 47),\n",
       " (('c', 'd', 'f', 'b'), 47),\n",
       " (('b', 'b', 'b', 'h', 'b'), 47),\n",
       " (('b', 'c', 'b', 'e', 'c'), 47),\n",
       " (('b', 'h', 'c'), 47),\n",
       " (('d', 'b', 'b', 'c', 'c'), 47),\n",
       " (('f', 'd', 'c', 'd'), 47),\n",
       " (('c', 'c', 'c', 'f', 'd'), 47),\n",
       " (('d', 'c', 'd', 'c', 'b'), 47),\n",
       " (('d', 'c', 'b', 'c', 'd'), 47),\n",
       " (('f', 'f', 'b', 'g'), 47),\n",
       " (('f', 'f', 'g', 'b'), 47),\n",
       " (('g', 'h', 'h'), 47),\n",
       " (('i', 'i', 'i', 'h', 'h'), 47),\n",
       " (('e', 'h', 'i', 'h', 'e'), 47),\n",
       " (('f', 'b', 'c', 'f', 'b'), 46),\n",
       " (('b', 'c', 'd', 'b'), 46),\n",
       " (('b', 'b', 'b', 'f', 'g'), 46),\n",
       " (('c', 'd', 'c', 'b', 'b'), 46),\n",
       " (('d', 'c', 'b', 'f'), 46),\n",
       " (('b', 'e', 'b', 'f'), 46),\n",
       " (('c', 'e', 'c', 'c', 'c'), 46),\n",
       " (('e', 'c', 'c', 'c', 'c'), 46),\n",
       " (('b', 'c', 'c', 'd', 'd'), 46),\n",
       " (('b', 'c', 'f', 'b', 'f'), 46),\n",
       " (('a', 'c', 'b', 'b', 'a'), 46),\n",
       " (('h', 'h', 'b', 'i'), 46),\n",
       " (('i', 'b', 'i', 'h'), 46),\n",
       " (('i', 'h', 'i', 'h', 'c'), 46),\n",
       " (('b', 'b', 'b', 'b', 'h'), 45),\n",
       " (('c', 'd', 'b', 'b', 'c'), 45),\n",
       " (('e', 'f', 'b', 'b'), 45),\n",
       " (('g', 'b', 'c', 'b'), 45),\n",
       " (('b', 'b', 'c', 'c', 'd'), 45),\n",
       " (('d', 'b', 'd', 'd'), 45),\n",
       " (('f', 'd', 'd', 'c'), 45),\n",
       " (('c', 'b', 'g', 'b'), 45),\n",
       " (('b', 'a', 'c', 'c', 'b'), 45),\n",
       " (('a', 'b', 'c', 'b', 'a'), 45),\n",
       " (('b', 'b', 'j', 'c', 'b'), 45),\n",
       " (('c', 'b', 'j', 'b', 'b'), 45),\n",
       " (('i', 'b', 'f'), 45),\n",
       " (('h', 'i', 'b', 'h'), 45),\n",
       " (('c', 'f', 'i', 'h'), 45),\n",
       " (('i', 'i', 'c', 'i'), 45),\n",
       " (('h', 'h', 'h', 'c'), 45),\n",
       " (('g', 'g'), 44)]"
      ]
     },
     "execution_count": 62,
     "metadata": {},
     "output_type": "execute_result"
    }
   ],
   "source": [
    "phrase_counter.most_common(1000)"
   ]
  },
  {
   "cell_type": "code",
   "execution_count": 65,
   "metadata": {},
   "outputs": [
    {
     "data": {
      "text/plain": [
       "(30, 2)"
      ]
     },
     "execution_count": 65,
     "metadata": {},
     "output_type": "execute_result"
    }
   ],
   "source": [
    "results_agg.shape"
   ]
  },
  {
   "cell_type": "code",
   "execution_count": null,
   "metadata": {},
   "outputs": [],
   "source": []
  }
 ],
 "metadata": {
  "kernelspec": {
   "display_name": "Python [conda env:HR_Analysis]",
   "language": "python",
   "name": "conda-env-HR_Analysis-py"
  },
  "language_info": {
   "codemirror_mode": {
    "name": "ipython",
    "version": 3
   },
   "file_extension": ".py",
   "mimetype": "text/x-python",
   "name": "python",
   "nbconvert_exporter": "python",
   "pygments_lexer": "ipython3",
   "version": "3.7.3"
  }
 },
 "nbformat": 4,
 "nbformat_minor": 2
}
