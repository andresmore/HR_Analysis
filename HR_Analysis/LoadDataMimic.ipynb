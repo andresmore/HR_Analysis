{
 "cells": [
  {
   "cell_type": "markdown",
   "metadata": {},
   "source": [
    "# Integración de datos MIMIC- Waveform database\n",
    "## 1) Verificar Prerequisitos\n",
    "### Python\n",
    "SciDB-Py requires Python 2.6-2.7 or 3.3"
   ]
  },
  {
   "cell_type": "code",
   "execution_count": 42,
   "metadata": {
    "scrolled": true
   },
   "outputs": [
    {
     "data": {
      "text/plain": [
       "'3.6.5 |Anaconda, Inc.| (default, Apr 26 2018, 08:42:37) \\n[GCC 4.2.1 Compatible Clang 4.0.1 (tags/RELEASE_401/final)]'"
      ]
     },
     "execution_count": 42,
     "metadata": {},
     "output_type": "execute_result"
    }
   ],
   "source": [
    "import sys\n",
    "sys.version"
   ]
  },
  {
   "cell_type": "code",
   "execution_count": 43,
   "metadata": {},
   "outputs": [],
   "source": [
    "import pprint\n",
    "\n",
    "pp=pprint.PrettyPrinter(indent=4)"
   ]
  },
  {
   "cell_type": "markdown",
   "metadata": {},
   "source": [
    "### NumPy\n",
    "tested with version 1.9 (1.13.1)"
   ]
  },
  {
   "cell_type": "code",
   "execution_count": 44,
   "metadata": {},
   "outputs": [
    {
     "data": {
      "text/plain": [
       "'1.15.4'"
      ]
     },
     "execution_count": 44,
     "metadata": {},
     "output_type": "execute_result"
    }
   ],
   "source": [
    "import numpy as np\n",
    "np.__version__"
   ]
  },
  {
   "cell_type": "markdown",
   "metadata": {},
   "source": [
    "### Requests\n",
    "tested with version 2.7 (2.18.1) Required for using the Shim interface to SciDB."
   ]
  },
  {
   "cell_type": "markdown",
   "metadata": {},
   "source": [
    "### Pandas (optional)\n",
    "tested with version 0.15. (0.20.3) Required only for importing/exporting SciDB arrays as Pandas Dataframe objects."
   ]
  },
  {
   "cell_type": "code",
   "execution_count": 45,
   "metadata": {},
   "outputs": [
    {
     "data": {
      "text/plain": [
       "'0.22.0'"
      ]
     },
     "execution_count": 45,
     "metadata": {},
     "output_type": "execute_result"
    }
   ],
   "source": [
    "import pandas as pd\n",
    "pd.__version__"
   ]
  },
  {
   "cell_type": "markdown",
   "metadata": {},
   "source": [
    "### SciPy (optional)\n",
    "tested with versions 0.10-0.12. (0.19.0) Required only for importing/exporting SciDB arrays as SciPy sparse matrices."
   ]
  },
  {
   "cell_type": "code",
   "execution_count": 46,
   "metadata": {},
   "outputs": [
    {
     "data": {
      "text/plain": [
       "'1.1.0'"
      ]
     },
     "execution_count": 46,
     "metadata": {},
     "output_type": "execute_result"
    }
   ],
   "source": [
    "import scipy\n",
    "scipy.__version__"
   ]
  },
  {
   "cell_type": "markdown",
   "metadata": {},
   "source": [
    "## 4) Importar WFDB para conectarse a physionet"
   ]
  },
  {
   "cell_type": "code",
   "execution_count": 47,
   "metadata": {},
   "outputs": [
    {
     "data": {
      "text/plain": [
       "'2.2.0'"
      ]
     },
     "execution_count": 47,
     "metadata": {},
     "output_type": "execute_result"
    }
   ],
   "source": [
    "import wfdb\n",
    "wfdb.__version__"
   ]
  },
  {
   "cell_type": "code",
   "execution_count": 48,
   "metadata": {},
   "outputs": [],
   "source": [
    "record_list= wfdb.get_record_list('mimic3wdb/matched')"
   ]
  },
  {
   "cell_type": "code",
   "execution_count": 49,
   "metadata": {},
   "outputs": [
    {
     "data": {
      "text/plain": [
       "10282"
      ]
     },
     "execution_count": 49,
     "metadata": {},
     "output_type": "execute_result"
    }
   ],
   "source": [
    "len(record_list)\n"
   ]
  },
  {
   "cell_type": "code",
   "execution_count": 50,
   "metadata": {},
   "outputs": [
    {
     "name": "stdout",
     "output_type": "stream",
     "text": [
      "['p00/p000020/', 'p00/p000030/', 'p00/p000033/', 'p00/p000052/', 'p00/p000079/', 'p00/p000085/', 'p00/p000107/', 'p00/p000109/', 'p00/p000123/', 'p00/p000124/']\n",
      "Total records\n",
      "10282\n"
     ]
    }
   ],
   "source": [
    "print(record_list[:10])\n",
    "print(\"Total records\")\n",
    "print(len(record_list))"
   ]
  },
  {
   "cell_type": "code",
   "execution_count": 51,
   "metadata": {},
   "outputs": [],
   "source": [
    "patient_ids=list(map(lambda x: int(x[x.rfind('p')+1:x.rfind('/')]), record_list ))"
   ]
  },
  {
   "cell_type": "code",
   "execution_count": 11,
   "metadata": {},
   "outputs": [],
   "source": [
    "files=list(filter( lambda x : x.startswith('p') and not x.endswith('n'),wfdb.get_record_list('mimic3wdb/matched/'+record_list[6])))"
   ]
  },
  {
   "cell_type": "code",
   "execution_count": 13,
   "metadata": {},
   "outputs": [
    {
     "data": {
      "text/plain": [
       "['p000107-2121-11-30-20-03',\n",
       " 'p000107-2122-05-14-21-01',\n",
       " 'p000107-2123-07-26-03-10',\n",
       " 'p000107-2124-01-10-05-53']"
      ]
     },
     "execution_count": 13,
     "metadata": {},
     "output_type": "execute_result"
    }
   ],
   "source": [
    "files"
   ]
  },
  {
   "cell_type": "code",
   "execution_count": 14,
   "metadata": {},
   "outputs": [
    {
     "data": {
      "text/plain": [
       "'p00/p000107/'"
      ]
     },
     "execution_count": 14,
     "metadata": {},
     "output_type": "execute_result"
    }
   ],
   "source": [
    "record_list[6]"
   ]
  },
  {
   "cell_type": "code",
   "execution_count": 15,
   "metadata": {},
   "outputs": [
    {
     "data": {
      "text/plain": [
       "'p000107-2121-11-30-20-03'"
      ]
     },
     "execution_count": 15,
     "metadata": {},
     "output_type": "execute_result"
    }
   ],
   "source": [
    "files[0]"
   ]
  },
  {
   "cell_type": "code",
   "execution_count": 16,
   "metadata": {},
   "outputs": [
    {
     "name": "stdout",
     "output_type": "stream",
     "text": [
      "107\n"
     ]
    }
   ],
   "source": [
    "subject_id = patient_ids[6]\n",
    "print(subject_id)"
   ]
  },
  {
   "cell_type": "code",
   "execution_count": 17,
   "metadata": {},
   "outputs": [],
   "source": [
    "record2 = wfdb.rdrecord(files[0], pb_dir='mimic3wdb/matched/'+record_list[6], channel_names=['II'])"
   ]
  },
  {
   "cell_type": "code",
   "execution_count": 18,
   "metadata": {},
   "outputs": [],
   "source": [
    "record3 = wfdb.rdrecord(files[1], pb_dir='mimic3wdb/matched/'+record_list[6])"
   ]
  },
  {
   "cell_type": "code",
   "execution_count": 19,
   "metadata": {},
   "outputs": [
    {
     "data": {
      "text/plain": [
       "<wfdb.io.record.Record at 0x114dfc908>"
      ]
     },
     "execution_count": 19,
     "metadata": {},
     "output_type": "execute_result"
    }
   ],
   "source": [
    "record3"
   ]
  },
  {
   "cell_type": "code",
   "execution_count": 20,
   "metadata": {},
   "outputs": [
    {
     "data": {
      "text/plain": [
       "<wfdb.io.record.Record at 0x112e950f0>"
      ]
     },
     "execution_count": 20,
     "metadata": {},
     "output_type": "execute_result"
    }
   ],
   "source": [
    "record2"
   ]
  },
  {
   "cell_type": "code",
   "execution_count": 21,
   "metadata": {},
   "outputs": [
    {
     "data": {
      "image/png": "[encoded data removed]",
      "text/plain": [
       "<Figure size 432x288 with 1 Axes>"
      ]
     },
     "metadata": {
      "needs_background": "light"
     },
     "output_type": "display_data"
    }
   ],
   "source": [
    "wfdb.plot_wfdb(record=record2, title=\"Example\")\n"
   ]
  },
  {
   "cell_type": "code",
   "execution_count": 22,
   "metadata": {},
   "outputs": [
    {
     "name": "stdout",
     "output_type": "stream",
     "text": [
      "{   'adc_gain': None,\n",
      "    'adc_res': None,\n",
      "    'adc_zero': None,\n",
      "    'base_counter': None,\n",
      "    'base_date': datetime.date(2121, 11, 30),\n",
      "    'base_datetime': datetime.datetime(2121, 11, 30, 20, 3, 22, 826000),\n",
      "    'base_time': datetime.time(20, 3, 22, 826000),\n",
      "    'baseline': None,\n",
      "    'block_size': None,\n",
      "    'byte_offset': None,\n",
      "    'checksum': None,\n",
      "    'comments': ['Location: micu'],\n",
      "    'counter_freq': None,\n",
      "    'd_signal': None,\n",
      "    'e_d_signal': None,\n",
      "    'e_p_signal': None,\n",
      "    'file_name': None,\n",
      "    'fmt': ['16'],\n",
      "    'fs': 125,\n",
      "    'init_value': None,\n",
      "    'layout': 'variable',\n",
      "    'n_sig': 1,\n",
      "    'p_signal': array([[       nan],\n",
      "       [       nan],\n",
      "       [       nan],\n",
      "       ...,\n",
      "       [0.62988281],\n",
      "       [0.64990234],\n",
      "       [0.65478516]]),\n",
      "    'record_name': 'p000107-2121-11-30-20-03',\n",
      "    'samps_per_frame': None,\n",
      "    'sig_len': 11259250,\n",
      "    'sig_name': ['II'],\n",
      "    'sig_segments': None,\n",
      "    'skew': None,\n",
      "    'units': ['mV']}\n"
     ]
    }
   ],
   "source": [
    "pp.pprint(record2.__dict__)\n"
   ]
  },
  {
   "cell_type": "code",
   "execution_count": 23,
   "metadata": {},
   "outputs": [
    {
     "name": "stdout",
     "output_type": "stream",
     "text": [
      "{   'adc_gain': None,\n",
      "    'adc_res': None,\n",
      "    'adc_zero': None,\n",
      "    'base_counter': None,\n",
      "    'base_date': datetime.date(2122, 5, 14),\n",
      "    'base_datetime': datetime.datetime(2122, 5, 14, 21, 1, 58),\n",
      "    'base_time': datetime.time(21, 1, 58),\n",
      "    'baseline': None,\n",
      "    'block_size': None,\n",
      "    'byte_offset': None,\n",
      "    'checksum': None,\n",
      "    'comments': ['Location: micu'],\n",
      "    'counter_freq': None,\n",
      "    'd_signal': None,\n",
      "    'e_d_signal': None,\n",
      "    'e_p_signal': None,\n",
      "    'file_name': None,\n",
      "    'fmt': ['80', '80', '80', '80', '80'],\n",
      "    'fs': 125,\n",
      "    'init_value': None,\n",
      "    'layout': 'variable',\n",
      "    'n_sig': 5,\n",
      "    'p_signal': array([[       nan,        nan, 0.50196078,        nan,        nan],\n",
      "       [       nan,        nan, 0.50196078,        nan,        nan],\n",
      "       [       nan,        nan, 0.50196078,        nan,        nan],\n",
      "       ...,\n",
      "       [       nan,        nan, 0.50196078,        nan,        nan],\n",
      "       [       nan,        nan, 0.50196078,        nan,        nan],\n",
      "       [       nan,        nan, 0.50196078,        nan,        nan]]),\n",
      "    'record_name': 'p000107-2122-05-14-21-01',\n",
      "    'samps_per_frame': None,\n",
      "    'sig_len': 20101375,\n",
      "    'sig_name': ['II', 'V', 'PLETH', 'ABP', 'I'],\n",
      "    'sig_segments': None,\n",
      "    'skew': None,\n",
      "    'units': ['mV', 'mV', 'NU', 'mmHg', 'mV']}\n"
     ]
    }
   ],
   "source": [
    "pp.pprint(record3.__dict__)\n"
   ]
  },
  {
   "cell_type": "code",
   "execution_count": 29,
   "metadata": {},
   "outputs": [
    {
     "data": {
      "text/plain": [
       "(1315,)"
      ]
     },
     "execution_count": 29,
     "metadata": {},
     "output_type": "execute_result"
    }
   ],
   "source": [
    "record3.p_signal[:,0].shape"
   ]
  },
  {
   "cell_type": "code",
   "execution_count": 26,
   "metadata": {},
   "outputs": [],
   "source": [
    "import wfdb.processing as processing\n"
   ]
  },
  {
   "cell_type": "code",
   "execution_count": 15,
   "metadata": {},
   "outputs": [],
   "source": [
    "import matplotlib.pyplot as plt\n"
   ]
  },
  {
   "cell_type": "code",
   "execution_count": 28,
   "metadata": {},
   "outputs": [
    {
     "data": {
      "text/plain": [
       "tuple"
      ]
     },
     "execution_count": 28,
     "metadata": {},
     "output_type": "execute_result"
    }
   ],
   "source": [
    "type(record2.p_signal.shape)\n"
   ]
  },
  {
   "cell_type": "markdown",
   "metadata": {},
   "source": [
    "Normaliza la señal y le quita los valores en null"
   ]
  },
  {
   "cell_type": "code",
   "execution_count": 28,
   "metadata": {},
   "outputs": [],
   "source": [
    "peaks_inds=processing.gqrs_detect(sig=record2.p_signal[:,0], fs=record2.fs)\n"
   ]
  },
  {
   "cell_type": "code",
   "execution_count": 26,
   "metadata": {},
   "outputs": [
    {
     "ename": "NameError",
     "evalue": "name 'peaks_ind' is not defined",
     "output_type": "error",
     "traceback": [
      "\u001b[1;31m---------------------------------------------------------------------------\u001b[0m",
      "\u001b[1;31mNameError\u001b[0m                                 Traceback (most recent call last)",
      "\u001b[1;32m<ipython-input-26-afed80003a66>\u001b[0m in \u001b[0;36m<module>\u001b[1;34m\u001b[0m\n\u001b[1;32m----> 1\u001b[1;33m \u001b[0mnp\u001b[0m\u001b[1;33m.\u001b[0m\u001b[0misnan\u001b[0m\u001b[1;33m(\u001b[0m\u001b[0mpeaks_ind\u001b[0m\u001b[1;33m)\u001b[0m\u001b[1;33m\u001b[0m\u001b[0m\n\u001b[0m",
      "\u001b[1;31mNameError\u001b[0m: name 'peaks_ind' is not defined"
     ]
    }
   ],
   "source": [
    "np.isnan(peaks_inds)"
   ]
  },
  {
   "cell_type": "code",
   "execution_count": 35,
   "metadata": {},
   "outputs": [],
   "source": [
    "def peaks_hr(sig, peak_inds, fs, title, figsize=(20, 10), saveto=None):\n",
    "    \"Plot a signal with its peaks and heart rate\"\n",
    "    # Calculate heart rate\n",
    "    hrs = processing.compute_hr(sig_len=sig.shape[0], qrs_inds=peak_inds, fs=fs)\n",
    "    \n",
    "    N = sig.shape[0]\n",
    "    \n",
    "    fig, ax_left = plt.subplots(figsize=figsize)\n",
    "    ax_right = ax_left.twinx()\n",
    "    \n",
    "    ax_left.plot(sig, color='#3979f0', label='Signal')\n",
    "    ax_left.plot(peak_inds, sig[peak_inds], 'rx', marker='x', color='#8b0000', label='Peak', markersize=12)\n",
    "    ax_right.plot(np.arange(N), hrs, label='Heart rate', color='m', linewidth=2)\n",
    "\n",
    "    ax_left.set_title(title)\n",
    "\n",
    "    ax_left.set_xlabel('Time (ms)')\n",
    "    ax_left.set_ylabel('ECG (mV)', color='#3979f0')\n",
    "    ax_right.set_ylabel('Heart rate (bpm)', color='m')\n",
    "    # Make the y-axis label, ticks and tick labels match the line color.\n",
    "    ax_left.tick_params('y', colors='#3979f0')\n",
    "    ax_right.tick_params('y', colors='m')\n",
    "    if saveto is not None:\n",
    "        plt.savefig(saveto, dpi=600)\n",
    "    plt.show()\n"
   ]
  },
  {
   "cell_type": "code",
   "execution_count": 36,
   "metadata": {},
   "outputs": [
    {
     "data": {
      "image/png": "[encoded data removed]",
      "text/plain": [
       "<Figure size 1440x720 with 2 Axes>"
      ]
     },
     "metadata": {},
     "output_type": "display_data"
    }
   ],
   "source": [
    "peaks_hr(sig=record2.p_signal, peak_inds=peaks_ind, fs=record2.fs,\n",
    "        title=\"GQRS peak detection on record\")"
   ]
  },
  {
   "cell_type": "markdown",
   "metadata": {},
   "source": [
    "Cambiar los guiones \"-\" por raya al piso \"_\" porque por algun motivo SciDB tiene problemas con estos caracteres\n",
    "Si el arreglo sin valores nulos no queda vacio lo sube al SciDB"
   ]
  },
  {
   "cell_type": "markdown",
   "metadata": {},
   "source": [
    "# Conectar con MIMIC\n"
   ]
  },
  {
   "cell_type": "code",
   "execution_count": 52,
   "metadata": {},
   "outputs": [],
   "source": [
    "## Cargar datos de pacientes, admisiones y icu_stays\n",
    "patients = pd.read_csv('mimic/PATIENTS.csv')\n",
    "admissions = pd.read_csv('mimic/ADMISSIONS.csv')\n",
    "icu_stays = pd.read_csv('mimic/ICUSTAYS.csv')"
   ]
  },
  {
   "cell_type": "code",
   "execution_count": 53,
   "metadata": {},
   "outputs": [
    {
     "data": {
      "text/html": [
       "<div>\n",
       "<style scoped>\n",
       "    .dataframe tbody tr th:only-of-type {\n",
       "        vertical-align: middle;\n",
       "    }\n",
       "\n",
       "    .dataframe tbody tr th {\n",
       "        vertical-align: top;\n",
       "    }\n",
       "\n",
       "    .dataframe thead th {\n",
       "        text-align: right;\n",
       "    }\n",
       "</style>\n",
       "<table border=\"1\" class=\"dataframe\">\n",
       "  <thead>\n",
       "    <tr style=\"text-align: right;\">\n",
       "      <th></th>\n",
       "      <th>ROW_ID</th>\n",
       "      <th>SUBJECT_ID</th>\n",
       "      <th>GENDER</th>\n",
       "      <th>DOB</th>\n",
       "      <th>DOD</th>\n",
       "      <th>DOD_HOSP</th>\n",
       "      <th>DOD_SSN</th>\n",
       "      <th>EXPIRE_FLAG</th>\n",
       "    </tr>\n",
       "  </thead>\n",
       "  <tbody>\n",
       "    <tr>\n",
       "      <th>0</th>\n",
       "      <td>234</td>\n",
       "      <td>249</td>\n",
       "      <td>F</td>\n",
       "      <td>2075-03-13 00:00:00</td>\n",
       "      <td>NaN</td>\n",
       "      <td>NaN</td>\n",
       "      <td>NaN</td>\n",
       "      <td>0</td>\n",
       "    </tr>\n",
       "    <tr>\n",
       "      <th>1</th>\n",
       "      <td>235</td>\n",
       "      <td>250</td>\n",
       "      <td>F</td>\n",
       "      <td>2164-12-27 00:00:00</td>\n",
       "      <td>2188-11-22 00:00:00</td>\n",
       "      <td>2188-11-22 00:00:00</td>\n",
       "      <td>NaN</td>\n",
       "      <td>1</td>\n",
       "    </tr>\n",
       "    <tr>\n",
       "      <th>2</th>\n",
       "      <td>236</td>\n",
       "      <td>251</td>\n",
       "      <td>M</td>\n",
       "      <td>2090-03-15 00:00:00</td>\n",
       "      <td>NaN</td>\n",
       "      <td>NaN</td>\n",
       "      <td>NaN</td>\n",
       "      <td>0</td>\n",
       "    </tr>\n",
       "    <tr>\n",
       "      <th>3</th>\n",
       "      <td>237</td>\n",
       "      <td>252</td>\n",
       "      <td>M</td>\n",
       "      <td>2078-03-06 00:00:00</td>\n",
       "      <td>NaN</td>\n",
       "      <td>NaN</td>\n",
       "      <td>NaN</td>\n",
       "      <td>0</td>\n",
       "    </tr>\n",
       "    <tr>\n",
       "      <th>4</th>\n",
       "      <td>238</td>\n",
       "      <td>253</td>\n",
       "      <td>F</td>\n",
       "      <td>2089-11-26 00:00:00</td>\n",
       "      <td>NaN</td>\n",
       "      <td>NaN</td>\n",
       "      <td>NaN</td>\n",
       "      <td>0</td>\n",
       "    </tr>\n",
       "  </tbody>\n",
       "</table>\n",
       "</div>"
      ],
      "text/plain": [
       "   ROW_ID  SUBJECT_ID GENDER                  DOB                  DOD  \\\n",
       "0     234         249      F  2075-03-13 00:00:00                  NaN   \n",
       "1     235         250      F  2164-12-27 00:00:00  2188-11-22 00:00:00   \n",
       "2     236         251      M  2090-03-15 00:00:00                  NaN   \n",
       "3     237         252      M  2078-03-06 00:00:00                  NaN   \n",
       "4     238         253      F  2089-11-26 00:00:00                  NaN   \n",
       "\n",
       "              DOD_HOSP DOD_SSN  EXPIRE_FLAG  \n",
       "0                  NaN     NaN            0  \n",
       "1  2188-11-22 00:00:00     NaN            1  \n",
       "2                  NaN     NaN            0  \n",
       "3                  NaN     NaN            0  \n",
       "4                  NaN     NaN            0  "
      ]
     },
     "execution_count": 53,
     "metadata": {},
     "output_type": "execute_result"
    }
   ],
   "source": [
    "patients.head()"
   ]
  },
  {
   "cell_type": "code",
   "execution_count": 54,
   "metadata": {},
   "outputs": [
    {
     "data": {
      "text/html": [
       "<div>\n",
       "<style scoped>\n",
       "    .dataframe tbody tr th:only-of-type {\n",
       "        vertical-align: middle;\n",
       "    }\n",
       "\n",
       "    .dataframe tbody tr th {\n",
       "        vertical-align: top;\n",
       "    }\n",
       "\n",
       "    .dataframe thead th {\n",
       "        text-align: right;\n",
       "    }\n",
       "</style>\n",
       "<table border=\"1\" class=\"dataframe\">\n",
       "  <thead>\n",
       "    <tr style=\"text-align: right;\">\n",
       "      <th></th>\n",
       "      <th>ROW_ID</th>\n",
       "      <th>SUBJECT_ID</th>\n",
       "      <th>HADM_ID</th>\n",
       "      <th>ADMITTIME</th>\n",
       "      <th>DISCHTIME</th>\n",
       "      <th>DEATHTIME</th>\n",
       "      <th>ADMISSION_TYPE</th>\n",
       "      <th>ADMISSION_LOCATION</th>\n",
       "      <th>DISCHARGE_LOCATION</th>\n",
       "      <th>INSURANCE</th>\n",
       "      <th>LANGUAGE</th>\n",
       "      <th>RELIGION</th>\n",
       "      <th>MARITAL_STATUS</th>\n",
       "      <th>ETHNICITY</th>\n",
       "      <th>EDREGTIME</th>\n",
       "      <th>EDOUTTIME</th>\n",
       "      <th>DIAGNOSIS</th>\n",
       "      <th>HOSPITAL_EXPIRE_FLAG</th>\n",
       "      <th>HAS_CHARTEVENTS_DATA</th>\n",
       "    </tr>\n",
       "  </thead>\n",
       "  <tbody>\n",
       "    <tr>\n",
       "      <th>128</th>\n",
       "      <td>167</td>\n",
       "      <td>124</td>\n",
       "      <td>112906</td>\n",
       "      <td>2161-12-17 03:39:00</td>\n",
       "      <td>2161-12-24 15:35:00</td>\n",
       "      <td>NaN</td>\n",
       "      <td>EMERGENCY</td>\n",
       "      <td>EMERGENCY ROOM ADMIT</td>\n",
       "      <td>HOME</td>\n",
       "      <td>Medicare</td>\n",
       "      <td>NaN</td>\n",
       "      <td>CATHOLIC</td>\n",
       "      <td>MARRIED</td>\n",
       "      <td>WHITE</td>\n",
       "      <td>2161-12-16 18:57:00</td>\n",
       "      <td>2161-12-17 12:35:00</td>\n",
       "      <td>CHEST PAIN,R/O MI</td>\n",
       "      <td>0</td>\n",
       "      <td>1</td>\n",
       "    </tr>\n",
       "    <tr>\n",
       "      <th>129</th>\n",
       "      <td>168</td>\n",
       "      <td>124</td>\n",
       "      <td>134369</td>\n",
       "      <td>2165-05-21 21:02:00</td>\n",
       "      <td>2165-06-06 16:00:00</td>\n",
       "      <td>NaN</td>\n",
       "      <td>ELECTIVE</td>\n",
       "      <td>PHYS REFERRAL/NORMAL DELI</td>\n",
       "      <td>REHAB/DISTINCT PART HOSP</td>\n",
       "      <td>Medicare</td>\n",
       "      <td>ENGL</td>\n",
       "      <td>CATHOLIC</td>\n",
       "      <td>MARRIED</td>\n",
       "      <td>WHITE</td>\n",
       "      <td>NaN</td>\n",
       "      <td>NaN</td>\n",
       "      <td>CLAUDICATION</td>\n",
       "      <td>0</td>\n",
       "      <td>1</td>\n",
       "    </tr>\n",
       "    <tr>\n",
       "      <th>130</th>\n",
       "      <td>169</td>\n",
       "      <td>124</td>\n",
       "      <td>138376</td>\n",
       "      <td>2165-12-31 18:55:00</td>\n",
       "      <td>2166-02-01 06:55:00</td>\n",
       "      <td>2166-02-01 06:55:00</td>\n",
       "      <td>EMERGENCY</td>\n",
       "      <td>TRANSFER FROM HOSP/EXTRAM</td>\n",
       "      <td>DEAD/EXPIRED</td>\n",
       "      <td>Medicare</td>\n",
       "      <td>ENGL</td>\n",
       "      <td>CATHOLIC</td>\n",
       "      <td>MARRIED</td>\n",
       "      <td>WHITE</td>\n",
       "      <td>NaN</td>\n",
       "      <td>NaN</td>\n",
       "      <td>PNEUMONIA;CHRONIC OBST PULM DISEASE</td>\n",
       "      <td>1</td>\n",
       "      <td>1</td>\n",
       "    </tr>\n",
       "    <tr>\n",
       "      <th>210</th>\n",
       "      <td>166</td>\n",
       "      <td>124</td>\n",
       "      <td>172461</td>\n",
       "      <td>2160-06-24 21:25:00</td>\n",
       "      <td>2160-07-15 15:10:00</td>\n",
       "      <td>NaN</td>\n",
       "      <td>EMERGENCY</td>\n",
       "      <td>TRANSFER FROM HOSP/EXTRAM</td>\n",
       "      <td>HOME HEALTH CARE</td>\n",
       "      <td>Private</td>\n",
       "      <td>NaN</td>\n",
       "      <td>CATHOLIC</td>\n",
       "      <td>MARRIED</td>\n",
       "      <td>WHITE</td>\n",
       "      <td>NaN</td>\n",
       "      <td>NaN</td>\n",
       "      <td>CVA</td>\n",
       "      <td>0</td>\n",
       "      <td>1</td>\n",
       "    </tr>\n",
       "  </tbody>\n",
       "</table>\n",
       "</div>"
      ],
      "text/plain": [
       "     ROW_ID  SUBJECT_ID  HADM_ID            ADMITTIME            DISCHTIME  \\\n",
       "128     167         124   112906  2161-12-17 03:39:00  2161-12-24 15:35:00   \n",
       "129     168         124   134369  2165-05-21 21:02:00  2165-06-06 16:00:00   \n",
       "130     169         124   138376  2165-12-31 18:55:00  2166-02-01 06:55:00   \n",
       "210     166         124   172461  2160-06-24 21:25:00  2160-07-15 15:10:00   \n",
       "\n",
       "               DEATHTIME ADMISSION_TYPE         ADMISSION_LOCATION  \\\n",
       "128                  NaN      EMERGENCY       EMERGENCY ROOM ADMIT   \n",
       "129                  NaN       ELECTIVE  PHYS REFERRAL/NORMAL DELI   \n",
       "130  2166-02-01 06:55:00      EMERGENCY  TRANSFER FROM HOSP/EXTRAM   \n",
       "210                  NaN      EMERGENCY  TRANSFER FROM HOSP/EXTRAM   \n",
       "\n",
       "           DISCHARGE_LOCATION INSURANCE LANGUAGE  RELIGION MARITAL_STATUS  \\\n",
       "128                      HOME  Medicare      NaN  CATHOLIC        MARRIED   \n",
       "129  REHAB/DISTINCT PART HOSP  Medicare     ENGL  CATHOLIC        MARRIED   \n",
       "130              DEAD/EXPIRED  Medicare     ENGL  CATHOLIC        MARRIED   \n",
       "210          HOME HEALTH CARE   Private      NaN  CATHOLIC        MARRIED   \n",
       "\n",
       "    ETHNICITY            EDREGTIME            EDOUTTIME  \\\n",
       "128     WHITE  2161-12-16 18:57:00  2161-12-17 12:35:00   \n",
       "129     WHITE                  NaN                  NaN   \n",
       "130     WHITE                  NaN                  NaN   \n",
       "210     WHITE                  NaN                  NaN   \n",
       "\n",
       "                               DIAGNOSIS  HOSPITAL_EXPIRE_FLAG  \\\n",
       "128                    CHEST PAIN,R/O MI                     0   \n",
       "129                         CLAUDICATION                     0   \n",
       "130  PNEUMONIA;CHRONIC OBST PULM DISEASE                     1   \n",
       "210                                  CVA                     0   \n",
       "\n",
       "     HAS_CHARTEVENTS_DATA  \n",
       "128                     1  \n",
       "129                     1  \n",
       "130                     1  \n",
       "210                     1  "
      ]
     },
     "execution_count": 54,
     "metadata": {},
     "output_type": "execute_result"
    }
   ],
   "source": [
    "admissions[admissions.SUBJECT_ID==124]"
   ]
  },
  {
   "cell_type": "code",
   "execution_count": 55,
   "metadata": {},
   "outputs": [
    {
     "data": {
      "text/plain": [
       "128     True\n",
       "129     True\n",
       "130    False\n",
       "210     True\n",
       "Name: DEATHTIME, dtype: bool"
      ]
     },
     "execution_count": 55,
     "metadata": {},
     "output_type": "execute_result"
    }
   ],
   "source": [
    "admissions[admissions.SUBJECT_ID==124].DEATHTIME.isna()"
   ]
  },
  {
   "cell_type": "code",
   "execution_count": 56,
   "metadata": {},
   "outputs": [
    {
     "name": "stdout",
     "output_type": "stream",
     "text": [
      "58976\n",
      "5854\n"
     ]
    }
   ],
   "source": [
    "print(len(admissions))\n",
    "print(len(admissions[admissions.DEATHTIME.isna()==False])) #how many died"
   ]
  },
  {
   "cell_type": "code",
   "execution_count": 57,
   "metadata": {},
   "outputs": [],
   "source": [
    "#Convertir a fechas\n",
    "admissions['ADMITTIME']=pd.to_datetime(admissions['ADMITTIME'])\n",
    "admissions['DISCHTIME']=pd.to_datetime(admissions['DISCHTIME'])\n",
    "admissions['DEATHTIME']=pd.to_datetime(admissions['DEATHTIME'])\n",
    "#Convertir a fechas\n",
    "icu_stays['OUTTIME']=pd.to_datetime(icu_stays['OUTTIME'])\n",
    "icu_stays['INTIME']=pd.to_datetime(icu_stays['INTIME'])"
   ]
  },
  {
   "cell_type": "markdown",
   "metadata": {},
   "source": [
    "Patients with records are in list patient_ids\n",
    "We need to find the stays for these patients, and obtain their death time or discharge time\n",
    "The want to calculate the time from icu release to death or discharge\n",
    "Then, we will find a rule to state whether died is true or false  (example: if death time is before 24 hours after the release)"
   ]
  },
  {
   "cell_type": "code",
   "execution_count": 58,
   "metadata": {},
   "outputs": [
    {
     "data": {
      "text/html": [
       "<div>\n",
       "<style scoped>\n",
       "    .dataframe tbody tr th:only-of-type {\n",
       "        vertical-align: middle;\n",
       "    }\n",
       "\n",
       "    .dataframe tbody tr th {\n",
       "        vertical-align: top;\n",
       "    }\n",
       "\n",
       "    .dataframe thead th {\n",
       "        text-align: right;\n",
       "    }\n",
       "</style>\n",
       "<table border=\"1\" class=\"dataframe\">\n",
       "  <thead>\n",
       "    <tr style=\"text-align: right;\">\n",
       "      <th></th>\n",
       "      <th>ROW_ID</th>\n",
       "      <th>SUBJECT_ID</th>\n",
       "      <th>HADM_ID</th>\n",
       "      <th>ICUSTAY_ID</th>\n",
       "      <th>DBSOURCE</th>\n",
       "      <th>FIRST_CAREUNIT</th>\n",
       "      <th>LAST_CAREUNIT</th>\n",
       "      <th>FIRST_WARDID</th>\n",
       "      <th>LAST_WARDID</th>\n",
       "      <th>INTIME</th>\n",
       "      <th>OUTTIME</th>\n",
       "      <th>LOS</th>\n",
       "    </tr>\n",
       "  </thead>\n",
       "  <tbody>\n",
       "    <tr>\n",
       "      <th>0</th>\n",
       "      <td>365</td>\n",
       "      <td>268</td>\n",
       "      <td>110404</td>\n",
       "      <td>280836</td>\n",
       "      <td>carevue</td>\n",
       "      <td>MICU</td>\n",
       "      <td>MICU</td>\n",
       "      <td>52</td>\n",
       "      <td>52</td>\n",
       "      <td>2198-02-14 23:27:38</td>\n",
       "      <td>2198-02-18 05:26:11</td>\n",
       "      <td>3.2490</td>\n",
       "    </tr>\n",
       "    <tr>\n",
       "      <th>1</th>\n",
       "      <td>366</td>\n",
       "      <td>269</td>\n",
       "      <td>106296</td>\n",
       "      <td>206613</td>\n",
       "      <td>carevue</td>\n",
       "      <td>MICU</td>\n",
       "      <td>MICU</td>\n",
       "      <td>52</td>\n",
       "      <td>52</td>\n",
       "      <td>2170-11-05 11:05:29</td>\n",
       "      <td>2170-11-08 17:46:57</td>\n",
       "      <td>3.2788</td>\n",
       "    </tr>\n",
       "    <tr>\n",
       "      <th>2</th>\n",
       "      <td>367</td>\n",
       "      <td>270</td>\n",
       "      <td>188028</td>\n",
       "      <td>220345</td>\n",
       "      <td>carevue</td>\n",
       "      <td>CCU</td>\n",
       "      <td>CCU</td>\n",
       "      <td>57</td>\n",
       "      <td>57</td>\n",
       "      <td>2128-06-24 15:05:20</td>\n",
       "      <td>2128-06-27 12:32:29</td>\n",
       "      <td>2.8939</td>\n",
       "    </tr>\n",
       "    <tr>\n",
       "      <th>3</th>\n",
       "      <td>368</td>\n",
       "      <td>271</td>\n",
       "      <td>173727</td>\n",
       "      <td>249196</td>\n",
       "      <td>carevue</td>\n",
       "      <td>MICU</td>\n",
       "      <td>SICU</td>\n",
       "      <td>52</td>\n",
       "      <td>23</td>\n",
       "      <td>2120-08-07 23:12:42</td>\n",
       "      <td>2120-08-10 00:39:04</td>\n",
       "      <td>2.0600</td>\n",
       "    </tr>\n",
       "    <tr>\n",
       "      <th>4</th>\n",
       "      <td>369</td>\n",
       "      <td>272</td>\n",
       "      <td>164716</td>\n",
       "      <td>210407</td>\n",
       "      <td>carevue</td>\n",
       "      <td>CCU</td>\n",
       "      <td>CCU</td>\n",
       "      <td>57</td>\n",
       "      <td>57</td>\n",
       "      <td>2186-12-25 21:08:04</td>\n",
       "      <td>2186-12-27 12:01:13</td>\n",
       "      <td>1.6202</td>\n",
       "    </tr>\n",
       "  </tbody>\n",
       "</table>\n",
       "</div>"
      ],
      "text/plain": [
       "   ROW_ID  SUBJECT_ID  HADM_ID  ICUSTAY_ID DBSOURCE FIRST_CAREUNIT  \\\n",
       "0     365         268   110404      280836  carevue           MICU   \n",
       "1     366         269   106296      206613  carevue           MICU   \n",
       "2     367         270   188028      220345  carevue            CCU   \n",
       "3     368         271   173727      249196  carevue           MICU   \n",
       "4     369         272   164716      210407  carevue            CCU   \n",
       "\n",
       "  LAST_CAREUNIT  FIRST_WARDID  LAST_WARDID              INTIME  \\\n",
       "0          MICU            52           52 2198-02-14 23:27:38   \n",
       "1          MICU            52           52 2170-11-05 11:05:29   \n",
       "2           CCU            57           57 2128-06-24 15:05:20   \n",
       "3          SICU            52           23 2120-08-07 23:12:42   \n",
       "4           CCU            57           57 2186-12-25 21:08:04   \n",
       "\n",
       "              OUTTIME     LOS  \n",
       "0 2198-02-18 05:26:11  3.2490  \n",
       "1 2170-11-08 17:46:57  3.2788  \n",
       "2 2128-06-27 12:32:29  2.8939  \n",
       "3 2120-08-10 00:39:04  2.0600  \n",
       "4 2186-12-27 12:01:13  1.6202  "
      ]
     },
     "execution_count": 58,
     "metadata": {},
     "output_type": "execute_result"
    }
   ],
   "source": [
    "icu_stays.head()"
   ]
  },
  {
   "cell_type": "markdown",
   "metadata": {},
   "source": [
    "We need in_time to match with the admission, and outtime to obtain the difference with dischtime and deathtime"
   ]
  },
  {
   "cell_type": "code",
   "execution_count": 59,
   "metadata": {},
   "outputs": [],
   "source": [
    "#Filter only patients in record list\n",
    "icu_stays = icu_stays[icu_stays.SUBJECT_ID.isin(patient_ids)]\n",
    "admissions = admissions[admissions.SUBJECT_ID.isin(patient_ids)]\n",
    "admissions = admissions[['SUBJECT_ID', 'ADMITTIME','DISCHTIME', 'DEATHTIME']]\n",
    "patient_data = icu_stays[['SUBJECT_ID', 'ICUSTAY_ID', 'INTIME', 'OUTTIME']]"
   ]
  },
  {
   "cell_type": "code",
   "execution_count": 60,
   "metadata": {},
   "outputs": [
    {
     "name": "stdout",
     "output_type": "stream",
     "text": [
      "50533\n",
      "2957\n"
     ]
    }
   ],
   "source": [
    "#merge based on subject_id\n",
    "all_data = patient_data.merge(admissions)\n",
    "print(len(all_data))\n",
    "print(len(all_data[all_data.DEATHTIME.isna()==False])) # how many died"
   ]
  },
  {
   "cell_type": "code",
   "execution_count": 61,
   "metadata": {},
   "outputs": [
    {
     "data": {
      "text/html": [
       "<div>\n",
       "<style scoped>\n",
       "    .dataframe tbody tr th:only-of-type {\n",
       "        vertical-align: middle;\n",
       "    }\n",
       "\n",
       "    .dataframe tbody tr th {\n",
       "        vertical-align: top;\n",
       "    }\n",
       "\n",
       "    .dataframe thead th {\n",
       "        text-align: right;\n",
       "    }\n",
       "</style>\n",
       "<table border=\"1\" class=\"dataframe\">\n",
       "  <thead>\n",
       "    <tr style=\"text-align: right;\">\n",
       "      <th></th>\n",
       "      <th>SUBJECT_ID</th>\n",
       "      <th>ICUSTAY_ID</th>\n",
       "      <th>INTIME</th>\n",
       "      <th>OUTTIME</th>\n",
       "      <th>ADMITTIME</th>\n",
       "      <th>DISCHTIME</th>\n",
       "      <th>DEATHTIME</th>\n",
       "    </tr>\n",
       "  </thead>\n",
       "  <tbody>\n",
       "    <tr>\n",
       "      <th>0</th>\n",
       "      <td>271</td>\n",
       "      <td>249196</td>\n",
       "      <td>2120-08-07 23:12:42</td>\n",
       "      <td>2120-08-10 00:39:04</td>\n",
       "      <td>2120-08-07 18:56:00</td>\n",
       "      <td>2120-08-20 16:00:00</td>\n",
       "      <td>NaT</td>\n",
       "    </tr>\n",
       "    <tr>\n",
       "      <th>1</th>\n",
       "      <td>279</td>\n",
       "      <td>204407</td>\n",
       "      <td>2164-06-14 21:18:27</td>\n",
       "      <td>2164-06-18 22:53:12</td>\n",
       "      <td>2164-06-13 19:19:00</td>\n",
       "      <td>2164-06-19 17:15:00</td>\n",
       "      <td>NaT</td>\n",
       "    </tr>\n",
       "    <tr>\n",
       "      <th>2</th>\n",
       "      <td>283</td>\n",
       "      <td>231490</td>\n",
       "      <td>2166-08-12 22:03:26</td>\n",
       "      <td>2166-09-12 14:41:42</td>\n",
       "      <td>2166-08-12 22:02:00</td>\n",
       "      <td>2166-09-12 14:41:00</td>\n",
       "      <td>NaT</td>\n",
       "    </tr>\n",
       "    <tr>\n",
       "      <th>3</th>\n",
       "      <td>283</td>\n",
       "      <td>231490</td>\n",
       "      <td>2166-08-12 22:03:26</td>\n",
       "      <td>2166-09-12 14:41:42</td>\n",
       "      <td>2166-10-02 15:36:00</td>\n",
       "      <td>2166-10-07 13:21:00</td>\n",
       "      <td>NaT</td>\n",
       "    </tr>\n",
       "    <tr>\n",
       "      <th>4</th>\n",
       "      <td>283</td>\n",
       "      <td>280531</td>\n",
       "      <td>2166-10-02 15:38:43</td>\n",
       "      <td>2166-10-07 13:22:00</td>\n",
       "      <td>2166-08-12 22:02:00</td>\n",
       "      <td>2166-09-12 14:41:00</td>\n",
       "      <td>NaT</td>\n",
       "    </tr>\n",
       "  </tbody>\n",
       "</table>\n",
       "</div>"
      ],
      "text/plain": [
       "   SUBJECT_ID  ICUSTAY_ID              INTIME             OUTTIME  \\\n",
       "0         271      249196 2120-08-07 23:12:42 2120-08-10 00:39:04   \n",
       "1         279      204407 2164-06-14 21:18:27 2164-06-18 22:53:12   \n",
       "2         283      231490 2166-08-12 22:03:26 2166-09-12 14:41:42   \n",
       "3         283      231490 2166-08-12 22:03:26 2166-09-12 14:41:42   \n",
       "4         283      280531 2166-10-02 15:38:43 2166-10-07 13:22:00   \n",
       "\n",
       "            ADMITTIME           DISCHTIME DEATHTIME  \n",
       "0 2120-08-07 18:56:00 2120-08-20 16:00:00       NaT  \n",
       "1 2164-06-13 19:19:00 2164-06-19 17:15:00       NaT  \n",
       "2 2166-08-12 22:02:00 2166-09-12 14:41:00       NaT  \n",
       "3 2166-10-02 15:36:00 2166-10-07 13:21:00       NaT  \n",
       "4 2166-08-12 22:02:00 2166-09-12 14:41:00       NaT  "
      ]
     },
     "execution_count": 61,
     "metadata": {},
     "output_type": "execute_result"
    }
   ],
   "source": [
    "all_data.head()"
   ]
  },
  {
   "cell_type": "markdown",
   "metadata": {},
   "source": [
    "Filter all data based on admitttime, intime and outtime"
   ]
  },
  {
   "cell_type": "code",
   "execution_count": 62,
   "metadata": {},
   "outputs": [],
   "source": [
    "all_data =all_data[all_data.INTIME>=all_data.ADMITTIME]\n",
    "all_data =all_data[(all_data.INTIME <= all_data.DISCHTIME) | (all_data.INTIME <= all_data.DEATHTIME)]"
   ]
  },
  {
   "cell_type": "code",
   "execution_count": 63,
   "metadata": {},
   "outputs": [
    {
     "data": {
      "text/html": [
       "<div>\n",
       "<style scoped>\n",
       "    .dataframe tbody tr th:only-of-type {\n",
       "        vertical-align: middle;\n",
       "    }\n",
       "\n",
       "    .dataframe tbody tr th {\n",
       "        vertical-align: top;\n",
       "    }\n",
       "\n",
       "    .dataframe thead th {\n",
       "        text-align: right;\n",
       "    }\n",
       "</style>\n",
       "<table border=\"1\" class=\"dataframe\">\n",
       "  <thead>\n",
       "    <tr style=\"text-align: right;\">\n",
       "      <th></th>\n",
       "      <th>SUBJECT_ID</th>\n",
       "      <th>ICUSTAY_ID</th>\n",
       "      <th>INTIME</th>\n",
       "      <th>OUTTIME</th>\n",
       "      <th>ADMITTIME</th>\n",
       "      <th>DISCHTIME</th>\n",
       "      <th>DEATHTIME</th>\n",
       "    </tr>\n",
       "  </thead>\n",
       "  <tbody>\n",
       "    <tr>\n",
       "      <th>0</th>\n",
       "      <td>271</td>\n",
       "      <td>249196</td>\n",
       "      <td>2120-08-07 23:12:42</td>\n",
       "      <td>2120-08-10 00:39:04</td>\n",
       "      <td>2120-08-07 18:56:00</td>\n",
       "      <td>2120-08-20 16:00:00</td>\n",
       "      <td>NaT</td>\n",
       "    </tr>\n",
       "    <tr>\n",
       "      <th>1</th>\n",
       "      <td>279</td>\n",
       "      <td>204407</td>\n",
       "      <td>2164-06-14 21:18:27</td>\n",
       "      <td>2164-06-18 22:53:12</td>\n",
       "      <td>2164-06-13 19:19:00</td>\n",
       "      <td>2164-06-19 17:15:00</td>\n",
       "      <td>NaT</td>\n",
       "    </tr>\n",
       "    <tr>\n",
       "      <th>2</th>\n",
       "      <td>283</td>\n",
       "      <td>231490</td>\n",
       "      <td>2166-08-12 22:03:26</td>\n",
       "      <td>2166-09-12 14:41:42</td>\n",
       "      <td>2166-08-12 22:02:00</td>\n",
       "      <td>2166-09-12 14:41:00</td>\n",
       "      <td>NaT</td>\n",
       "    </tr>\n",
       "    <tr>\n",
       "      <th>5</th>\n",
       "      <td>283</td>\n",
       "      <td>280531</td>\n",
       "      <td>2166-10-02 15:38:43</td>\n",
       "      <td>2166-10-07 13:22:00</td>\n",
       "      <td>2166-10-02 15:36:00</td>\n",
       "      <td>2166-10-07 13:21:00</td>\n",
       "      <td>NaT</td>\n",
       "    </tr>\n",
       "    <tr>\n",
       "      <th>6</th>\n",
       "      <td>292</td>\n",
       "      <td>222505</td>\n",
       "      <td>2103-09-27 18:29:30</td>\n",
       "      <td>2103-09-28 15:44:31</td>\n",
       "      <td>2103-09-27 18:28:00</td>\n",
       "      <td>2103-09-28 15:44:00</td>\n",
       "      <td>2103-09-28 15:44:00</td>\n",
       "    </tr>\n",
       "  </tbody>\n",
       "</table>\n",
       "</div>"
      ],
      "text/plain": [
       "   SUBJECT_ID  ICUSTAY_ID              INTIME             OUTTIME  \\\n",
       "0         271      249196 2120-08-07 23:12:42 2120-08-10 00:39:04   \n",
       "1         279      204407 2164-06-14 21:18:27 2164-06-18 22:53:12   \n",
       "2         283      231490 2166-08-12 22:03:26 2166-09-12 14:41:42   \n",
       "5         283      280531 2166-10-02 15:38:43 2166-10-07 13:22:00   \n",
       "6         292      222505 2103-09-27 18:29:30 2103-09-28 15:44:31   \n",
       "\n",
       "            ADMITTIME           DISCHTIME           DEATHTIME  \n",
       "0 2120-08-07 18:56:00 2120-08-20 16:00:00                 NaT  \n",
       "1 2164-06-13 19:19:00 2164-06-19 17:15:00                 NaT  \n",
       "2 2166-08-12 22:02:00 2166-09-12 14:41:00                 NaT  \n",
       "5 2166-10-02 15:36:00 2166-10-07 13:21:00                 NaT  \n",
       "6 2103-09-27 18:28:00 2103-09-28 15:44:00 2103-09-28 15:44:00  "
      ]
     },
     "execution_count": 63,
     "metadata": {},
     "output_type": "execute_result"
    }
   ],
   "source": [
    "all_data.head()"
   ]
  },
  {
   "cell_type": "markdown",
   "metadata": {},
   "source": [
    "Make column with time from outtime to death  (if patient died)"
   ]
  },
  {
   "cell_type": "code",
   "execution_count": 64,
   "metadata": {},
   "outputs": [],
   "source": [
    "all_data['TIME_TO_DEATH']= (all_data.DEATHTIME - all_data.OUTTIME)"
   ]
  },
  {
   "cell_type": "code",
   "execution_count": 65,
   "metadata": {},
   "outputs": [
    {
     "data": {
      "text/html": [
       "<div>\n",
       "<style scoped>\n",
       "    .dataframe tbody tr th:only-of-type {\n",
       "        vertical-align: middle;\n",
       "    }\n",
       "\n",
       "    .dataframe tbody tr th {\n",
       "        vertical-align: top;\n",
       "    }\n",
       "\n",
       "    .dataframe thead th {\n",
       "        text-align: right;\n",
       "    }\n",
       "</style>\n",
       "<table border=\"1\" class=\"dataframe\">\n",
       "  <thead>\n",
       "    <tr style=\"text-align: right;\">\n",
       "      <th></th>\n",
       "      <th>SUBJECT_ID</th>\n",
       "      <th>ICUSTAY_ID</th>\n",
       "      <th>INTIME</th>\n",
       "      <th>OUTTIME</th>\n",
       "      <th>ADMITTIME</th>\n",
       "      <th>DISCHTIME</th>\n",
       "      <th>DEATHTIME</th>\n",
       "      <th>TIME_TO_DEATH</th>\n",
       "    </tr>\n",
       "  </thead>\n",
       "  <tbody>\n",
       "    <tr>\n",
       "      <th>0</th>\n",
       "      <td>271</td>\n",
       "      <td>249196</td>\n",
       "      <td>2120-08-07 23:12:42</td>\n",
       "      <td>2120-08-10 00:39:04</td>\n",
       "      <td>2120-08-07 18:56:00</td>\n",
       "      <td>2120-08-20 16:00:00</td>\n",
       "      <td>NaT</td>\n",
       "      <td>NaT</td>\n",
       "    </tr>\n",
       "    <tr>\n",
       "      <th>1</th>\n",
       "      <td>279</td>\n",
       "      <td>204407</td>\n",
       "      <td>2164-06-14 21:18:27</td>\n",
       "      <td>2164-06-18 22:53:12</td>\n",
       "      <td>2164-06-13 19:19:00</td>\n",
       "      <td>2164-06-19 17:15:00</td>\n",
       "      <td>NaT</td>\n",
       "      <td>NaT</td>\n",
       "    </tr>\n",
       "    <tr>\n",
       "      <th>2</th>\n",
       "      <td>283</td>\n",
       "      <td>231490</td>\n",
       "      <td>2166-08-12 22:03:26</td>\n",
       "      <td>2166-09-12 14:41:42</td>\n",
       "      <td>2166-08-12 22:02:00</td>\n",
       "      <td>2166-09-12 14:41:00</td>\n",
       "      <td>NaT</td>\n",
       "      <td>NaT</td>\n",
       "    </tr>\n",
       "    <tr>\n",
       "      <th>5</th>\n",
       "      <td>283</td>\n",
       "      <td>280531</td>\n",
       "      <td>2166-10-02 15:38:43</td>\n",
       "      <td>2166-10-07 13:22:00</td>\n",
       "      <td>2166-10-02 15:36:00</td>\n",
       "      <td>2166-10-07 13:21:00</td>\n",
       "      <td>NaT</td>\n",
       "      <td>NaT</td>\n",
       "    </tr>\n",
       "    <tr>\n",
       "      <th>6</th>\n",
       "      <td>292</td>\n",
       "      <td>222505</td>\n",
       "      <td>2103-09-27 18:29:30</td>\n",
       "      <td>2103-09-28 15:44:31</td>\n",
       "      <td>2103-09-27 18:28:00</td>\n",
       "      <td>2103-09-28 15:44:00</td>\n",
       "      <td>2103-09-28 15:44:00</td>\n",
       "      <td>-1 days +23:59:29</td>\n",
       "    </tr>\n",
       "  </tbody>\n",
       "</table>\n",
       "</div>"
      ],
      "text/plain": [
       "   SUBJECT_ID  ICUSTAY_ID              INTIME             OUTTIME  \\\n",
       "0         271      249196 2120-08-07 23:12:42 2120-08-10 00:39:04   \n",
       "1         279      204407 2164-06-14 21:18:27 2164-06-18 22:53:12   \n",
       "2         283      231490 2166-08-12 22:03:26 2166-09-12 14:41:42   \n",
       "5         283      280531 2166-10-02 15:38:43 2166-10-07 13:22:00   \n",
       "6         292      222505 2103-09-27 18:29:30 2103-09-28 15:44:31   \n",
       "\n",
       "            ADMITTIME           DISCHTIME           DEATHTIME  \\\n",
       "0 2120-08-07 18:56:00 2120-08-20 16:00:00                 NaT   \n",
       "1 2164-06-13 19:19:00 2164-06-19 17:15:00                 NaT   \n",
       "2 2166-08-12 22:02:00 2166-09-12 14:41:00                 NaT   \n",
       "5 2166-10-02 15:36:00 2166-10-07 13:21:00                 NaT   \n",
       "6 2103-09-27 18:28:00 2103-09-28 15:44:00 2103-09-28 15:44:00   \n",
       "\n",
       "      TIME_TO_DEATH  \n",
       "0               NaT  \n",
       "1               NaT  \n",
       "2               NaT  \n",
       "5               NaT  \n",
       "6 -1 days +23:59:29  "
      ]
     },
     "execution_count": 65,
     "metadata": {},
     "output_type": "execute_result"
    }
   ],
   "source": [
    "all_data.head()"
   ]
  },
  {
   "cell_type": "code",
   "execution_count": 66,
   "metadata": {},
   "outputs": [
    {
     "name": "stdout",
     "output_type": "stream",
     "text": [
      "-31 days +00:00:00\n",
      "149 days 07:59:37\n"
     ]
    }
   ],
   "source": [
    "print(all_data.TIME_TO_DEATH.min())\n",
    "print(all_data.TIME_TO_DEATH.max())"
   ]
  },
  {
   "cell_type": "markdown",
   "metadata": {},
   "source": [
    "Hypothesis:\n",
    "149 days: one admission, several in and out from icu, died in the last one \n",
    "-31 days? "
   ]
  },
  {
   "cell_type": "code",
   "execution_count": 67,
   "metadata": {},
   "outputs": [],
   "source": [
    "#error data\n",
    "all_data[all_data.TIME_TO_DEATH < '-2 days']\n",
    "#delete if deathtime is before intime\n",
    "all_data = all_data[(all_data.DEATHTIME>all_data.INTIME) | (all_data.DISCHTIME>all_data.INTIME)] #change filter deathtime or discharge"
   ]
  },
  {
   "cell_type": "code",
   "execution_count": 68,
   "metadata": {},
   "outputs": [
    {
     "data": {
      "text/html": [
       "<div>\n",
       "<style scoped>\n",
       "    .dataframe tbody tr th:only-of-type {\n",
       "        vertical-align: middle;\n",
       "    }\n",
       "\n",
       "    .dataframe tbody tr th {\n",
       "        vertical-align: top;\n",
       "    }\n",
       "\n",
       "    .dataframe thead th {\n",
       "        text-align: right;\n",
       "    }\n",
       "</style>\n",
       "<table border=\"1\" class=\"dataframe\">\n",
       "  <thead>\n",
       "    <tr style=\"text-align: right;\">\n",
       "      <th></th>\n",
       "      <th>SUBJECT_ID</th>\n",
       "      <th>ICUSTAY_ID</th>\n",
       "      <th>INTIME</th>\n",
       "      <th>OUTTIME</th>\n",
       "      <th>ADMITTIME</th>\n",
       "      <th>DISCHTIME</th>\n",
       "      <th>DEATHTIME</th>\n",
       "      <th>TIME_TO_DEATH</th>\n",
       "    </tr>\n",
       "  </thead>\n",
       "  <tbody>\n",
       "    <tr>\n",
       "      <th>5284</th>\n",
       "      <td>4331</td>\n",
       "      <td>265287</td>\n",
       "      <td>2142-11-02 11:23:09</td>\n",
       "      <td>2142-11-11 02:42:51</td>\n",
       "      <td>2142-11-02 11:22:00</td>\n",
       "      <td>2142-11-07 01:30:00</td>\n",
       "      <td>2142-11-07 01:30:00</td>\n",
       "      <td>-5 days +22:47:09</td>\n",
       "    </tr>\n",
       "    <tr>\n",
       "      <th>7451</th>\n",
       "      <td>6800</td>\n",
       "      <td>265008</td>\n",
       "      <td>2177-12-30 01:50:00</td>\n",
       "      <td>2178-01-01 19:41:00</td>\n",
       "      <td>2177-12-29 21:33:00</td>\n",
       "      <td>2178-01-01 19:41:00</td>\n",
       "      <td>2177-12-01 19:41:00</td>\n",
       "      <td>-31 days +00:00:00</td>\n",
       "    </tr>\n",
       "    <tr>\n",
       "      <th>10225</th>\n",
       "      <td>11347</td>\n",
       "      <td>263047</td>\n",
       "      <td>2164-03-09 10:59:59</td>\n",
       "      <td>2164-03-15 20:45:57</td>\n",
       "      <td>2164-03-09 10:56:00</td>\n",
       "      <td>2164-03-15 15:30:00</td>\n",
       "      <td>2164-03-08 15:30:00</td>\n",
       "      <td>-8 days +18:44:03</td>\n",
       "    </tr>\n",
       "  </tbody>\n",
       "</table>\n",
       "</div>"
      ],
      "text/plain": [
       "       SUBJECT_ID  ICUSTAY_ID              INTIME             OUTTIME  \\\n",
       "5284         4331      265287 2142-11-02 11:23:09 2142-11-11 02:42:51   \n",
       "7451         6800      265008 2177-12-30 01:50:00 2178-01-01 19:41:00   \n",
       "10225       11347      263047 2164-03-09 10:59:59 2164-03-15 20:45:57   \n",
       "\n",
       "                ADMITTIME           DISCHTIME           DEATHTIME  \\\n",
       "5284  2142-11-02 11:22:00 2142-11-07 01:30:00 2142-11-07 01:30:00   \n",
       "7451  2177-12-29 21:33:00 2178-01-01 19:41:00 2177-12-01 19:41:00   \n",
       "10225 2164-03-09 10:56:00 2164-03-15 15:30:00 2164-03-08 15:30:00   \n",
       "\n",
       "           TIME_TO_DEATH  \n",
       "5284   -5 days +22:47:09  \n",
       "7451  -31 days +00:00:00  \n",
       "10225  -8 days +18:44:03  "
      ]
     },
     "execution_count": 68,
     "metadata": {},
     "output_type": "execute_result"
    }
   ],
   "source": [
    "#Weird data\n",
    "all_data[all_data.TIME_TO_DEATH < '-3 days']"
   ]
  },
  {
   "cell_type": "code",
   "execution_count": 69,
   "metadata": {},
   "outputs": [
    {
     "name": "stdout",
     "output_type": "stream",
     "text": [
      "4 days 11:25:16.159566\n",
      "108 days 14:48:07\n",
      "0 days 00:00:12\n",
      "17159\n",
      "1677\n"
     ]
    }
   ],
   "source": [
    "#mean duration of signal\n",
    "all_data['SIGNAL_DURATION'] = all_data.OUTTIME - all_data.INTIME\n",
    "print(np.mean(all_data['SIGNAL_DURATION']))\n",
    "print(np.max(all_data['SIGNAL_DURATION']))\n",
    "print(np.min(all_data['SIGNAL_DURATION']))\n",
    "\n",
    "print(len(all_data))\n",
    "print(len(all_data[all_data.DEATHTIME.isna()==False])) # how many died"
   ]
  },
  {
   "cell_type": "code",
   "execution_count": 70,
   "metadata": {},
   "outputs": [
    {
     "name": "stdout",
     "output_type": "stream",
     "text": [
      "4 days 11:54:50.801861\n",
      "108 days 14:48:07\n",
      "0 days 05:07:00\n",
      "17079\n",
      "1664\n"
     ]
    }
   ],
   "source": [
    "all_data = all_data[all_data.SIGNAL_DURATION > pd.Timedelta('5hour')]\n",
    "print(np.mean(all_data['SIGNAL_DURATION']))\n",
    "print(np.max(all_data['SIGNAL_DURATION']))\n",
    "print(np.min(all_data['SIGNAL_DURATION']))\n",
    "\n",
    "print(len(all_data))\n",
    "print(len(all_data[all_data.DEATHTIME.isna()==False])) # how many died"
   ]
  },
  {
   "cell_type": "code",
   "execution_count": 71,
   "metadata": {},
   "outputs": [
    {
     "data": {
      "text/html": [
       "<div>\n",
       "<style scoped>\n",
       "    .dataframe tbody tr th:only-of-type {\n",
       "        vertical-align: middle;\n",
       "    }\n",
       "\n",
       "    .dataframe tbody tr th {\n",
       "        vertical-align: top;\n",
       "    }\n",
       "\n",
       "    .dataframe thead th {\n",
       "        text-align: right;\n",
       "    }\n",
       "</style>\n",
       "<table border=\"1\" class=\"dataframe\">\n",
       "  <thead>\n",
       "    <tr style=\"text-align: right;\">\n",
       "      <th></th>\n",
       "      <th>file</th>\n",
       "      <th>Patient_ID</th>\n",
       "      <th>start</th>\n",
       "      <th>length</th>\n",
       "    </tr>\n",
       "  </thead>\n",
       "  <tbody>\n",
       "    <tr>\n",
       "      <th>0</th>\n",
       "      <td>p000020-2183-04-28-17-47</td>\n",
       "      <td>20</td>\n",
       "      <td>2183-04-30 16:00:00</td>\n",
       "      <td>9862593</td>\n",
       "    </tr>\n",
       "    <tr>\n",
       "      <th>1</th>\n",
       "      <td>p000030-2172-10-16-12-22</td>\n",
       "      <td>30</td>\n",
       "      <td>2172-10-17 10:00:00</td>\n",
       "      <td>450000</td>\n",
       "    </tr>\n",
       "    <tr>\n",
       "      <th>2</th>\n",
       "      <td>p000033-2116-12-24-12-35</td>\n",
       "      <td>33</td>\n",
       "      <td>2116-12-25 23:00:00</td>\n",
       "      <td>10102500</td>\n",
       "    </tr>\n",
       "    <tr>\n",
       "      <th>3</th>\n",
       "      <td>p000033-2116-12-25-13-11</td>\n",
       "      <td>33</td>\n",
       "      <td>2116-12-26 00:00:00</td>\n",
       "      <td>390219</td>\n",
       "    </tr>\n",
       "    <tr>\n",
       "      <th>4</th>\n",
       "      <td>p000052-2191-01-10-02-21</td>\n",
       "      <td>52</td>\n",
       "      <td>2191-01-10 23:00:00</td>\n",
       "      <td>3886370</td>\n",
       "    </tr>\n",
       "  </tbody>\n",
       "</table>\n",
       "</div>"
      ],
      "text/plain": [
       "                       file  Patient_ID               start    length\n",
       "0  p000020-2183-04-28-17-47          20 2183-04-30 16:00:00   9862593\n",
       "1  p000030-2172-10-16-12-22          30 2172-10-17 10:00:00    450000\n",
       "2  p000033-2116-12-24-12-35          33 2116-12-25 23:00:00  10102500\n",
       "3  p000033-2116-12-25-13-11          33 2116-12-26 00:00:00    390219\n",
       "4  p000052-2191-01-10-02-21          52 2191-01-10 23:00:00   3886370"
      ]
     },
     "execution_count": 71,
     "metadata": {},
     "output_type": "execute_result"
    }
   ],
   "source": [
    "signal_data = pd.read_csv('signal_data.csv', header=[0], index_col=[0])\n",
    "signal_data['start']=pd.to_datetime(signal_data['start'])\n",
    "signal_data.head()"
   ]
  },
  {
   "cell_type": "code",
   "execution_count": 72,
   "metadata": {},
   "outputs": [
    {
     "data": {
      "text/html": [
       "<div>\n",
       "<style scoped>\n",
       "    .dataframe tbody tr th:only-of-type {\n",
       "        vertical-align: middle;\n",
       "    }\n",
       "\n",
       "    .dataframe tbody tr th {\n",
       "        vertical-align: top;\n",
       "    }\n",
       "\n",
       "    .dataframe thead th {\n",
       "        text-align: right;\n",
       "    }\n",
       "</style>\n",
       "<table border=\"1\" class=\"dataframe\">\n",
       "  <thead>\n",
       "    <tr style=\"text-align: right;\">\n",
       "      <th></th>\n",
       "      <th>file</th>\n",
       "      <th>Patient_ID</th>\n",
       "      <th>start</th>\n",
       "      <th>length</th>\n",
       "      <th>f_signal_duration</th>\n",
       "    </tr>\n",
       "  </thead>\n",
       "  <tbody>\n",
       "    <tr>\n",
       "      <th>0</th>\n",
       "      <td>p000020-2183-04-28-17-47</td>\n",
       "      <td>20</td>\n",
       "      <td>2183-04-30 16:00:00</td>\n",
       "      <td>9862593</td>\n",
       "      <td>21.916873</td>\n",
       "    </tr>\n",
       "    <tr>\n",
       "      <th>1</th>\n",
       "      <td>p000030-2172-10-16-12-22</td>\n",
       "      <td>30</td>\n",
       "      <td>2172-10-17 10:00:00</td>\n",
       "      <td>450000</td>\n",
       "      <td>1.000000</td>\n",
       "    </tr>\n",
       "    <tr>\n",
       "      <th>2</th>\n",
       "      <td>p000033-2116-12-24-12-35</td>\n",
       "      <td>33</td>\n",
       "      <td>2116-12-25 23:00:00</td>\n",
       "      <td>10102500</td>\n",
       "      <td>22.450000</td>\n",
       "    </tr>\n",
       "    <tr>\n",
       "      <th>3</th>\n",
       "      <td>p000033-2116-12-25-13-11</td>\n",
       "      <td>33</td>\n",
       "      <td>2116-12-26 00:00:00</td>\n",
       "      <td>390219</td>\n",
       "      <td>0.867153</td>\n",
       "    </tr>\n",
       "    <tr>\n",
       "      <th>4</th>\n",
       "      <td>p000052-2191-01-10-02-21</td>\n",
       "      <td>52</td>\n",
       "      <td>2191-01-10 23:00:00</td>\n",
       "      <td>3886370</td>\n",
       "      <td>8.636378</td>\n",
       "    </tr>\n",
       "  </tbody>\n",
       "</table>\n",
       "</div>"
      ],
      "text/plain": [
       "                       file  Patient_ID               start    length  \\\n",
       "0  p000020-2183-04-28-17-47          20 2183-04-30 16:00:00   9862593   \n",
       "1  p000030-2172-10-16-12-22          30 2172-10-17 10:00:00    450000   \n",
       "2  p000033-2116-12-24-12-35          33 2116-12-25 23:00:00  10102500   \n",
       "3  p000033-2116-12-25-13-11          33 2116-12-26 00:00:00    390219   \n",
       "4  p000052-2191-01-10-02-21          52 2191-01-10 23:00:00   3886370   \n",
       "\n",
       "   f_signal_duration  \n",
       "0          21.916873  \n",
       "1           1.000000  \n",
       "2          22.450000  \n",
       "3           0.867153  \n",
       "4           8.636378  "
      ]
     },
     "execution_count": 72,
     "metadata": {},
     "output_type": "execute_result"
    }
   ],
   "source": [
    "signal_data['f_signal_duration']=signal_data['length']/(125*3600)\n",
    "signal_data.head()"
   ]
  },
  {
   "cell_type": "code",
   "execution_count": 32,
   "metadata": {},
   "outputs": [],
   "source": [
    "#join mimic and signal data based on subject_id and patient_id, start is between in time and out time\n",
    "df = pd.merge(all_data, signal_data, how='inner', left_on='SUBJECT_ID', right_on='Patient_ID')\n",
    "df = df[(df['start']>=df['INTIME']) & (df['start']<=df['OUTTIME'])]"
   ]
  },
  {
   "cell_type": "code",
   "execution_count": 75,
   "metadata": {},
   "outputs": [
    {
     "data": {
      "text/html": [
       "<div>\n",
       "<style scoped>\n",
       "    .dataframe tbody tr th:only-of-type {\n",
       "        vertical-align: middle;\n",
       "    }\n",
       "\n",
       "    .dataframe tbody tr th {\n",
       "        vertical-align: top;\n",
       "    }\n",
       "\n",
       "    .dataframe thead th {\n",
       "        text-align: right;\n",
       "    }\n",
       "</style>\n",
       "<table border=\"1\" class=\"dataframe\">\n",
       "  <thead>\n",
       "    <tr style=\"text-align: right;\">\n",
       "      <th></th>\n",
       "      <th>SUBJECT_ID</th>\n",
       "      <th>ICUSTAY_ID</th>\n",
       "      <th>INTIME</th>\n",
       "      <th>OUTTIME</th>\n",
       "      <th>ADMITTIME</th>\n",
       "      <th>DISCHTIME</th>\n",
       "      <th>DEATHTIME</th>\n",
       "      <th>TIME_TO_DEATH</th>\n",
       "      <th>SIGNAL_DURATION</th>\n",
       "      <th>file</th>\n",
       "      <th>Patient_ID</th>\n",
       "      <th>start</th>\n",
       "      <th>length</th>\n",
       "      <th>f_signal_duration</th>\n",
       "      <th>end_of_signal</th>\n",
       "      <th>s_time_to_death</th>\n",
       "      <th>download_end</th>\n",
       "      <th>download_start</th>\n",
       "      <th>download_end_idx</th>\n",
       "      <th>download_start_idx</th>\n",
       "    </tr>\n",
       "  </thead>\n",
       "  <tbody>\n",
       "    <tr>\n",
       "      <th>0</th>\n",
       "      <td>279</td>\n",
       "      <td>204407</td>\n",
       "      <td>2164-06-14 21:18:27</td>\n",
       "      <td>2164-06-18 22:53:12</td>\n",
       "      <td>2164-06-13 19:19:00</td>\n",
       "      <td>2164-06-19 17:15:00</td>\n",
       "      <td>NaT</td>\n",
       "      <td>NaT</td>\n",
       "      <td>4 days 01:34:45</td>\n",
       "      <td>p000279-2164-06-14-21-22</td>\n",
       "      <td>279</td>\n",
       "      <td>2164-06-15 19:00:00</td>\n",
       "      <td>43600234</td>\n",
       "      <td>96.889409</td>\n",
       "      <td>2164-06-19 19:53:21.872400</td>\n",
       "      <td>NaN</td>\n",
       "      <td>2164-06-19 19:53:21.872400</td>\n",
       "      <td>2164-06-19 15:53:21.872400</td>\n",
       "      <td>43600125</td>\n",
       "      <td>41800125</td>\n",
       "    </tr>\n",
       "    <tr>\n",
       "      <th>1</th>\n",
       "      <td>283</td>\n",
       "      <td>231490</td>\n",
       "      <td>2166-08-12 22:03:26</td>\n",
       "      <td>2166-09-12 14:41:42</td>\n",
       "      <td>2166-08-12 22:02:00</td>\n",
       "      <td>2166-09-12 14:41:00</td>\n",
       "      <td>NaT</td>\n",
       "      <td>NaT</td>\n",
       "      <td>30 days 16:38:16</td>\n",
       "      <td>p000283-2166-09-11-13-16</td>\n",
       "      <td>283</td>\n",
       "      <td>2166-09-12 05:00:00</td>\n",
       "      <td>10620020</td>\n",
       "      <td>23.600044</td>\n",
       "      <td>2166-09-13 04:36:00.158400</td>\n",
       "      <td>NaN</td>\n",
       "      <td>2166-09-13 04:36:00.158400</td>\n",
       "      <td>2166-09-13 00:36:00.158400</td>\n",
       "      <td>10620000</td>\n",
       "      <td>8820000</td>\n",
       "    </tr>\n",
       "    <tr>\n",
       "      <th>6</th>\n",
       "      <td>301</td>\n",
       "      <td>288401</td>\n",
       "      <td>2189-11-11 12:12:33</td>\n",
       "      <td>2189-11-13 22:11:28</td>\n",
       "      <td>2189-11-10 16:39:00</td>\n",
       "      <td>2189-11-18 14:43:00</td>\n",
       "      <td>NaT</td>\n",
       "      <td>NaT</td>\n",
       "      <td>2 days 09:58:55</td>\n",
       "      <td>p000301-2189-11-11-09-04</td>\n",
       "      <td>301</td>\n",
       "      <td>2189-11-11 13:00:00</td>\n",
       "      <td>27443625</td>\n",
       "      <td>60.985833</td>\n",
       "      <td>2189-11-14 01:59:08.998800</td>\n",
       "      <td>NaN</td>\n",
       "      <td>2189-11-14 01:59:08.998800</td>\n",
       "      <td>2189-11-13 21:59:08.998800</td>\n",
       "      <td>27443500</td>\n",
       "      <td>25643500</td>\n",
       "    </tr>\n",
       "    <tr>\n",
       "      <th>10</th>\n",
       "      <td>302</td>\n",
       "      <td>249750</td>\n",
       "      <td>2133-03-29 02:34:11</td>\n",
       "      <td>2133-03-30 22:50:35</td>\n",
       "      <td>2133-03-29 02:33:00</td>\n",
       "      <td>2133-04-01 12:15:00</td>\n",
       "      <td>NaT</td>\n",
       "      <td>NaT</td>\n",
       "      <td>1 days 20:16:24</td>\n",
       "      <td>p000302-2133-03-29-12-27</td>\n",
       "      <td>302</td>\n",
       "      <td>2133-03-30 15:00:00</td>\n",
       "      <td>39202852</td>\n",
       "      <td>87.117449</td>\n",
       "      <td>2133-04-03 06:07:02.816400</td>\n",
       "      <td>NaN</td>\n",
       "      <td>2133-04-03 06:07:02.816400</td>\n",
       "      <td>2133-04-03 02:07:02.816400</td>\n",
       "      <td>39202750</td>\n",
       "      <td>37402750</td>\n",
       "    </tr>\n",
       "    <tr>\n",
       "      <th>11</th>\n",
       "      <td>308</td>\n",
       "      <td>283522</td>\n",
       "      <td>2135-09-04 12:54:00</td>\n",
       "      <td>2135-09-30 16:35:00</td>\n",
       "      <td>2135-09-02 23:07:00</td>\n",
       "      <td>2135-10-20 11:53:00</td>\n",
       "      <td>NaT</td>\n",
       "      <td>NaT</td>\n",
       "      <td>26 days 03:41:00</td>\n",
       "      <td>p000308-2135-09-04-12-57</td>\n",
       "      <td>308</td>\n",
       "      <td>2135-09-06 21:00:00</td>\n",
       "      <td>24725829</td>\n",
       "      <td>54.946287</td>\n",
       "      <td>2135-09-09 03:56:46.633200</td>\n",
       "      <td>NaN</td>\n",
       "      <td>2135-09-09 03:56:46.633200</td>\n",
       "      <td>2135-09-08 23:56:46.633200</td>\n",
       "      <td>24725750</td>\n",
       "      <td>22925750</td>\n",
       "    </tr>\n",
       "  </tbody>\n",
       "</table>\n",
       "</div>"
      ],
      "text/plain": [
       "    SUBJECT_ID  ICUSTAY_ID              INTIME             OUTTIME  \\\n",
       "0          279      204407 2164-06-14 21:18:27 2164-06-18 22:53:12   \n",
       "1          283      231490 2166-08-12 22:03:26 2166-09-12 14:41:42   \n",
       "6          301      288401 2189-11-11 12:12:33 2189-11-13 22:11:28   \n",
       "10         302      249750 2133-03-29 02:34:11 2133-03-30 22:50:35   \n",
       "11         308      283522 2135-09-04 12:54:00 2135-09-30 16:35:00   \n",
       "\n",
       "             ADMITTIME           DISCHTIME DEATHTIME TIME_TO_DEATH  \\\n",
       "0  2164-06-13 19:19:00 2164-06-19 17:15:00       NaT           NaT   \n",
       "1  2166-08-12 22:02:00 2166-09-12 14:41:00       NaT           NaT   \n",
       "6  2189-11-10 16:39:00 2189-11-18 14:43:00       NaT           NaT   \n",
       "10 2133-03-29 02:33:00 2133-04-01 12:15:00       NaT           NaT   \n",
       "11 2135-09-02 23:07:00 2135-10-20 11:53:00       NaT           NaT   \n",
       "\n",
       "    SIGNAL_DURATION                      file  Patient_ID               start  \\\n",
       "0   4 days 01:34:45  p000279-2164-06-14-21-22         279 2164-06-15 19:00:00   \n",
       "1  30 days 16:38:16  p000283-2166-09-11-13-16         283 2166-09-12 05:00:00   \n",
       "6   2 days 09:58:55  p000301-2189-11-11-09-04         301 2189-11-11 13:00:00   \n",
       "10  1 days 20:16:24  p000302-2133-03-29-12-27         302 2133-03-30 15:00:00   \n",
       "11 26 days 03:41:00  p000308-2135-09-04-12-57         308 2135-09-06 21:00:00   \n",
       "\n",
       "      length  f_signal_duration              end_of_signal  s_time_to_death  \\\n",
       "0   43600234          96.889409 2164-06-19 19:53:21.872400              NaN   \n",
       "1   10620020          23.600044 2166-09-13 04:36:00.158400              NaN   \n",
       "6   27443625          60.985833 2189-11-14 01:59:08.998800              NaN   \n",
       "10  39202852          87.117449 2133-04-03 06:07:02.816400              NaN   \n",
       "11  24725829          54.946287 2135-09-09 03:56:46.633200              NaN   \n",
       "\n",
       "                 download_end             download_start  download_end_idx  \\\n",
       "0  2164-06-19 19:53:21.872400 2164-06-19 15:53:21.872400          43600125   \n",
       "1  2166-09-13 04:36:00.158400 2166-09-13 00:36:00.158400          10620000   \n",
       "6  2189-11-14 01:59:08.998800 2189-11-13 21:59:08.998800          27443500   \n",
       "10 2133-04-03 06:07:02.816400 2133-04-03 02:07:02.816400          39202750   \n",
       "11 2135-09-09 03:56:46.633200 2135-09-08 23:56:46.633200          24725750   \n",
       "\n",
       "    download_start_idx  \n",
       "0             41800125  \n",
       "1              8820000  \n",
       "6             25643500  \n",
       "10            37402750  \n",
       "11            22925750  "
      ]
     },
     "execution_count": 75,
     "metadata": {},
     "output_type": "execute_result"
    }
   ],
   "source": [
    "#get signal > 5horas\n",
    "df = df[df.f_signal_duration>=5]\n",
    "df['end_of_signal'] = df['start']+pd.to_timedelta(df['f_signal_duration'], unit='h')\n",
    "#time from end of signal to time of death\n",
    "df['s_time_to_death']= pd.to_timedelta(df.DEATHTIME-df.end_of_signal).dt.total_seconds()//3600\n",
    "\n",
    "#calculate start and end of download signal\n",
    "#end: min between 4 hours before dying and end of signal\n",
    "#start: 4 hours before end\n",
    "\n",
    "df['download_end']=np.minimum(df.DEATHTIME-pd.Timedelta('1h'), df.end_of_signal)\n",
    "df['download_start']=df['download_end']-pd.Timedelta('4h')\n",
    "\n",
    "#convert to index --- time since signal start in seconds *125 to int\n",
    "df['download_end_idx']=pd.to_timedelta(df['download_end']-df['start']).dt.total_seconds().astype(int)*125\n",
    "df['download_start_idx']=pd.to_timedelta(df['download_start']-df['start']).dt.total_seconds().astype(int)*125\n",
    "\n",
    "df = df[df.download_end_idx>0]\n",
    "df = df[df.download_start_idx>0]\n",
    "\n",
    "df.head()"
   ]
  },
  {
   "cell_type": "code",
   "execution_count": 76,
   "metadata": {},
   "outputs": [
    {
     "data": {
      "text/plain": [
       "(-200, 1000)"
      ]
     },
     "execution_count": 76,
     "metadata": {},
     "output_type": "execute_result"
    },
    {
     "data": {
      "image/png": "[encoded data removed]",
      "text/plain": [
       "<Figure size 1080x360 with 1 Axes>"
      ]
     },
     "metadata": {},
     "output_type": "display_data"
    }
   ],
   "source": [
    "import seaborn as sns\n",
    "died_data = df[pd.notna(df.DEATHTIME)]\n",
    "sns.set(rc={'figure.figsize':(15, 5)})\n",
    "\n",
    "ax= sns.distplot(died_data.s_time_to_death, axlabel='time to death in hours', bins=200)\n",
    "ax.xaxis.set_ticks(np.arange(-150, 1000, 30))\n",
    "ax.set_xlim(-200,1000)"
   ]
  },
  {
   "cell_type": "code",
   "execution_count": 77,
   "metadata": {},
   "outputs": [
    {
     "data": {
      "text/plain": [
       "461"
      ]
     },
     "execution_count": 77,
     "metadata": {},
     "output_type": "execute_result"
    }
   ],
   "source": [
    "len(died_data[(died_data.s_time_to_death > -30) & (died_data.s_time_to_death < 30)])"
   ]
  },
  {
   "cell_type": "code",
   "execution_count": 78,
   "metadata": {},
   "outputs": [
    {
     "name": "stdout",
     "output_type": "stream",
     "text": [
      "11550\n",
      "1543\n",
      "10007\n"
     ]
    }
   ],
   "source": [
    "print(len(df))\n",
    "print(len(df[df.DEATHTIME.isna()==False])) # how many died\n",
    "print(len(df[df.DEATHTIME.isna()==True])) # how many not dead"
   ]
  },
  {
   "cell_type": "code",
   "execution_count": 79,
   "metadata": {},
   "outputs": [],
   "source": [
    "from  sklearn.utils import random as random\n",
    "\n",
    "dead = died_data[(died_data.s_time_to_death > -30) & (died_data.s_time_to_death < 30)]\n",
    "\n",
    "not_died = df[pd.isna(df.DEATHTIME)]\n",
    "population_size = len(not_died)\n",
    "sample_size= 3*len(dead) #TODO make multiple of how many died\n",
    "not_died_keep_idx = random.sample_without_replacement(population_size, sample_size)\n",
    "\n",
    "not_died = not_died.iloc[not_died_keep_idx]"
   ]
  },
  {
   "cell_type": "code",
   "execution_count": 81,
   "metadata": {},
   "outputs": [],
   "source": [
    "#save data\n",
    "dead.to_csv('died_data.csv')\n",
    "not_died.to_csv('not_died_data.csv')"
   ]
  },
  {
   "cell_type": "code",
   "execution_count": 82,
   "metadata": {},
   "outputs": [
    {
     "data": {
      "text/plain": [
       "1383"
      ]
     },
     "execution_count": 82,
     "metadata": {},
     "output_type": "execute_result"
    }
   ],
   "source": [
    "sample_size"
   ]
  },
  {
   "cell_type": "markdown",
   "metadata": {},
   "source": [
    "# MAKE FILES"
   ]
  },
  {
   "cell_type": "code",
   "execution_count": null,
   "metadata": {},
   "outputs": [],
   "source": [
    "#old ----\n",
    "#save into a pandas dataframe hrs and deathtime? \n",
    "df = pd.DataFrame()\n",
    "list_hrs = []\n",
    "list_deathtime = []\n",
    "list_admission = []\n",
    "date_time=pd.Timedelta(days=1)\n",
    "#for each subject\n",
    "for i, record in enumerate(record_list):\n",
    "    files = list(filter( lambda x : x.startswith('p') and not x.endswith('n'),wfdb.get_record_list('mimic3wdb/matched/'+record)))\n",
    "    #for each record (file)\n",
    "    patient = patient_ids[i]\n",
    "    for file in files:\n",
    "        date = pd.to_datetime(file[8:])\n",
    "        admission = admissions[(admissions.SUBJECT_ID==int(patient)) & (admissions.ADMITTIME <= date) & (admissions.DISCHTIME >= date) ]\n",
    "        died = admission.DEATHTIME\n",
    "        record_signal = wfdb.rdrecord(file, pb_dir='mimic3wdb/matched/'+record, channel_names=['II'])\n",
    "        #record_signal = np.nan_to_num(record_signal)\n",
    "        if record_signal is not None:\n",
    "            peak_inds=processing.gqrs_detect(sig=np.nan_to_num(record_signal.p_signal[:,0]), fs=record_signal.fs)\n",
    "            hrs = processing.compute_hr(sig_len=record_signal.p_signal.shape[0], qrs_inds=peak_inds, fs=record_signal.fs)\n",
    "            list_hrs.append(hrs)\n",
    "            list_admission.append(admission)"
   ]
  },
  {
   "cell_type": "code",
   "execution_count": null,
   "metadata": {},
   "outputs": [],
   "source": []
  }
 ],
 "metadata": {
  "kernelspec": {
   "display_name": "Python 3",
   "language": "python",
   "name": "python3"
  },
  "language_info": {
   "codemirror_mode": {
    "name": "ipython",
    "version": 3
   },
   "file_extension": ".py",
   "mimetype": "text/x-python",
   "name": "python",
   "nbconvert_exporter": "python",
   "pygments_lexer": "ipython3",
   "version": "3.6.5"
  }
 },
 "nbformat": 4,
 "nbformat_minor": 2
}
